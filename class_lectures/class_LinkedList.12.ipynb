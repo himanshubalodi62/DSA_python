{
 "cells": [
  {
   "cell_type": "markdown",
   "id": "357ea31a",
   "metadata": {},
   "source": [
    " **Question 1**\n",
    "\n",
    "There is a singly-linked list `head` and we want to delete a node `node` in it.\n",
    "\n",
    "You are given the node to be deleted `node`. You will **not be given access** to the first node of `head`.\n",
    "\n",
    "All the values of the linked list are **unique**, and it is guaranteed that the given node `node` is not the last node in the linked list.\n",
    "\n",
    "Delete the given node. Note that by deleting the node, we do not mean removing it from memory. We mean:\n",
    "\n",
    "- The value of the given node should not exist in the linked list.\n",
    "- The number of nodes in the linked list should decrease by one.\n",
    "- All the values before `node` should be in the same order.\n",
    "- All the values after `node` should be in the same order.\n",
    "\n",
    "**Custom testing:**\n",
    "\n",
    "- For the input, you should provide the entire linked list `head` and the node to be given `node`. `node` should not be the last node of the list and should be an actual node in the list.\n",
    "- We will build the linked list and pass the node to your function.\n",
    "- The output will be the entire list after calling your function.\n",
    "</aside>"
   ]
  },
  {
   "cell_type": "markdown",
   "id": "9227cb27",
   "metadata": {},
   "source": [
    "<img src=\"https://pwskills.notion.site/image/https%3A%2F%2Fassets.leetcode.com%2Fuploads%2F2020%2F09%2F01%2Fnode1.jpg?id=72c559d0-c5be-43f6-9fcd-38362be20ed5&table=block&spaceId=6fae2e0f-dedc-48e9-bc59-af2654c78209&width=800&userId=&cache=v2\" width=\"800\" height=\"200\"/>"
   ]
  },
  {
   "cell_type": "markdown",
   "id": "92b0b06b",
   "metadata": {},
   "source": [
    "Input: head = [4,5,1,9], node = 5\n",
    "\n",
    "Output: [4,1,9]\n",
    "\n",
    "Explanation:You are given the second node with value 5, the linked list should become 4 -> 1 -> 9 after calling your function."
   ]
  },
  {
   "cell_type": "markdown",
   "id": "90236aca",
   "metadata": {},
   "source": [
    "<aside>\n",
    "💡 **Question 1**\n",
    "\n",
    "There is a singly-linked list `head` and we want to delete a node `node` in it.\n",
    "\n",
    "You are given the node to be deleted `node`. You will **not be given access** to the first node of `head`.\n",
    "\n",
    "All the values of the linked list are **unique**, and it is guaranteed that the given node `node` is not the last node in the linked list.\n",
    "\n",
    "Delete the given node. Note that by deleting the node, we do not mean removing it from memory. We mean:\n",
    "\n",
    "- The value of the given node should not exist in the linked list.\n",
    "- The number of nodes in the linked list should decrease by one.\n",
    "- All the values before `node` should be in the same order.\n",
    "- All the values after `node` should be in the same order.\n",
    "\n",
    "**Custom testing:**\n",
    "\n",
    "- For the input, you should provide the entire linked list `head` and the node to be given `node`. `node` should not be the last node of the list and should be an actual node in the list.\n",
    "- We will build the linked list and pass the node to your function.\n",
    "- The output will be the entire list after calling your function.\n",
    "\n",
    "**Example 1:**\n",
    "\n",
    "!https://assets.leetcode.com/uploads/2020/09/01/node1.jpg\n",
    "\n",
    "```\n",
    "Input: head = [4,5,1,9], node = 5\n",
    "Output: [4,1,9]\n",
    "Explanation:You are given the second node with value 5, the linked list should become 4 -> 1 -> 9 after calling your function.\n",
    "\n",
    "```\n",
    "\n",
    "**Example 2:**\n",
    "\n",
    "!https://assets.leetcode.com/uploads/2020/09/01/node2.jpg\n",
    "\n",
    "```\n",
    "Input: head = [4,5,1,9], node = 1\n",
    "Output: [4,5,9]\n",
    "Explanation:You are given the third node with value 1, the linked list should become 4 -> 5 -> 9 after calling your function.\n",
    "```\n",
    "\n",
    "# **Approach:**\n",
    "\n",
    "We first update the value of the current node with the value of its next node, and then we skip the next node by pointing the current node's next pointer to its next node's next pointer.\n",
    "\n",
    "</aside>"
   ]
  },
  {
   "cell_type": "code",
   "execution_count": 1,
   "id": "d7531be4",
   "metadata": {},
   "outputs": [],
   "source": [
    "class Solution(object):\n",
    "    def deleteNode(self,node):\n",
    "        nade.val = node.next.val\n",
    "        node.next = node.next.next"
   ]
  },
  {
   "cell_type": "markdown",
   "id": "f123ee5a",
   "metadata": {},
   "source": [
    " **Question 2**\n",
    "\n",
    "Given the `head` of a linked list and an integer `val`, remove all the nodes of the linked list that has `Node.val == val`, and return *the new head*.\n",
    "\n",
    "**Example 1:**\n"
   ]
  },
  {
   "cell_type": "markdown",
   "id": "941e0875",
   "metadata": {},
   "source": [
    "<img src=\"https://pwskills.notion.site/image/https%3A%2F%2Fassets.leetcode.com%2Fuploads%2F2021%2F03%2F06%2Fremovelinked-list.jpg?id=8eccb52e-370c-41ad-84bd-2700d425abe8&table=block&spaceId=6fae2e0f-dedc-48e9-bc59-af2654c78209&width=1000&userId=&cache=v2\" width=\"900\" height=\"300\"/>"
   ]
  },
  {
   "cell_type": "markdown",
   "id": "bb159cd6",
   "metadata": {},
   "source": [
    "**Example 2:**\n",
    "\n",
    "```\n",
    "Input: head = [], val = 1\n",
    "Output: []\n",
    "\n",
    "```\n",
    "\n",
    "**Example 3:**"
   ]
  },
  {
   "cell_type": "markdown",
   "id": "6337ecf9",
   "metadata": {},
   "source": [
    "Input: head = [7,7,7,7], val = 7\n",
    "\n",
    "Output: []"
   ]
  },
  {
   "cell_type": "code",
   "execution_count": 2,
   "id": "7c31ddce",
   "metadata": {},
   "outputs": [
    {
     "ename": "NameError",
     "evalue": "name 'Optional' is not defined",
     "output_type": "error",
     "traceback": [
      "\u001b[1;31m---------------------------------------------------------------------------\u001b[0m",
      "\u001b[1;31mNameError\u001b[0m                                 Traceback (most recent call last)",
      "Cell \u001b[1;32mIn[2], line 1\u001b[0m\n\u001b[1;32m----> 1\u001b[0m \u001b[38;5;28;01mclass\u001b[39;00m \u001b[38;5;21;01mSolution\u001b[39;00m:\n\u001b[0;32m      2\u001b[0m     \u001b[38;5;28;01mdef\u001b[39;00m \u001b[38;5;21mremoveElements\u001b[39m(\u001b[38;5;28mself\u001b[39m, head: Optional[ListNode], val: \u001b[38;5;28mint\u001b[39m) \u001b[38;5;241m-\u001b[39m\u001b[38;5;241m>\u001b[39m Optional[ListNode]:\n\u001b[0;32m      3\u001b[0m         \u001b[38;5;28;01mif\u001b[39;00m \u001b[38;5;129;01mnot\u001b[39;00m head:\n",
      "Cell \u001b[1;32mIn[2], line 2\u001b[0m, in \u001b[0;36mSolution\u001b[1;34m()\u001b[0m\n\u001b[0;32m      1\u001b[0m \u001b[38;5;28;01mclass\u001b[39;00m \u001b[38;5;21;01mSolution\u001b[39;00m:\n\u001b[1;32m----> 2\u001b[0m     \u001b[38;5;28;01mdef\u001b[39;00m \u001b[38;5;21mremoveElements\u001b[39m(\u001b[38;5;28mself\u001b[39m, head: \u001b[43mOptional\u001b[49m[ListNode], val: \u001b[38;5;28mint\u001b[39m) \u001b[38;5;241m-\u001b[39m\u001b[38;5;241m>\u001b[39m Optional[ListNode]:\n\u001b[0;32m      3\u001b[0m         \u001b[38;5;28;01mif\u001b[39;00m \u001b[38;5;129;01mnot\u001b[39;00m head:\n\u001b[0;32m      4\u001b[0m             \u001b[38;5;28;01mreturn\u001b[39;00m head\n",
      "\u001b[1;31mNameError\u001b[0m: name 'Optional' is not defined"
     ]
    }
   ],
   "source": [
    "class Solution:\n",
    "    def removeElements(self, head: Optional[ListNode], val: int) -> Optional[ListNode]:\n",
    "        if not head:\n",
    "            return head\n",
    "        curr = head; prev = None\n",
    "        while curr:\n",
    "            if curr.val == val:\n",
    "                if not prev:\n",
    "                    head = curr.next\n",
    "                    curr = head\n",
    "                else:\n",
    "                    prev.next = curr.next\n",
    "                    curr = prev.next\n",
    "            else:\n",
    "                prev = curr\n",
    "                curr = prev.next\n",
    "        return head"
   ]
  },
  {
   "cell_type": "markdown",
   "id": "39ea8980",
   "metadata": {},
   "source": [
    "**Question 3**\n",
    "\n",
    "Given the `head` of a singly linked list, reverse the list, and return *the reversed list*.\n",
    "\n",
    "**Example 1:**\n",
    "\n",
    "</aside>"
   ]
  },
  {
   "cell_type": "markdown",
   "id": "774f39df",
   "metadata": {},
   "source": [
    "<img src=\"https://pwskills.notion.site/image/https%3A%2F%2Fassets.leetcode.com%2Fuploads%2F2021%2F02%2F19%2Frev1ex1.jpg?id=7b33e2dd-b8ff-4a6b-b207-992de975fd1d&table=block&spaceId=6fae2e0f-dedc-48e9-bc59-af2654c78209&width=1080&userId=&cache=v2\" width=\"900\" height=\"300\"/>"
   ]
  },
  {
   "cell_type": "markdown",
   "id": "75980c92",
   "metadata": {},
   "source": [
    "Input: head = [1,2,3,4,5]\n",
    "    \n",
    "Output: [5,4,3,2,1]\n"
   ]
  },
  {
   "cell_type": "code",
   "execution_count": 3,
   "id": "510ddef4",
   "metadata": {},
   "outputs": [],
   "source": [
    "class Solution(object):\n",
    "    def reverseList(self,head):\n",
    "        if head is None:\n",
    "            return head\n",
    "        \n",
    "        current = head\n",
    "        previous = None\n",
    "        \n",
    "        while current is not None:\n",
    "            temp = current.next\n",
    "            current.next = previous\n",
    "            previous = current\n",
    "            current = temp\n",
    "            \n",
    "        return previous\n",
    "        \n",
    "        "
   ]
  },
  {
   "cell_type": "code",
   "execution_count": null,
   "id": "bf8905a6",
   "metadata": {},
   "outputs": [],
   "source": []
  }
 ],
 "metadata": {
  "kernelspec": {
   "display_name": "Python 3 (ipykernel)",
   "language": "python",
   "name": "python3"
  },
  "language_info": {
   "codemirror_mode": {
    "name": "ipython",
    "version": 3
   },
   "file_extension": ".py",
   "mimetype": "text/x-python",
   "name": "python",
   "nbconvert_exporter": "python",
   "pygments_lexer": "ipython3",
   "version": "3.10.9"
  }
 },
 "nbformat": 4,
 "nbformat_minor": 5
}
