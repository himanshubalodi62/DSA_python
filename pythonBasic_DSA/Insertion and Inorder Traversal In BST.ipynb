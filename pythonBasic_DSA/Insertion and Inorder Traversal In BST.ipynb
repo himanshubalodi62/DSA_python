{
 "cells": [
  {
   "cell_type": "code",
   "execution_count": 2,
   "id": "0fe5e6ef",
   "metadata": {},
   "outputs": [
    {
     "ename": "TypeError",
     "evalue": "Node() takes no arguments",
     "output_type": "error",
     "traceback": [
      "\u001b[1;31m---------------------------------------------------------------------------\u001b[0m",
      "\u001b[1;31mTypeError\u001b[0m                                 Traceback (most recent call last)",
      "Cell \u001b[1;32mIn[2], line 33\u001b[0m\n\u001b[0;32m     30\u001b[0m         inOrder(root\u001b[38;5;241m.\u001b[39mright)\n\u001b[0;32m     32\u001b[0m \u001b[38;5;66;03m## Driver method\u001b[39;00m\n\u001b[1;32m---> 33\u001b[0m root \u001b[38;5;241m=\u001b[39m \u001b[43mNode\u001b[49m\u001b[43m(\u001b[49m\u001b[38;5;241;43m100\u001b[39;49m\u001b[43m)\u001b[49m\n\u001b[0;32m     34\u001b[0m root \u001b[38;5;241m=\u001b[39m insertBST(root, \u001b[38;5;241m80\u001b[39m)\n\u001b[0;32m     35\u001b[0m root \u001b[38;5;241m=\u001b[39m insertBST(root, \u001b[38;5;241m110\u001b[39m)\n",
      "\u001b[1;31mTypeError\u001b[0m: Node() takes no arguments"
     ]
    }
   ],
   "source": [
    "## class nodes in BST\n",
    "\n",
    "class Node:\n",
    "    def ___init__(self , data):\n",
    "        self.left = None\n",
    "        self.right = None\n",
    "        self.data = data\n",
    "        \n",
    "## insertion in BST\n",
    "def insertBST(root, key):\n",
    "    if root is None:\n",
    "        return Node(key)\n",
    "    else:\n",
    "        if root.data == key:\n",
    "            return root\n",
    "        elif root.data < key:\n",
    "            root.right = insertBST(root.right, key)\n",
    "        else:\n",
    "            root.left = insertBST(root.left, key)\n",
    "    return root\n",
    "\n",
    "## inorder traversal of BST\n",
    "def inOrder(root):\n",
    "    if root:\n",
    "        ## recursive call for left subtree\n",
    "        inOrder(root.left)\n",
    "        print(root.data)\n",
    "        \n",
    "        ## recursive call for right subtree\n",
    "        inOrder(root.right)\n",
    "        \n",
    "## Driver method\n",
    "root = Node(100)\n",
    "root = insertBST(root, 80)\n",
    "root = insertBST(root, 110)\n",
    "root = insetBST(root, 50)\n",
    "root = insertBST(root, 90)\n",
    "\n",
    "print(\"Inorder Traversal\")\n",
    "inOrder(root)"
   ]
  },
  {
   "cell_type": "markdown",
   "id": "a354fb6a",
   "metadata": {},
   "source": [
    "## Find unique possible value catalan nuber"
   ]
  },
  {
   "cell_type": "code",
   "execution_count": 4,
   "id": "dc9e0922",
   "metadata": {},
   "outputs": [
    {
     "name": "stdout",
     "output_type": "stream",
     "text": [
      "Number of unique possible BST 5\n"
     ]
    }
   ],
   "source": [
    "## Method Definition\n",
    "def finduniqueBST(n):\n",
    "    n1, n2, sum_val = 0, 0, 0\n",
    "    ## Base case condition\n",
    "    if n == 0 or n == 1:\n",
    "        return 1\n",
    "    \n",
    "    \n",
    "    ## cantain number series\n",
    "    for i in range(1, n+1):\n",
    "        n1 = finduniqueBST(i-1)\n",
    "        n2 = finduniqueBST(n-i)\n",
    "        sum_val += n1*n2\n",
    "    return sum_val\n",
    "        \n",
    "## Driver method\n",
    "n = 3\n",
    "result = finduniqueBST(n)\n",
    "print(\"Number of unique possible BST\",result)"
   ]
  },
  {
   "cell_type": "code",
   "execution_count": null,
   "id": "522024b5",
   "metadata": {},
   "outputs": [],
   "source": []
  }
 ],
 "metadata": {
  "kernelspec": {
   "display_name": "Python 3 (ipykernel)",
   "language": "python",
   "name": "python3"
  },
  "language_info": {
   "codemirror_mode": {
    "name": "ipython",
    "version": 3
   },
   "file_extension": ".py",
   "mimetype": "text/x-python",
   "name": "python",
   "nbconvert_exporter": "python",
   "pygments_lexer": "ipython3",
   "version": "3.10.9"
  }
 },
 "nbformat": 4,
 "nbformat_minor": 5
}
