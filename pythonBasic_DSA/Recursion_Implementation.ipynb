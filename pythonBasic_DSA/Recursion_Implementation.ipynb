{
 "cells": [
  {
   "cell_type": "code",
   "execution_count": 1,
   "id": "61911bd6",
   "metadata": {},
   "outputs": [
    {
     "name": "stdout",
     "output_type": "stream",
     "text": [
      "The factorial of a given number is  40320\n"
     ]
    }
   ],
   "source": [
    "## use Recursion method to implementation\n",
    "def find_factorial(n):\n",
    "    ## base case condition\n",
    "    if n == 0 or n == 1:\n",
    "        return 1\n",
    "    else:\n",
    "        # big problem\n",
    "        return n * find_factorial(n-1)\n",
    "    \n",
    "# Drive code\n",
    "n = 8 \n",
    "# function calling\n",
    "\n",
    "result = find_factorial(n)\n",
    "print(\"The factorial of a given number is \", result)"
   ]
  },
  {
   "cell_type": "code",
   "execution_count": 2,
   "id": "67a63a55",
   "metadata": {},
   "outputs": [
    {
     "name": "stdout",
     "output_type": "stream",
     "text": [
      "The factorial of a given number is  120\n"
     ]
    }
   ],
   "source": [
    "## use iterative method \n",
    "## function definition \n",
    "def findFactorial(n):\n",
    "    ## base case condition\n",
    "    ## small problem\n",
    "    result = 1\n",
    "    if n == 0 or n == 1:\n",
    "        return 1\n",
    "    else:\n",
    "        for i in range(2, n+1):\n",
    "            result = result * i\n",
    "        return result\n",
    "    \n",
    "## Drive code\n",
    "n = 5\n",
    "result = findFactorial(n)\n",
    "print(\"The factorial of a given number is \", result)\n",
    "    "
   ]
  },
  {
   "cell_type": "markdown",
   "id": "d1ea40fc",
   "metadata": {},
   "source": [
    "## fibonaci Series implementation\n"
   ]
  },
  {
   "cell_type": "code",
   "execution_count": 4,
   "id": "3ace20c2",
   "metadata": {},
   "outputs": [
    {
     "name": "stdout",
     "output_type": "stream",
     "text": [
      "0\n",
      "1\n",
      "1\n",
      "2\n",
      "3\n",
      "5\n",
      "8\n",
      "13\n",
      "21\n",
      "34\n"
     ]
    }
   ],
   "source": [
    "## function definition\n",
    "def fibonacciSeries(n):\n",
    "    ## base case condition\n",
    "    if n <= 1:\n",
    "        return n\n",
    "    else:\n",
    "        return fibonacciSeries(n - 1) + fibonacciSeries(n - 2)\n",
    "    \n",
    "# Drive code\n",
    "n = 10\n",
    "for i in range(n):\n",
    "    print(fibonacciSeries(i))"
   ]
  },
  {
   "cell_type": "code",
   "execution_count": null,
   "id": "22de0f4f",
   "metadata": {},
   "outputs": [],
   "source": []
  }
 ],
 "metadata": {
  "kernelspec": {
   "display_name": "Python 3 (ipykernel)",
   "language": "python",
   "name": "python3"
  },
  "language_info": {
   "codemirror_mode": {
    "name": "ipython",
    "version": 3
   },
   "file_extension": ".py",
   "mimetype": "text/x-python",
   "name": "python",
   "nbconvert_exporter": "python",
   "pygments_lexer": "ipython3",
   "version": "3.10.9"
  }
 },
 "nbformat": 4,
 "nbformat_minor": 5
}
