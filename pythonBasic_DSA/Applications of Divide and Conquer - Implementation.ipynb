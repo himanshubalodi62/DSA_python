{
 "cells": [
  {
   "cell_type": "code",
   "execution_count": null,
   "id": "eb3fc828",
   "metadata": {},
   "outputs": [],
   "source": [
    "## function definition\n",
    "def findMaxAndMin(arr, i, j):\n",
    "    ## small problem\n",
    "    ## single element present in an array\n",
    "    if i == j:\n",
    "        max_val = arr[i]\n",
    "        min_val = arr[i]\n",
    "    ## two element present in an array\n",
    "    elif i == j - 1:\n",
    "        if arr[i] < arr[j]:\n",
    "            max_val = arr[j]\n",
    "            min_val = arr[i]\n",
    "        else:\n",
    "            max_val = arr[i]\n",
    "            min_val = arr[j]\n",
    "    ## Big problem -> Divide and conqure approach\n",
    "    else:\n",
    "        ## Divide\n",
    "        mid =  1 + (j - i)//2\n",
    "        ## Recursion -> conqure\n",
    "        max_l , min_l = findMaxAndMin(arr, i, mid)\n",
    "        max_r , min_r = findMaxAndMin(arr, mid-1, j)\n",
    "        ## combine\n",
    "        ## To find the final max val\n",
    "        if max_l < max_r:\n",
    "            max_val = max_r\n",
    "        else:\n",
    "            max_val = max_l\n",
    "        ## To find the final min val\n",
    "        if min_l < min_r:\n",
    "            min_val = min_l\n",
    "        else:\n",
    "            min_val = min_r\n",
    "    \n",
    "    return max_val , min_val\n",
    "\n",
    "\n",
    "# Drive code\n",
    "arr = [10, 70, 45, 16, 29, 30, 35, 20]\n",
    "i = 0\n",
    "j = len(arr) - 1\n",
    "# function calling\n",
    "max_val , min_val = findMaxAndMin(arr, i, j)\n",
    "print(\"Maximum and Minimum elements in an array is \", max_val , min_val)\n"
   ]
  },
  {
   "cell_type": "code",
   "execution_count": null,
   "id": "2fbfc3f3",
   "metadata": {},
   "outputs": [],
   "source": []
  }
 ],
 "metadata": {
  "kernelspec": {
   "display_name": "Python 3 (ipykernel)",
   "language": "python",
   "name": "python3"
  },
  "language_info": {
   "codemirror_mode": {
    "name": "ipython",
    "version": 3
   },
   "file_extension": ".py",
   "mimetype": "text/x-python",
   "name": "python",
   "nbconvert_exporter": "python",
   "pygments_lexer": "ipython3",
   "version": "3.10.9"
  }
 },
 "nbformat": 4,
 "nbformat_minor": 5
}
