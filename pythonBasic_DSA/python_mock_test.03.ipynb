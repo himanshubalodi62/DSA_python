{
 "cells": [
  {
   "cell_type": "markdown",
   "id": "fba37d29",
   "metadata": {},
   "source": [
    "## Q .1 \n",
    "\n",
    "### Implement a stack using a list in Python. Include the necessary methods such as push, pop, and isEmpty."
   ]
  },
  {
   "cell_type": "code",
   "execution_count": 13,
   "id": "41b40185",
   "metadata": {},
   "outputs": [
    {
     "name": "stdout",
     "output_type": "stream",
     "text": [
      "30\n",
      "20\n",
      "False\n",
      "10\n",
      "True\n"
     ]
    }
   ],
   "source": [
    "class Stack:\n",
    "    def __init__(self):\n",
    "        self.stack = []\n",
    "        \n",
    "    def push(self,item):\n",
    "        self.stack.append(item)\n",
    "        \n",
    "    def pop(self):\n",
    "        if not self.isEmpty():\n",
    "            return self.stack.pop()\n",
    "        else:\n",
    "            raise IndexError(\"Stack is Empty.\")\n",
    "    \n",
    "    def isEmpty(self):\n",
    "        return len(self.stack) == 0\n",
    "                   \n",
    "stack = Stack()\n",
    "stack.push(10)\n",
    "stack.push(20)\n",
    "stack.push(30)\n",
    "print(stack.pop())  \n",
    "print(stack.pop())\n",
    "print(stack.isEmpty())  \n",
    "print(stack.pop())  \n",
    "print(stack.isEmpty())                   "
   ]
  },
  {
   "cell_type": "markdown",
   "id": "332f0b25",
   "metadata": {},
   "source": [
    "## Q.2 \n",
    "\n",
    "### Implement a queue using a list in Python. Include the necessary methods such as enqueue, dequeue, and isEmpty."
   ]
  },
  {
   "cell_type": "code",
   "execution_count": 21,
   "id": "42ea9c88",
   "metadata": {},
   "outputs": [
    {
     "name": "stdout",
     "output_type": "stream",
     "text": [
      "Pushed item: 60\n",
      "Pushed item: 40\n",
      "Pushed item: 10\n"
     ]
    },
    {
     "data": {
      "text/plain": [
       "('Total elements:', 1)"
      ]
     },
     "execution_count": 21,
     "metadata": {},
     "output_type": "execute_result"
    }
   ],
   "source": [
    "def create_queue():\n",
    "    queue = list()\n",
    "    return queue\n",
    "\n",
    "def isEmpty(queue):\n",
    "    return len(queue) == 0\n",
    "\n",
    "def enqueue(queue,n):\n",
    "    queue.append(n)\n",
    "    print(\"Pushed item:\",n)\n",
    "    \n",
    "def dequeue(queue):\n",
    "    if (isEmpty(queue)):\n",
    "        return \"Queue is Empty\"\n",
    "    else:\n",
    "        return queue.pop(0)\n",
    "    \n",
    "def size(queue):\n",
    "    return 'Total elements:',len(queue)\n",
    "\n",
    "queue = create_queue()\n",
    "isEmpty(queue)\n",
    "enqueue(queue , 60)\n",
    "enqueue(queue , 40)\n",
    "enqueue(queue , 10)\n",
    "dequeue(queue)\n",
    "dequeue(queue)\n",
    "size(queue)"
   ]
  },
  {
   "cell_type": "code",
   "execution_count": null,
   "id": "3472a79f",
   "metadata": {},
   "outputs": [],
   "source": []
  },
  {
   "cell_type": "code",
   "execution_count": null,
   "id": "60914586",
   "metadata": {},
   "outputs": [],
   "source": []
  },
  {
   "cell_type": "code",
   "execution_count": null,
   "id": "7d27ef55",
   "metadata": {},
   "outputs": [],
   "source": []
  },
  {
   "cell_type": "code",
   "execution_count": null,
   "id": "a2fb36ce",
   "metadata": {},
   "outputs": [],
   "source": []
  }
 ],
 "metadata": {
  "kernelspec": {
   "display_name": "Python 3 (ipykernel)",
   "language": "python",
   "name": "python3"
  },
  "language_info": {
   "codemirror_mode": {
    "name": "ipython",
    "version": 3
   },
   "file_extension": ".py",
   "mimetype": "text/x-python",
   "name": "python",
   "nbconvert_exporter": "python",
   "pygments_lexer": "ipython3",
   "version": "3.10.9"
  }
 },
 "nbformat": 4,
 "nbformat_minor": 5
}
