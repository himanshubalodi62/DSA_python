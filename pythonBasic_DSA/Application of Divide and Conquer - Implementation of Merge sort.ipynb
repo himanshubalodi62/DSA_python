{
 "cells": [
  {
   "cell_type": "code",
   "execution_count": 1,
   "id": "2eb63358",
   "metadata": {},
   "outputs": [
    {
     "name": "stdout",
     "output_type": "stream",
     "text": [
      "After the implementation merge sort array is  [13, 27, 50, 62, 65, 70, 80, 98]\n"
     ]
    }
   ],
   "source": [
    "# Implementation of merge sort\n",
    "## function definition of merge procedure\n",
    "def mergeProcedure(arr, i, mid, j):\n",
    "    ## n1 -> number of elements in the left subarray(i, mid)\n",
    "    n1 = mid - i + 1\n",
    "    ## n2 -> number of elements in the right subarray (mid+1,j)\n",
    "    n2 = j - mid\n",
    "    \n",
    "    ## initialization of lect and right subarray\n",
    "    leftSubarray = [0] * n1\n",
    "    rightSubarray = [0] * n2\n",
    "    \n",
    "    ## copy the elements from an array to the subarray\n",
    "    for m in range(n1):\n",
    "        leftSubarray[m] = arr[i + m]\n",
    "        \n",
    "    for n in range(n2):\n",
    "        rightSubarray[n] = arr[mid + 1 + n]\n",
    "    \n",
    "    \n",
    "    p = 0\n",
    "    q = 0\n",
    "    k = i\n",
    "    \n",
    "    ## returning a sorted subarray\n",
    "    \n",
    "    while p < n1 and q < n2:\n",
    "        if leftSubarray[p] <= rightSubarray[q]:\n",
    "            arr[k] = leftSubarray[p]\n",
    "            p += 1\n",
    "        else:\n",
    "            arr[k] = rightSubarray[q]\n",
    "            q += 1\n",
    "            \n",
    "        k += 1\n",
    "    ## copy the entire elements from the left subarray\n",
    "    while p < n1:\n",
    "        arr[k] = leftSubarray[p]\n",
    "        p += 1\n",
    "        k += 1\n",
    "        \n",
    "    ## copy the entire elements from the right Subarray\n",
    "    while q < n2:\n",
    "        arr[k] = rightSubarray[q]\n",
    "        q += 1\n",
    "        k += 1\n",
    "        \n",
    "## function definition of merge sort\n",
    "## approach -> Divide and Conquer\n",
    "def mergeSort(arr, i, j):\n",
    "    if i < j:\n",
    "        ## Divide\n",
    "        mid = i + (j-i)//2\n",
    "        ## Conquer\n",
    "        ## recursive call -> Left subtree\n",
    "        mergeSort(arr, i, mid)\n",
    "        ## recursive call -> right subtree\n",
    "        mergeSort(arr, mid+1, j)\n",
    "        ## combine -> mergeProcedure(function calling)\n",
    "        mergeProcedure(arr, i, mid, j)\n",
    "    return arr\n",
    "\n",
    "## drive code\n",
    "arr = [50, 70, 65, 13, 80, 62, 98, 27]\n",
    "i = 0\n",
    "j = len(arr) - 1\n",
    "result = mergeSort(arr, i, j)\n",
    "print(\"After the implementation merge sort array is \", result)\n",
    "        \n",
    "        \n",
    "        \n",
    "        \n",
    "        \n",
    "    \n",
    "    "
   ]
  },
  {
   "cell_type": "markdown",
   "id": "572e83a7",
   "metadata": {},
   "source": [
    "## Implementation using the quick sort algorithm"
   ]
  },
  {
   "cell_type": "code",
   "execution_count": 2,
   "id": "e63e8149",
   "metadata": {},
   "outputs": [
    {
     "name": "stdout",
     "output_type": "stream",
     "text": [
      "Sorted array after applying the quickSort is: [5, 10, 20, 22, 34, 70, 89]\n"
     ]
    }
   ],
   "source": [
    "## function definition of patition algorithm -> O(n)\n",
    "def partition(arr, p, q):\n",
    "    i = p\n",
    "    ## starting element as a pivot element\n",
    "    pivot = arr[p]\n",
    "    for j in range(i+1, q+1):\n",
    "        if arr[j] <= pivot:\n",
    "            i += 1\n",
    "            ## swap between the arr[i] and arr[j]\n",
    "            arr[i], arr[j] = arr[j], arr[i]\n",
    "    ## swap between the arr[i] and the pivot element\n",
    "    arr[i], arr[p] = arr[p], arr[i]\n",
    "    return i\n",
    "\n",
    "\n",
    "## fuction definition of quick sort\n",
    "\n",
    "def quickSort(arr, p, q):\n",
    "    if p < q:\n",
    "        ## function calling for partion algorithm\n",
    "        mid = partition(arr, p, q)\n",
    "        ## recursive call for left subtree\n",
    "        ## T(mid-p)\n",
    "        quickSort(arr, p, mid-1)\n",
    "        ## recursive call for the right subtree\n",
    "        ## T(q-mid)\n",
    "        quickSort(arr, mid+1, q)\n",
    "    \n",
    "    return arr\n",
    "        \n",
    "## driver code\n",
    "arr = [20, 10, 5, 70, 89, 34, 22]\n",
    "p = 0\n",
    "q = len(arr) - 1\n",
    "## function calling\n",
    "result = quickSort(arr, p, q)\n",
    "print(\"Sorted array after applying the quickSort is:\", result)\n",
    "\n",
    "\n",
    "    "
   ]
  },
  {
   "cell_type": "markdown",
   "id": "a2bb5015",
   "metadata": {},
   "source": [
    "## Implementation using RandomizedPartion"
   ]
  },
  {
   "cell_type": "code",
   "execution_count": null,
   "id": "58643ae8",
   "metadata": {},
   "outputs": [],
   "source": []
  },
  {
   "cell_type": "code",
   "execution_count": 3,
   "id": "91a1be6f",
   "metadata": {},
   "outputs": [
    {
     "name": "stdout",
     "output_type": "stream",
     "text": [
      "Sorted array after applying the quickSort is: [5, 10, 20, 22, 34, 70, 89]\n"
     ]
    }
   ],
   "source": [
    "import random\n",
    "\n",
    "## function definition of randomizedParition\n",
    "## Pivot element is randomly \n",
    "\n",
    "def randomizedPartion(arr, p, q):\n",
    "    random_pivot = random.randrange(p,q)\n",
    "        ## swap between the arr[random_pivot] and arr[p]\n",
    "    arr[p], arr[random_pivot] = arr[random_pivot], arr[p]\n",
    "    ## fuction call\n",
    "    return partition(arr, p, q)\n",
    "\n",
    "\n",
    "\n",
    "\n",
    "## function definition of patition algorithm -> O(n)\n",
    "def partition(arr, p, q):\n",
    "    i = p\n",
    "    ## starting element as a pivot element\n",
    "    pivot = arr[p]\n",
    "    for j in range(i+1, q+1):\n",
    "        if arr[j] <= pivot:\n",
    "            i += 1\n",
    "            ## swap between the arr[i] and arr[j]\n",
    "            arr[i], arr[j] = arr[j], arr[i]\n",
    "    ## swap between the arr[i] and the pivot element\n",
    "    arr[i], arr[p] = arr[p], arr[i]\n",
    "    return i\n",
    "\n",
    "\n",
    "## fuction definition of quick sort\n",
    "\n",
    "def quickSort(arr, p, q):\n",
    "    if p < q:\n",
    "        ## function calling for partion algorithm\n",
    "        mid = partition(arr, p, q)\n",
    "        ## recursive call for left subtree\n",
    "        ## T(mid-p)\n",
    "        quickSort(arr, p, mid-1)\n",
    "        ## recursive call for the right subtree\n",
    "        ## T(q-mid)\n",
    "        quickSort(arr, mid+1, q)\n",
    "    \n",
    "    return arr\n",
    "        \n",
    "## driver code\n",
    "arr = [20, 10, 5, 70, 89, 34, 22]\n",
    "p = 0\n",
    "q = len(arr) - 1\n",
    "## function calling\n",
    "result = quickSort(arr, p, q)\n",
    "print(\"Sorted array after applying the quickSort is:\", result)\n",
    "\n"
   ]
  },
  {
   "cell_type": "code",
   "execution_count": null,
   "id": "79a8729e",
   "metadata": {},
   "outputs": [],
   "source": []
  }
 ],
 "metadata": {
  "kernelspec": {
   "display_name": "Python 3 (ipykernel)",
   "language": "python",
   "name": "python3"
  },
  "language_info": {
   "codemirror_mode": {
    "name": "ipython",
    "version": 3
   },
   "file_extension": ".py",
   "mimetype": "text/x-python",
   "name": "python",
   "nbconvert_exporter": "python",
   "pygments_lexer": "ipython3",
   "version": "3.10.9"
  }
 },
 "nbformat": 4,
 "nbformat_minor": 5
}
