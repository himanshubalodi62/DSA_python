{
 "cells": [
  {
   "cell_type": "code",
   "execution_count": 3,
   "id": "a775cb34",
   "metadata": {},
   "outputs": [
    {
     "name": "stdout",
     "output_type": "stream",
     "text": [
      "11 10 9 8 12 "
     ]
    }
   ],
   "source": [
    "class Node:\n",
    "    def __init__(self, data):\n",
    "        self.data = data\n",
    "        self.next = None\n",
    "        \n",
    "class LinkedList:\n",
    "    def __init__(self):\n",
    "        self.head = None\n",
    "        \n",
    "    ## insert at the front of the Linked list\n",
    "    \n",
    "    def insertAtBeginning(self, new_data):\n",
    "        ## creation of the new node\n",
    "        new_node = Node(new_data)\n",
    "        ## insertion at the beginning\n",
    "        new_node.next = self.head\n",
    "        self.head = new_node\n",
    "        \n",
    "    ## print the Linked List\n",
    "    def printList(self):\n",
    "        temp = self.head\n",
    "        while temp:\n",
    "            print(str(temp.data)+__,end=\" \")\n",
    "            temp = temp.next\n",
    "            \n",
    "# driver code\n",
    "\n",
    "llist = LinkedList()\n",
    "## function calling\n",
    "llist.insertAtBeginning(12)\n",
    "\n",
    "llist.insertAtBeginning(8)\n",
    "\n",
    "llist.insertAtBeginning(9)\n",
    "\n",
    "llist.insertAtBeginning(10)\n",
    "\n",
    "llist.insertAtBeginning(11)\n",
    "llist.printList()"
   ]
  },
  {
   "cell_type": "code",
   "execution_count": null,
   "id": "2d5c2baa",
   "metadata": {},
   "outputs": [],
   "source": []
  }
 ],
 "metadata": {
  "kernelspec": {
   "display_name": "Python 3 (ipykernel)",
   "language": "python",
   "name": "python3"
  },
  "language_info": {
   "codemirror_mode": {
    "name": "ipython",
    "version": 3
   },
   "file_extension": ".py",
   "mimetype": "text/x-python",
   "name": "python",
   "nbconvert_exporter": "python",
   "pygments_lexer": "ipython3",
   "version": "3.10.9"
  }
 },
 "nbformat": 4,
 "nbformat_minor": 5
}
