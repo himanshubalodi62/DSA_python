{
 "cells": [
  {
   "cell_type": "code",
   "execution_count": 2,
   "id": "d44d0b76",
   "metadata": {},
   "outputs": [
    {
     "name": "stdout",
     "output_type": "stream",
     "text": [
      "(-1, -1)\n"
     ]
    }
   ],
   "source": [
    "## Implementation of two pointer approach\n",
    "## function definition\n",
    "def findPair(arr , target):\n",
    "    l = 0\n",
    "    r = len(arr) - 1\n",
    "    for i in range(len(arr) - 1):\n",
    "        if arr[l] + arr[r] == target:\n",
    "            return l , r\n",
    "        elif arr[l] + arr[r] > target:\n",
    "            r = r - 1\n",
    "        else:\n",
    "            l = l + 1\n",
    "    return -1 ,-1\n",
    "\n",
    "## driver code\n",
    "arr = [20, 40, 50, 75, 120, 145, 175]\n",
    "target = 50\n",
    "result = findPair(arr,target)\n",
    "print(result)"
   ]
  },
  {
   "cell_type": "code",
   "execution_count": null,
   "id": "f117bc9e",
   "metadata": {},
   "outputs": [],
   "source": []
  }
 ],
 "metadata": {
  "kernelspec": {
   "display_name": "Python 3 (ipykernel)",
   "language": "python",
   "name": "python3"
  },
  "language_info": {
   "codemirror_mode": {
    "name": "ipython",
    "version": 3
   },
   "file_extension": ".py",
   "mimetype": "text/x-python",
   "name": "python",
   "nbconvert_exporter": "python",
   "pygments_lexer": "ipython3",
   "version": "3.10.9"
  }
 },
 "nbformat": 4,
 "nbformat_minor": 5
}
