{
 "cells": [
  {
   "cell_type": "code",
   "execution_count": 4,
   "id": "0365bb73",
   "metadata": {},
   "outputs": [
    {
     "name": "stdout",
     "output_type": "stream",
     "text": [
      "[1, 2]\n"
     ]
    }
   ],
   "source": [
    "from collections import Counter\n",
    "import heapq\n",
    "## function definition\n",
    "def topKfrequentElement(arr , K):\n",
    "    if K == len(arr):\n",
    "        return set(arr)\n",
    "    \n",
    "    count = Counter(arr)\n",
    "    ## count is dictionary which contains unique values as the \n",
    "    ## the frequency of those unique elements as the value \n",
    "    ## print(count)\n",
    "    \n",
    "    return heapq.nlargest(k, count.keys() , key=count.get)\n",
    "\n",
    "## Drive code\n",
    "arr = [1,1,1,1,2,2,2,3]\n",
    "k = 2\n",
    "result = topKfrequentElement(arr,k)\n",
    "print(result)\n",
    "\n"
   ]
  },
  {
   "cell_type": "code",
   "execution_count": null,
   "id": "6fb89215",
   "metadata": {},
   "outputs": [],
   "source": []
  }
 ],
 "metadata": {
  "kernelspec": {
   "display_name": "Python 3 (ipykernel)",
   "language": "python",
   "name": "python3"
  },
  "language_info": {
   "codemirror_mode": {
    "name": "ipython",
    "version": 3
   },
   "file_extension": ".py",
   "mimetype": "text/x-python",
   "name": "python",
   "nbconvert_exporter": "python",
   "pygments_lexer": "ipython3",
   "version": "3.10.9"
  }
 },
 "nbformat": 4,
 "nbformat_minor": 5
}
