{
 "cells": [
  {
   "cell_type": "code",
   "execution_count": 1,
   "id": "2e2122e2",
   "metadata": {},
   "outputs": [
    {
     "name": "stdout",
     "output_type": "stream",
     "text": [
      "string contain a valid parenthesis\n"
     ]
    }
   ],
   "source": [
    "# Method Definition\n",
    "\n",
    "def isValidParen(string):\n",
    "    open_param = set([\"(\", \"[\", \"{\"])\n",
    "    dictionary = {\"(\":\")\", \"[\":\"]\", \"{\":\"}\"}\n",
    "    stack = []\n",
    "    \n",
    "    for char in string:\n",
    "        if char in open_param:\n",
    "            ## add the element in the stack\n",
    "            stack.append(char)\n",
    "        elif stack and char == dictionary[stack[-1]]:\n",
    "            ## pop/delete the element in the stack\n",
    "            stack.pop()\n",
    "        else:\n",
    "            return False\n",
    "    return stack == []\n",
    "            \n",
    "            \n",
    "        \n",
    "        \n",
    "## driver code\n",
    "\n",
    "string1 = \"{[]}\"\n",
    "string2 = \"{[[]}\"\n",
    "if isValidParen(string1):\n",
    "    print(\"string contain a valid parenthesis\")\n",
    "else:\n",
    "    print(\"string contain a invalid parenthesis\")\n",
    "    "
   ]
  },
  {
   "cell_type": "code",
   "execution_count": null,
   "id": "1e7e6f4b",
   "metadata": {},
   "outputs": [],
   "source": []
  }
 ],
 "metadata": {
  "kernelspec": {
   "display_name": "Python 3 (ipykernel)",
   "language": "python",
   "name": "python3"
  },
  "language_info": {
   "codemirror_mode": {
    "name": "ipython",
    "version": 3
   },
   "file_extension": ".py",
   "mimetype": "text/x-python",
   "name": "python",
   "nbconvert_exporter": "python",
   "pygments_lexer": "ipython3",
   "version": "3.10.9"
  }
 },
 "nbformat": 4,
 "nbformat_minor": 5
}
