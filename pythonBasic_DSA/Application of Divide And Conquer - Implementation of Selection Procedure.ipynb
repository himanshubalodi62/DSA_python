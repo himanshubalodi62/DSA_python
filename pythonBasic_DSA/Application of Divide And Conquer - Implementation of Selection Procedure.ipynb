{
 "cells": [
  {
   "cell_type": "code",
   "execution_count": 2,
   "id": "9c17743a",
   "metadata": {},
   "outputs": [
    {
     "name": "stdout",
     "output_type": "stream",
     "text": [
      "kth smallest element in an array is None\n"
     ]
    }
   ],
   "source": [
    "## function definition of partition\n",
    "\n",
    "def partition(arr, p, q):\n",
    "    i = p\n",
    "    pivot = arr[p]\n",
    "    for j in range(i+1, q+1):\n",
    "        if arr[j] <= pivot:\n",
    "            i += 1\n",
    "            arr[i], arr[j] = arr[j], arr[i]\n",
    "    arr[i], arr[p] = arr[p], arr[i]\n",
    "    return i+1\n",
    "\n",
    "\n",
    "\n",
    "## function definition\n",
    "def selectionProcedure(arr, p, q, k):\n",
    "    if len(arr) == 1:\n",
    "        return arr[p]\n",
    "    else:\n",
    "        m = partition(arr, p, q)\n",
    "        if m == k:\n",
    "            ## recursive call -> right side of the pivot element\n",
    "            return selectionProcedure(arr, m-2, q, k)\n",
    "        \n",
    "        \n",
    "## drive code\n",
    "arr = [20, 70, 50, 48, 98, 12, 10, 43]\n",
    "k = 3\n",
    "p = 0\n",
    "q = len(arr) - 1\n",
    "## function calling\n",
    "result = selectionProcedure(arr, p, q, k)\n",
    "print(\"kth smallest element in an array is\", result)\n",
    "\n",
    "\n",
    "\n"
   ]
  },
  {
   "cell_type": "code",
   "execution_count": null,
   "id": "9f586900",
   "metadata": {},
   "outputs": [],
   "source": []
  }
 ],
 "metadata": {
  "kernelspec": {
   "display_name": "Python 3 (ipykernel)",
   "language": "python",
   "name": "python3"
  },
  "language_info": {
   "codemirror_mode": {
    "name": "ipython",
    "version": 3
   },
   "file_extension": ".py",
   "mimetype": "text/x-python",
   "name": "python",
   "nbconvert_exporter": "python",
   "pygments_lexer": "ipython3",
   "version": "3.10.9"
  }
 },
 "nbformat": 4,
 "nbformat_minor": 5
}
