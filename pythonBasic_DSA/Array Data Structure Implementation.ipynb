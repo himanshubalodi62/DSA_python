{
 "cells": [
  {
   "cell_type": "code",
   "execution_count": 1,
   "id": "def4692b",
   "metadata": {},
   "outputs": [],
   "source": [
    "arr = [2, 1, 8, 9, 12, 15, 11, 19]"
   ]
  },
  {
   "cell_type": "code",
   "execution_count": 2,
   "id": "bbd7286a",
   "metadata": {},
   "outputs": [
    {
     "data": {
      "text/plain": [
       "12"
      ]
     },
     "execution_count": 2,
     "metadata": {},
     "output_type": "execute_result"
    }
   ],
   "source": [
    "# Random access\n",
    "arr[4]"
   ]
  },
  {
   "cell_type": "code",
   "execution_count": 3,
   "id": "7e19adbb",
   "metadata": {},
   "outputs": [
    {
     "data": {
      "text/plain": [
       "8"
      ]
     },
     "execution_count": 3,
     "metadata": {},
     "output_type": "execute_result"
    }
   ],
   "source": [
    "len(arr)"
   ]
  },
  {
   "cell_type": "code",
   "execution_count": 4,
   "id": "6366af26",
   "metadata": {},
   "outputs": [
    {
     "data": {
      "text/plain": [
       "range(0, 8)"
      ]
     },
     "execution_count": 4,
     "metadata": {},
     "output_type": "execute_result"
    }
   ],
   "source": [
    "range(len(arr))"
   ]
  },
  {
   "cell_type": "code",
   "execution_count": 5,
   "id": "c8dc78dd",
   "metadata": {},
   "outputs": [
    {
     "name": "stdout",
     "output_type": "stream",
     "text": [
      "Searching element is present at the index 5\n"
     ]
    }
   ],
   "source": [
    "## Search for element \"15\" and if is presrent in an array , return the index of that element\n",
    "## Suppose the searching element is not present in an array , return -1\n",
    "\n",
    "\n",
    "## Time complexity : O(n)\n",
    "## Space complexity : O(1)\n",
    "\n",
    "\n",
    "## function definition\n",
    "\n",
    "def linearSearch(arr , x):\n",
    "    for i in range(len(arr)):\n",
    "        if arr[i] == x:\n",
    "            return i\n",
    "    return -1\n",
    "\n",
    "## Driver code\n",
    "\n",
    "arr = [2, 1, 8, 13, 9, 15, 12, 11, 19]\n",
    "x = 15\n",
    "## function calling \n",
    "result = linearSearch(arr , x)\n",
    "print(\"Searching element is present at the index\", result)"
   ]
  },
  {
   "cell_type": "code",
   "execution_count": 6,
   "id": "992c3c44",
   "metadata": {},
   "outputs": [
    {
     "name": "stdout",
     "output_type": "stream",
     "text": [
      "Searching element is present at the index -1\n"
     ]
    }
   ],
   "source": [
    "## Suppose the searching element is not present in an array , return -1\n",
    "\n",
    "## Time complexity : O(n)\n",
    "## Space complexity : O(1)\n",
    "\n",
    "\n",
    "## function definition\n",
    "\n",
    "def linearSearch(arr1, x):\n",
    "    for i in range(len(arr1)):\n",
    "        if arr1[i] == x:\n",
    "            return i\n",
    "    return -1\n",
    "\n",
    "## Driver code \n",
    "arr1 = [1, 23, 56, 45, 78, 65, 89]\n",
    "x = 20\n",
    "## function calling\n",
    "\n",
    "result = linearSearch(arr1 , x)\n",
    "print(\"Searching element is present at the index\", result)"
   ]
  },
  {
   "cell_type": "code",
   "execution_count": 7,
   "id": "9a8f9468",
   "metadata": {},
   "outputs": [],
   "source": [
    "## Insert an element 5 at index 2\n",
    "## list. insert(index , element)\n",
    "\n",
    "## Time complexity : O(n)\n",
    "arr.insert(2,5)"
   ]
  },
  {
   "cell_type": "code",
   "execution_count": 8,
   "id": "fa470254",
   "metadata": {},
   "outputs": [
    {
     "data": {
      "text/plain": [
       "[2, 1, 5, 8, 13, 9, 15, 12, 11, 19]"
      ]
     },
     "execution_count": 8,
     "metadata": {},
     "output_type": "execute_result"
    }
   ],
   "source": [
    "arr"
   ]
  },
  {
   "cell_type": "code",
   "execution_count": 9,
   "id": "8e8a8021",
   "metadata": {},
   "outputs": [],
   "source": [
    "## remove an element 8 from the array\n",
    "## Time complexity : O(n)\n",
    "arr.remove(8)"
   ]
  },
  {
   "cell_type": "code",
   "execution_count": 10,
   "id": "eca617f4",
   "metadata": {},
   "outputs": [
    {
     "data": {
      "text/plain": [
       "[2, 1, 5, 13, 9, 15, 12, 11, 19]"
      ]
     },
     "execution_count": 10,
     "metadata": {},
     "output_type": "execute_result"
    }
   ],
   "source": [
    "arr"
   ]
  },
  {
   "cell_type": "code",
   "execution_count": 11,
   "id": "c5755224",
   "metadata": {},
   "outputs": [
    {
     "data": {
      "text/plain": [
       "1"
      ]
     },
     "execution_count": 11,
     "metadata": {},
     "output_type": "execute_result"
    }
   ],
   "source": [
    "## count the frequence of an element present inside the array\n",
    "arr.count(2)"
   ]
  },
  {
   "cell_type": "code",
   "execution_count": 12,
   "id": "40bbb590",
   "metadata": {},
   "outputs": [
    {
     "data": {
      "text/plain": [
       "1"
      ]
     },
     "execution_count": 12,
     "metadata": {},
     "output_type": "execute_result"
    }
   ],
   "source": [
    "arr.count(15)"
   ]
  },
  {
   "cell_type": "code",
   "execution_count": 13,
   "id": "9cac74dc",
   "metadata": {},
   "outputs": [
    {
     "data": {
      "text/plain": [
       "9"
      ]
     },
     "execution_count": 13,
     "metadata": {},
     "output_type": "execute_result"
    }
   ],
   "source": [
    "## Delete an element providing the index\n",
    "\n",
    "arr.pop(4)"
   ]
  },
  {
   "cell_type": "code",
   "execution_count": 14,
   "id": "34886e5a",
   "metadata": {},
   "outputs": [
    {
     "data": {
      "text/plain": [
       "[2, 1, 5, 13, 15, 12, 11, 19]"
      ]
     },
     "execution_count": 14,
     "metadata": {},
     "output_type": "execute_result"
    }
   ],
   "source": [
    "arr"
   ]
  },
  {
   "cell_type": "code",
   "execution_count": 15,
   "id": "a7855a12",
   "metadata": {},
   "outputs": [],
   "source": [
    "## sort the array\n",
    "\n",
    "arr.sort()"
   ]
  },
  {
   "cell_type": "code",
   "execution_count": 16,
   "id": "f00315a5",
   "metadata": {},
   "outputs": [
    {
     "data": {
      "text/plain": [
       "[1, 2, 5, 11, 12, 13, 15, 19]"
      ]
     },
     "execution_count": 16,
     "metadata": {},
     "output_type": "execute_result"
    }
   ],
   "source": [
    "arr"
   ]
  },
  {
   "cell_type": "code",
   "execution_count": 17,
   "id": "46dce5ab",
   "metadata": {},
   "outputs": [
    {
     "data": {
      "text/plain": [
       "3"
      ]
     },
     "execution_count": 17,
     "metadata": {},
     "output_type": "execute_result"
    }
   ],
   "source": [
    "## To extract the index of any given index\n",
    "\n",
    "arr.index(11)"
   ]
  },
  {
   "cell_type": "code",
   "execution_count": 19,
   "id": "27063fe1",
   "metadata": {},
   "outputs": [],
   "source": [
    "## To extent the original array \n",
    "arr.extend([2,4,6,7,8,9])"
   ]
  },
  {
   "cell_type": "code",
   "execution_count": 20,
   "id": "259bec65",
   "metadata": {},
   "outputs": [
    {
     "data": {
      "text/plain": [
       "[1, 2, 5, 11, 12, 13, 15, 19, 2, 4, 6, 7, 8, 9]"
      ]
     },
     "execution_count": 20,
     "metadata": {},
     "output_type": "execute_result"
    }
   ],
   "source": [
    "arr"
   ]
  },
  {
   "cell_type": "code",
   "execution_count": 21,
   "id": "ff14f78d",
   "metadata": {},
   "outputs": [],
   "source": [
    "## To reverse the entire list\n",
    "arr.reverse()"
   ]
  },
  {
   "cell_type": "code",
   "execution_count": 22,
   "id": "888a5fcb",
   "metadata": {},
   "outputs": [
    {
     "data": {
      "text/plain": [
       "[9, 8, 7, 6, 4, 2, 19, 15, 13, 12, 11, 5, 2, 1]"
      ]
     },
     "execution_count": 22,
     "metadata": {},
     "output_type": "execute_result"
    }
   ],
   "source": [
    "arr"
   ]
  },
  {
   "cell_type": "code",
   "execution_count": null,
   "id": "dd9aa2d4",
   "metadata": {},
   "outputs": [],
   "source": []
  }
 ],
 "metadata": {
  "kernelspec": {
   "display_name": "Python 3 (ipykernel)",
   "language": "python",
   "name": "python3"
  },
  "language_info": {
   "codemirror_mode": {
    "name": "ipython",
    "version": 3
   },
   "file_extension": ".py",
   "mimetype": "text/x-python",
   "name": "python",
   "nbconvert_exporter": "python",
   "pygments_lexer": "ipython3",
   "version": "3.10.9"
  }
 },
 "nbformat": 4,
 "nbformat_minor": 5
}
