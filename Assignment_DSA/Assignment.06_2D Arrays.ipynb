{
 "cells": [
  {
   "cell_type": "markdown",
   "id": "830a7368",
   "metadata": {},
   "source": [
    "#### Question 1\n",
    "\n",
    "A permutation perm of n + 1 integers of all the integers in the range [0, n] can be represented as a string s of length n where:\n",
    "\n",
    "s[i] == 'I' if perm[i] < perm[i + 1], and\n",
    "s[i] == 'D' if perm[i] > perm[i + 1].\n",
    "Given a string s, reconstruct the permutation perm and return it. If there are multiple valid permutations perm, return any of them.\n",
    "\n",
    "Example 1:\n",
    "\n",
    "Input: s = \"IDID\"\n",
    "\n",
    "Output:\n",
    "\n",
    "[0,4,1,3,2]"
   ]
  },
  {
   "cell_type": "code",
   "execution_count": 5,
   "id": "245ceb22",
   "metadata": {},
   "outputs": [
    {
     "data": {
      "text/plain": [
       "[0, 4, 1, 3, 2]"
      ]
     },
     "execution_count": 5,
     "metadata": {},
     "output_type": "execute_result"
    }
   ],
   "source": [
    "from typing import List\n",
    "\n",
    "class Solution:\n",
    "    def diStringMatch(self, S: str) -> List[int]:\n",
    "        mini=0\n",
    "        maxi=len(S)\n",
    "        l=[]\n",
    "        \n",
    "        for i in S:\n",
    "            if i==\"I\":\n",
    "                l.append(mini)\n",
    "                mini+=1\n",
    "            else:\n",
    "                l.append(maxi)\n",
    "                maxi-=1\n",
    "        return l+[maxi]\n",
    "    \n",
    "s = Solution()\n",
    "S = \"IDID\"\n",
    "s.diStringMatch(S)"
   ]
  },
  {
   "cell_type": "markdown",
   "id": "edc82148",
   "metadata": {},
   "source": [
    "#### Question 2\n",
    "\n",
    "You are given an m x n integer matrix with the following two properties:\n",
    "\n",
    "Each row is sorted in non-decreasing order.\n",
    "The first integer of each row is greater than the last integer of the previous row.\n",
    "Given an integer target, return true if target is in matrix or false otherwise.\n",
    "\n",
    "You must write a solution in O(log(m * n)) time complexity.\n",
    "\n",
    "Example 1:\n",
    "\n",
    "Input: matrix = [[1,3,5,7],[10,11,16,20],[23,30,34,60]], target = 3\n",
    "\n",
    "Output: true"
   ]
  },
  {
   "cell_type": "code",
   "execution_count": 18,
   "id": "d4ed6149",
   "metadata": {},
   "outputs": [
    {
     "data": {
      "text/plain": [
       "True"
      ]
     },
     "execution_count": 18,
     "metadata": {},
     "output_type": "execute_result"
    }
   ],
   "source": [
    "class Solution:\n",
    "    def searchMatrix(self, matrix: List[List[int]], target: int) -> bool:\n",
    "        m, n = len(matrix), len(matrix[0])\n",
    "        i, j = m - 1, 0\n",
    "        while i >= 0 and j < n:\n",
    "            if matrix[i][j] == target:\n",
    "                return True\n",
    "            if matrix[i][j] > target:\n",
    "                i -= 1\n",
    "            else:\n",
    "                j += 1\n",
    "        return False\n",
    "    \n",
    "s = Solution()\n",
    "matrix = [[1,3,5,7],[10,11,16,20],[23,30,34,60]]\n",
    "target = 3\n",
    "s.searchMatrix(matrix, target)"
   ]
  },
  {
   "cell_type": "markdown",
   "id": "82306438",
   "metadata": {},
   "source": [
    "#### Question 3\n",
    "\n",
    "Given an array of integers arr, return true if and only if it is a valid mountain array.\n",
    "\n",
    "Recall that arr is a mountain array if and only if:\n",
    "\n",
    "arr.length >= 3\n",
    "There exists some i with 0 < i < arr.length - 1 such that:\n",
    "arr[0] < arr[1] < ... < arr[i - 1] < arr[i]\n",
    "arr[i] > arr[i + 1] > ... > arr[arr.length - 1]\n",
    "Example 1:\n",
    "\n",
    "Input: arr = [2,1]\n",
    "\n",
    "Output:\n",
    "\n",
    "false"
   ]
  },
  {
   "cell_type": "code",
   "execution_count": 22,
   "id": "1045a478",
   "metadata": {},
   "outputs": [
    {
     "data": {
      "text/plain": [
       "False"
      ]
     },
     "execution_count": 22,
     "metadata": {},
     "output_type": "execute_result"
    }
   ],
   "source": [
    "def validMountain(X, n):\n",
    "    climb = 0\n",
    "    while climb < n-1 and X[climb] < X[climb + 1]:\n",
    "        climb = climb + 1\n",
    "    if climb == 0 or climb == n-1:\n",
    "        return False\n",
    "    while climb < n -1 and X[climb] > X[climb + 1]:\n",
    "        climb = climb + 1\n",
    "    if climb == n-1:\n",
    "        return True\n",
    "    else:\n",
    "        return False\n",
    "    \n",
    "arr = [2,1]\n",
    "n = len(arr)\n",
    "validMountain(arr, n)"
   ]
  },
  {
   "cell_type": "markdown",
   "id": "8f2387f4",
   "metadata": {},
   "source": [
    "#### Question 4\n",
    "\n",
    "Given a binary array nums, return the maximum length of a contiguous subarray with an equal number of 0 and 1.\n",
    "\n",
    "Example 1:\n",
    "\n",
    "Input: nums = [0,1]\n",
    "\n",
    "Output: 2\n",
    "\n",
    "Explanation:\n",
    "\n",
    "[0, 1] is the longest contiguous subarray with an equal number of 0 and 1."
   ]
  },
  {
   "cell_type": "code",
   "execution_count": 23,
   "id": "3e76b181",
   "metadata": {},
   "outputs": [
    {
     "data": {
      "text/plain": [
       "2"
      ]
     },
     "execution_count": 23,
     "metadata": {},
     "output_type": "execute_result"
    }
   ],
   "source": [
    "def findMaxLength(nums):\n",
    "    maxlen = 0\n",
    "    for start in range(0, len(nums)):\n",
    "        zeroes = 0\n",
    "        ones = 0\n",
    "        for end in range(start, len(nums)):\n",
    "            if nums[end] == 0:\n",
    "                zeroes += 1\n",
    "            else:\n",
    "                ones += 1\n",
    " \n",
    "            if zeroes == ones:\n",
    "                maxlen = max(maxlen, end - start + 1)\n",
    " \n",
    "    return maxlen\n",
    "\n",
    "nums = [0,1]\n",
    "findMaxLength(nums)"
   ]
  },
  {
   "cell_type": "markdown",
   "id": "978b6f30",
   "metadata": {},
   "source": [
    "#### Question 5\n",
    "\n",
    "The product sum of two equal-length arrays a and b is equal to the sum of a[i] * b[i] for all 0 <= i < a.length (0-indexed).\n",
    "\n",
    "For example, if a = [1,2,3,4] and b = [5,2,3,1], the product sum would be 15 + 22 + 33 + 41 = 22.\n",
    "Given two arrays nums1 and nums2 of length n, return the minimum product sum* if you are allowed to rearrange the order of the elements in* nums1.\n",
    "\n",
    "Example 1:\n",
    "\n",
    "Input: nums1 = [5,3,4,2], nums2 = [4,2,2,5]\n",
    "\n",
    "Output: 40\n",
    "\n",
    "Explanation:\n",
    "\n",
    "We can rearrange nums1 to become [3,5,4,2]. The product sum of [3,5,4,2] and [4,2,2,5] is 34 + 52 + 42 + 25 = 40."
   ]
  },
  {
   "cell_type": "code",
   "execution_count": 24,
   "id": "3d5319ab",
   "metadata": {},
   "outputs": [
    {
     "name": "stdout",
     "output_type": "stream",
     "text": [
      "40\n"
     ]
    }
   ],
   "source": [
    "def minValue(A, B, n):\n",
    "\n",
    "    # Sort A and B so that minimum and maximum\n",
    "    # value can easily be fetched.\n",
    "    A.sort()\n",
    "    B.sort()\n",
    "\n",
    "    # Multiplying minimum value of A and maximum\n",
    "    # value of B\n",
    "    result = 0\n",
    "    for i in range(n):\n",
    "        result += (A[i] * B[n - i - 1])\n",
    "\n",
    "    return result\n",
    "\n",
    "\n",
    "# Driven Program\n",
    "nums1 = [5,3,4,2]\n",
    "nums2 = [4,2,2,5]\n",
    "n = len(nums1)\n",
    "print (minValue(nums1, nums2, n))"
   ]
  },
  {
   "cell_type": "markdown",
   "id": "2e226e7a",
   "metadata": {},
   "source": [
    "#### Question 6\n",
    "\n",
    "An integer array original is transformed into a doubled array changed by appending twice the value of every element in original, and then randomly shuffling the resulting array.\n",
    "\n",
    "Given an array changed, return original if changed is a doubled* array. If* changed is not a doubled* array, return an empty array. The elements in* original may be returned in any* order*.\n",
    "\n",
    "Example 1:\n",
    "\n",
    "Input: changed = [1,3,4,2,6,8]\n",
    "\n",
    "Output: [1,3,4]\n",
    "\n",
    "Explanation: One possible original array could be [1,3,4]:\n",
    "\n",
    "Twice the value of 1 is 1 * 2 = 2.\n",
    "Twice the value of 3 is 3 * 2 = 6.\n",
    "Twice the value of 4 is 4 * 2 = 8.\n",
    "Other original arrays could be [4,3,1] or [3,1,4]."
   ]
  },
  {
   "cell_type": "code",
   "execution_count": 25,
   "id": "629a28f5",
   "metadata": {},
   "outputs": [
    {
     "name": "stdout",
     "output_type": "stream",
     "text": [
      "1 3 4 "
     ]
    }
   ],
   "source": [
    "def findOriginal(arr):\n",
    "\n",
    "    # Stores the numbers and\n",
    "    # their frequency\n",
    "    numFreq = {}\n",
    "\n",
    "    # Add number with their frequencies\n",
    "    # in the hashmap\n",
    "    for i in range(0, len(arr)):\n",
    "        if (arr[i] in numFreq):\n",
    "            numFreq[arr[i]] += 1\n",
    "        else:\n",
    "            numFreq[arr[i]] = 1\n",
    "\n",
    "    # Sort the array\n",
    "    arr.sort()\n",
    "\n",
    "    # Initialize an arraylist\n",
    "    res = []\n",
    "\n",
    "    for i in range(0, len(arr)):\n",
    "\n",
    "        # Get the frequency of the number\n",
    "        freq = numFreq[arr[i]]\n",
    "        if (freq > 0):\n",
    "        \n",
    "            # Element is of original array\n",
    "            res.append(arr[i])\n",
    "\n",
    "            # Decrement the frequency of\n",
    "            # the number\n",
    "            numFreq[arr[i]] -= 1\n",
    "\n",
    "            twice = 2 * arr[i]\n",
    "\n",
    "            # Decrement the frequency of\n",
    "            # the number having double value\n",
    "            numFreq[twice] -= 1\n",
    "\n",
    "    # Return the resultant string\n",
    "    return res\n",
    "\n",
    "\n",
    "arr = [1,3,4,2,6,8]\n",
    "res = findOriginal(arr)\n",
    "\n",
    "# Print the result list\n",
    "for i in range(0, len(res)):\n",
    "    print(res[i], end=\" \")"
   ]
  },
  {
   "cell_type": "markdown",
   "id": "b2cf2870",
   "metadata": {},
   "source": [
    "#### Question 7\n",
    "\n",
    "Given a positive integer n, generate an n x n matrix filled with elements from 1 to n2 in spiral order.\n",
    "\n",
    "Example 1: image.png Input: n = 3\n",
    "\n",
    "Output: [[1,2,3],[8,9,4],[7,6,5]]"
   ]
  },
  {
   "cell_type": "code",
   "execution_count": 30,
   "id": "166deb96",
   "metadata": {},
   "outputs": [
    {
     "data": {
      "text/plain": [
       "[[1, 2, 3], [8, 9, 4], [7, 6, 5]]"
      ]
     },
     "execution_count": 30,
     "metadata": {},
     "output_type": "execute_result"
    }
   ],
   "source": [
    "def generateMatrix(n):\n",
    "    if n <= 0:\n",
    "        return []\n",
    "    result = [[None for i in range(n)] for j in range(n)]\n",
    "    xBeg,xEnd = 0,n-1\n",
    "    yBeg,yEnd = 0,n-1\n",
    "    current = 1\n",
    "    while (True):\n",
    "        for i in range(yBeg,yEnd+1):\n",
    "            result[xBeg][i] = current\n",
    "            current += 1\n",
    "        xBeg += 1\n",
    "        if (xBeg > xEnd):\n",
    "            break\n",
    "        for i in range(xBeg,xEnd+1):\n",
    "            result[i][yEnd] = current\n",
    "            current += 1\n",
    "        yEnd -= 1\n",
    "        if (yEnd < yBeg):\n",
    "            break\n",
    "        for i in range(yEnd,yBeg-1,-1):\n",
    "            result[xEnd][i] = current\n",
    "            current += 1\n",
    "        xEnd -= 1\n",
    "        if (xEnd < xBeg):\n",
    "            break\n",
    "        for i in range(xEnd,xBeg-1,-1):\n",
    "            result[i][yBeg] = current\n",
    "            current += 1\n",
    "        yBeg += 1\n",
    "        if (yBeg > yEnd):\n",
    "            break\n",
    "    return result\n",
    "\n",
    "n = 3\n",
    "generateMatrix(n)"
   ]
  },
  {
   "cell_type": "code",
   "execution_count": null,
   "id": "8c23b478",
   "metadata": {},
   "outputs": [],
   "source": []
  },
  {
   "cell_type": "code",
   "execution_count": null,
   "id": "d8fe5665",
   "metadata": {},
   "outputs": [],
   "source": []
  }
 ],
 "metadata": {
  "kernelspec": {
   "display_name": "Python 3 (ipykernel)",
   "language": "python",
   "name": "python3"
  },
  "language_info": {
   "codemirror_mode": {
    "name": "ipython",
    "version": 3
   },
   "file_extension": ".py",
   "mimetype": "text/x-python",
   "name": "python",
   "nbconvert_exporter": "python",
   "pygments_lexer": "ipython3",
   "version": "3.10.9"
  }
 },
 "nbformat": 4,
 "nbformat_minor": 5
}
