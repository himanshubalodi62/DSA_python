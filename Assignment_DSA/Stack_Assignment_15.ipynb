{
 "cells": [
  {
   "cell_type": "markdown",
   "id": "8d111485",
   "metadata": {},
   "source": [
    "#### Question 1\n",
    "\n",
    "Given an array arr[ ] of size N having elements, the task is to find the next greater element for each element of the array in order of their appearance in the array.Next greater element of an element in the array is the nearest element on the right which is greater than the current element.If there does not exist next greater of current element, then next greater element for current element is -1. For example, next greater of the last element is always -1."
   ]
  },
  {
   "cell_type": "markdown",
   "id": "f687b44e",
   "metadata": {},
   "source": [
    "#### Example:\n",
    "Input:\n",
    "    \n",
    "N = 4, arr[] = [1 3 2 4]\n",
    "\n",
    "Output:\n",
    "    \n",
    "3 4 4 -1\n",
    "\n",
    "Explanation:\n",
    "In the array, the next larger element\n",
    "to 1 is 3 , 3 is 4 , 2 is 4 and for 4 ?\n",
    "since it doesn't exist, it is -1.\n"
   ]
  },
  {
   "cell_type": "markdown",
   "id": "835251d7",
   "metadata": {},
   "source": [
    "#### Exampele:\n",
    "\n",
    "Input:\n",
    "    \n",
    "N = 5, arr[] [6 8 0 1 3]\n",
    "\n",
    "Output:\n",
    "    \n",
    "8 -1 1 3 -1\n",
    "\n",
    "Explanation:\n",
    "In the array, the next larger element to\n",
    "6 is 8, for 8 there is no larger elements\n",
    "hence it is -1, for 0 it is 1 , for 1 it\n",
    "is 3 and then for 3 there is no larger\n",
    "element on right and hence -1."
   ]
  },
  {
   "cell_type": "code",
   "execution_count": 24,
   "id": "7c627748",
   "metadata": {},
   "outputs": [
    {
     "data": {
      "text/plain": [
       "[8, -1, 1, 3, -1]"
      ]
     },
     "execution_count": 24,
     "metadata": {},
     "output_type": "execute_result"
    }
   ],
   "source": [
    "from collections import deque\n",
    "\n",
    "class Solution:\n",
    "    def nextGreaterElement(self, N, arr):\n",
    "        stack = deque()    # stack follows LIFO or FILO\n",
    "        result = [-1]*N    # making the default element as -1\n",
    "        for i in range(N):\n",
    "            while stack and arr[i] > arr[stack[-1]]:    # when stack is not empty comparing if the current element is greater than last element of stack\n",
    "                index = stack.pop()    # removing the last index from stack\n",
    "                result[index] = arr[i]    # adding the greater element at the index to result\n",
    "            stack.append(i)    # otherwise appending the index to stack \n",
    "        return result\n",
    "\n",
    "N = 5\n",
    "arr = [6,8,0,1,3]\n",
    "s = Solution()\n",
    "s.nextGreaterElement(N, arr)"
   ]
  },
  {
   "cell_type": "markdown",
   "id": "11ae52f5",
   "metadata": {},
   "source": [
    "#### <aside>\n",
    "💡 **Question 2**\n",
    "\n",
    "Given an array **a** of integers of length **n**, find the nearest smaller number for every element such that the smaller element is on left side.If no small element present on the left print -1.\n",
    "\n",
    "**Example 1:**\n",
    "\n",
    "</aside>"
   ]
  },
  {
   "cell_type": "markdown",
   "id": "37a7b43e",
   "metadata": {},
   "source": [
    "Input: n = 3\n",
    "    \n",
    "a = {1, 6, 2}\n",
    "\n",
    "Output: -1 1 1\n",
    "    \n",
    "Explaination: There is no number at the\n",
    "left of 1. Smaller number than 6 and 2 is 1."
   ]
  },
  {
   "cell_type": "markdown",
   "id": "6e2a63b7",
   "metadata": {},
   "source": [
    "#### Example:\n",
    "\n",
    "Input: n = 6\n",
    "    \n",
    "a = {1, 5, 0, 3, 4, 5}\n",
    "\n",
    "Output: -1 1 -1 0 3 4\n",
    "    \n",
    "Explaination: Upto 3 it is easy to see\n",
    "the smaller numbers. But for 4 the smaller\n",
    "numbers are 1, 0 and 3. But among them 3\n",
    "is closest. Similary for 5 it is 4."
   ]
  },
  {
   "cell_type": "code",
   "execution_count": 31,
   "id": "ac4e40a3",
   "metadata": {},
   "outputs": [
    {
     "data": {
      "text/plain": [
       "[-1, 1, 1]"
      ]
     },
     "execution_count": 31,
     "metadata": {},
     "output_type": "execute_result"
    }
   ],
   "source": [
    "from collections import deque\n",
    "\n",
    "class Solution:\n",
    "    def nearestSmallerNumber(self, N, arr):\n",
    "        stack = deque()    # stack follows LIFO or FILO\n",
    "        result = [-1]*N    # making the default element as -1\n",
    "        for i in range(N):\n",
    "            while stack and arr[i] < arr[stack[-1]]:    # when stack is not empty comparing if the current element is greater than last element of stack\n",
    "                stack.pop()    # removing the last index from stack\n",
    "            if stack:    # if stack is not empty\n",
    "                result[i] = arr[stack[-1]]    # adding the smaller element at the index to result\n",
    "            stack.append(i)    # otherwise appending the index to stack \n",
    "        return result\n",
    "\n",
    "N = 3\n",
    "arr = [1,6,2]\n",
    "s = Solution()\n",
    "s.nearestSmallerNumber(N, arr)"
   ]
  },
  {
   "cell_type": "markdown",
   "id": "81f2e239",
   "metadata": {},
   "source": [
    " **Question 3**\n",
    "\n",
    "Implement a Stack using two queues **q1** and **q2**.\n",
    "\n",
    "**Example 1:**\n",
    "\n",
    "</aside>"
   ]
  },
  {
   "cell_type": "markdown",
   "id": "90f2cbec",
   "metadata": {},
   "source": [
    "Input:\n",
    "    \n",
    "push(2)\n",
    "\n",
    "push(3)\n",
    "\n",
    "pop()\n",
    "\n",
    "push(4)\n",
    "\n",
    "pop()\n",
    "\n",
    "Output:3 4\n",
    "    \n",
    "Explanation:\n",
    "push(2) the stack will be {2}\n",
    "\n",
    "push(3) the stack will be {2 3}\n",
    "\n",
    "pop()   poped element will be 3 the\n",
    "        stack will be {2}\n",
    "    \n",
    "push(4) the stack will be {2 4}\n",
    "\n",
    "\n",
    "pop()   poped element will be 4\n"
   ]
  },
  {
   "cell_type": "markdown",
   "id": "146c8d40",
   "metadata": {},
   "source": [
    "#### Example:\n",
    "\n",
    "Input:\n",
    "    \n",
    "push(2)\n",
    "\n",
    "pop()\n",
    "\n",
    "pop()\n",
    "\n",
    "push(3)\n",
    "\n",
    "Output:2 -1"
   ]
  },
  {
   "cell_type": "code",
   "execution_count": 36,
   "id": "0b38bcce",
   "metadata": {},
   "outputs": [
    {
     "name": "stdout",
     "output_type": "stream",
     "text": [
      "2\n",
      "-1\n"
     ]
    }
   ],
   "source": [
    "class Stack_queue:\n",
    "    def __init__(self):    # declaring queues\n",
    "        self.q1 = []    # queue follows FIFO or LILO\n",
    "        self.q2 = []\n",
    "        \n",
    "    def push_stack(self, n):    # adding element\n",
    "        self.q1.append(n)\n",
    "        \n",
    "    def pop_stack(self):    \n",
    "        if not self.q1:    # if q1 is empty return None\n",
    "            return -1\n",
    "        \n",
    "        while len(self.q1)>1:    # untill the len of q1 is empty\n",
    "            self.q2.append(self.q1.pop(0))    # passing index in pop() to act like queue  #  adding the elements from q1 to q2\n",
    "            \n",
    "        result = self.q1.pop(0)    # removing the starting index to act like stack\n",
    "                \n",
    "        return result\n",
    "    \n",
    "    \n",
    "s = Stack_queue()\n",
    "s.push_stack(2)\n",
    "print(s.pop_stack())\n",
    "print(s.pop_stack())\n",
    "s.push_stack(3)"
   ]
  },
  {
   "cell_type": "markdown",
   "id": "e442289c",
   "metadata": {},
   "source": [
    "#### \n",
    " **Question 4**\n",
    "\n",
    "You are given a stack **St**. You have to reverse the stack using recursion.\n",
    "\n",
    "**Example 1:**\n",
    "\n",
    "</aside>"
   ]
  },
  {
   "cell_type": "markdown",
   "id": "55eb9690",
   "metadata": {},
   "source": [
    "Input:St = {3,2,1,7,6}\n",
    "    \n",
    "Output:{6,7,1,2,3}"
   ]
  },
  {
   "cell_type": "markdown",
   "id": "13e9650a",
   "metadata": {},
   "source": [
    "#### Example 2:"
   ]
  },
  {
   "cell_type": "markdown",
   "id": "1dfed288",
   "metadata": {},
   "source": [
    "Input:St = {4,3,9,6}\n",
    "    \n",
    "Output:{6,9,3,4}"
   ]
  },
  {
   "cell_type": "code",
   "execution_count": 37,
   "id": "1364d525",
   "metadata": {},
   "outputs": [
    {
     "name": "stdout",
     "output_type": "stream",
     "text": [
      "[6, 9, 3, 4]\n"
     ]
    }
   ],
   "source": [
    "def reverse_stack(st):\n",
    "    queue = st    # storing stack elements to queue\n",
    "    if len(queue) <= 1:    # if queue is empty\n",
    "        return queue\n",
    "\n",
    "    top = queue.pop(0)    # remove operation in queue\n",
    "    stack = reverse_stack(st)    # recurrsive call\n",
    "    stack.append(top)    # adding element to stack\n",
    "    \n",
    "    return stack    # returing the reversed stack\n",
    "\n",
    "st = [4, 3, 9, 6]\n",
    "reverse_stack(st)\n",
    "print(st)"
   ]
  },
  {
   "cell_type": "markdown",
   "id": "570a6268",
   "metadata": {},
   "source": [
    " **Question 5**\n",
    "\n",
    "You are given a string **S**, the task is to reverse the string using stack.\n",
    "\n",
    "**Example 1:**\n",
    "\n",
    "</aside>"
   ]
  },
  {
   "cell_type": "markdown",
   "id": "cade260f",
   "metadata": {},
   "source": [
    "Input: S=\"GeeksforGeeks\"\n",
    "    \n",
    "Output: skeeGrofskeeG"
   ]
  },
  {
   "cell_type": "code",
   "execution_count": 38,
   "id": "77975f3e",
   "metadata": {},
   "outputs": [
    {
     "name": "stdout",
     "output_type": "stream",
     "text": [
      "skeeGrofskeeG\n"
     ]
    }
   ],
   "source": [
    "def reverseString(s):\n",
    "    if len(s) == 0:\n",
    "        return s\n",
    "\n",
    "    stack = []    # stack follows LIFO\n",
    "    for i in s:\n",
    "        stack.append(i)    # adding string to stack\n",
    "        \n",
    "    s = ''    # after adding all elements making string empty\n",
    "    \n",
    "    while stack:    # while stack is not empty\n",
    "        s+=stack.pop()    # removing the last element from stack and adding to string\n",
    "    \n",
    "    return s    # return reversed string\n",
    "    \n",
    "s = 'GeeksforGeeks'\n",
    "print(reverseString(s))"
   ]
  },
  {
   "cell_type": "markdown",
   "id": "51ca2e11",
   "metadata": {},
   "source": [
    " **Question 6**\n",
    "\n",
    "Given string **S** representing a postfix expression, the task is to evaluate the expression and find the final value. Operators will only include the basic arithmetic operators like ***, /, + and -**.\n",
    "\n",
    "**Example 1:**\n",
    "\n"
   ]
  },
  {
   "cell_type": "markdown",
   "id": "acc4ceac",
   "metadata": {},
   "source": [
    "Input: S = \"231*+9-\"\n",
    "    \n",
    "Output: -4\n",
    "    \n",
    "    \n",
    "Explanation:\n",
    "After solving the given expression,\n",
    "we have -4 as result.\n"
   ]
  },
  {
   "cell_type": "code",
   "execution_count": 40,
   "id": "8d581ac2",
   "metadata": {},
   "outputs": [
    {
     "data": {
      "text/plain": [
       "-4"
      ]
     },
     "execution_count": 40,
     "metadata": {},
     "output_type": "execute_result"
    }
   ],
   "source": [
    "from collections import deque\n",
    "\n",
    "class Solution:\n",
    "    def postfixOperation(self, s):\n",
    "        if not s:    # if string is empty\n",
    "            return s\n",
    "        \n",
    "        stack = deque()    # stack follows LIFO\n",
    "        \n",
    "        for ch in s:    # Traversing over string\n",
    "            if ch.isdigit():    # if char is digit then append to stack\n",
    "                stack.append(int(ch))\n",
    "                \n",
    "            else:    # if ch is any operator\n",
    "                x = stack.pop()    # remove top element\n",
    "                y = stack.pop()    # remove second element\n",
    "                if ch == '+':    # apply oerator and add to the stack\n",
    "                    stack.append(y+x)\n",
    "                if ch == '-':    # apply oerator and add to the stack\n",
    "                    stack.append(y-x)\n",
    "                if ch == '*':    # apply oerator and add to the stack\n",
    "                    stack.append(y*x)\n",
    "                if ch == '/':    # apply oerator and add to the stack\n",
    "                    stack.append(y//x)\n",
    "        return stack.pop()\n",
    "\n",
    "s = Solution()\n",
    "S = \"231*+9-\"\n",
    "s.postfixOperation(S)"
   ]
  },
  {
   "cell_type": "markdown",
   "id": "477f122a",
   "metadata": {},
   "source": [
    " **Question 7**\n",
    "\n",
    "Design a stack that supports push, pop, top, and retrieving the minimum element in constant time.\n",
    "\n",
    "Implement the `MinStack` class:\n",
    "\n",
    "- `MinStack()` initializes the stack object.\n",
    "- `void push(int val)` pushes the element `val` onto the stack.\n",
    "- `void pop()` removes the element on the top of the stack.\n",
    "- `int top()` gets the top element of the stack.\n",
    "- `int getMin()` retrieves the minimum element in the stack.\n",
    "\n",
    "You must implement a solution with `O(1)` time complexity for each function.\n",
    "\n",
    "**Example 1:**\n",
    "\n",
    "</aside>"
   ]
  },
  {
   "cell_type": "markdown",
   "id": "033027ba",
   "metadata": {},
   "source": [
    "Input\n",
    "\n",
    "[\"MinStack\",\"push\",\"push\",\"push\",\"getMin\",\"pop\",\"top\",\"getMin\"]\n",
    "\n",
    "[[],[-2],[0],[-3],[],[],[],[]]\n",
    "\n",
    "Output\n",
    "\n",
    "[null,null,null,null,-3,null,0,-2]\n",
    "\n",
    "Explanation\n",
    "\n",
    "MinStack minStack = new MinStack();\n",
    "\n",
    "minStack.push(-2);\n",
    "\n",
    "minStack.push(0);\n",
    "\n",
    "minStack.push(-3);\n",
    "\n",
    "minStack.getMin(); // return -3\n",
    "\n",
    "minStack.pop();\n",
    "\n",
    "minStack.top();    // return 0\n",
    "\n",
    "minStack.getMin(); // return -2"
   ]
  },
  {
   "cell_type": "code",
   "execution_count": 42,
   "id": "68d27e01",
   "metadata": {},
   "outputs": [
    {
     "name": "stdout",
     "output_type": "stream",
     "text": [
      "-3\n",
      "0\n",
      "-2\n"
     ]
    }
   ],
   "source": [
    "class MinStack:\n",
    "    def __init__(self):\n",
    "        self.stack= []    # stack follows LIFO\n",
    "        \n",
    "    def push(self, val):\n",
    "        if not self.stack:    # if satck is empty then add the element directly\n",
    "            self.stack.append((val,val)) \n",
    "        else:\n",
    "            self.stack.append((val,min(val,self.stack[-1][1])))    # otherwise add the minimum element first between current and last element of stack \n",
    "            \n",
    "    def pop(self):\n",
    "        if self.stack:   # if stack is not empty\n",
    "            self.stack.pop()\n",
    "        else:\n",
    "            return 'Empty Stack'\n",
    "            \n",
    "    def top(self):\n",
    "        if self.stack: \n",
    "            return self.stack[-1][0]    # getting the top element\n",
    "        else: \n",
    "            return None\n",
    "        \n",
    "    def getMin(self):\n",
    "        if self.stack: \n",
    "            return self.stack[-1][1]    # getting the last element as minimum element \n",
    "        else: \n",
    "            return None\n",
    "        \n",
    "        \n",
    "m = MinStack()\n",
    "m.push(-2)\n",
    "m.push(0)\n",
    "m.push(-3)\n",
    "print(m.getMin())\n",
    "m.pop()\n",
    "print(m.top())\n",
    "print(m.getMin())"
   ]
  },
  {
   "cell_type": "markdown",
   "id": "ed4ab99e",
   "metadata": {},
   "source": [
    "**Question 8**\n",
    "\n",
    "Given `n` non-negative integers representing an elevation map where the width of each bar is `1`, compute how much water it can trap after raining.\n",
    "\n",
    "**Example 1:**\n",
    "\n",
    "</aside>"
   ]
  },
  {
   "cell_type": "markdown",
   "id": "011a9a8a",
   "metadata": {},
   "source": [
    "Input: height = [0,1,0,2,1,0,1,3,2,1,2,1]\n",
    "    \n",
    "Output: 6\n",
    "    \n",
    "    \n",
    "Explanation: The above elevation map (black section) is represented by array [0,1,0,2,1,0,1,3,2,1,2,1]. In this case, 6 units of rain water (blue section) are being trapped.\n"
   ]
  },
  {
   "cell_type": "markdown",
   "id": "a9926119",
   "metadata": {},
   "source": [
    "#### Example:\n",
    "\n",
    "Input: height = [4,2,0,3,2,5]\n",
    "    \n",
    "Output: 9"
   ]
  },
  {
   "cell_type": "code",
   "execution_count": 43,
   "id": "0ea02890",
   "metadata": {},
   "outputs": [
    {
     "name": "stdout",
     "output_type": "stream",
     "text": [
      "6\n"
     ]
    }
   ],
   "source": [
    "def maxWater(arr, n):\n",
    "\n",
    "    res = 0\n",
    "\n",
    "    for i in range(1, n - 1):\n",
    "\n",
    "        # Find the maximum element on its left\n",
    "        left = arr[i]\n",
    "        for j in range(i):\n",
    "            left = max(left, arr[j])\n",
    "\n",
    "        # Find the maximum element on its right\n",
    "        right = arr[i]\n",
    "\n",
    "        for j in range(i + 1, n):\n",
    "            right = max(right, arr[j])\n",
    "\n",
    "        # Update the maximum water\n",
    "        res = res + (min(left, right) - arr[i])\n",
    "\n",
    "    return res\n",
    "\n",
    "\n",
    "if __name__ == \"__main__\":\n",
    "\n",
    "    arr = [0, 1, 0, 2, 1, 0, 1, 3, 2, 1, 2, 1]\n",
    "    n = len(arr)\n",
    "\n",
    "    print(maxWater(arr, n))"
   ]
  },
  {
   "cell_type": "code",
   "execution_count": null,
   "id": "b1ab4c75",
   "metadata": {},
   "outputs": [],
   "source": []
  }
 ],
 "metadata": {
  "kernelspec": {
   "display_name": "Python 3 (ipykernel)",
   "language": "python",
   "name": "python3"
  },
  "language_info": {
   "codemirror_mode": {
    "name": "ipython",
    "version": 3
   },
   "file_extension": ".py",
   "mimetype": "text/x-python",
   "name": "python",
   "nbconvert_exporter": "python",
   "pygments_lexer": "ipython3",
   "version": "3.10.9"
  }
 },
 "nbformat": 4,
 "nbformat_minor": 5
}
