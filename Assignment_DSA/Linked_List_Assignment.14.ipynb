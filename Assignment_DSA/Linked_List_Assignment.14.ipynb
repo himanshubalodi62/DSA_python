{
 "cells": [
  {
   "cell_type": "markdown",
   "id": "fe694299",
   "metadata": {},
   "source": [
    "**Question 1**\n",
    "\n",
    "Given a linked list of **N** nodes such that it may contain a loop.\n",
    "\n",
    "A loop here means that the last node of the link list is connected to the node at position X(1-based index). If the link list does not have any loop, X=0.\n",
    "\n",
    "Remove the loop from the linked list, if it is present, i.e. unlink the last node which is forming the loop.\n",
    "\n",
    "**Example 1:**\n",
    "\n",
    "Input:\n",
    "\n",
    "N = 3\n",
    "\n",
    "value[] = {1,3,4}\n",
    "\n",
    "X = 2\n",
    "\n",
    "Output:1\n",
    "\n",
    "\n",
    "Explanation:The link list looks like\n",
    "\n",
    "1 -> 3 -> 4\n",
    "     ^    |\n",
    "     |____|\n",
    "A loop is present. If you remove it\n",
    "successfully, the answer will be 1.\n"
   ]
  },
  {
   "cell_type": "markdown",
   "id": "c88f6a71",
   "metadata": {},
   "source": [
    "#### Example 2:\n",
    "\n",
    "Input:\n",
    "\n",
    "N = 4\n",
    "\n",
    "value[] = {1,8,3,4}\n",
    "\n",
    "X = 0\n",
    "\n",
    "Output:1\n",
    "Explanation:The Linked list does not\n",
    "contains any loop."
   ]
  },
  {
   "cell_type": "markdown",
   "id": "c8aa4bdc",
   "metadata": {},
   "source": [
    "#### Example 3:\n",
    "\n",
    "Input:\n",
    "\n",
    "N = 4\n",
    "\n",
    "value[] = {1,2,3,4}\n",
    "\n",
    "X = 1\n",
    "\n",
    "Output:1\n",
    "\n",
    "Explanation:The link list looks like\n",
    "\n",
    "1 -> 2 -> 3 -> 4\n",
    "\n",
    "^              |\n",
    "|______________|\n",
    "\n",
    "A loop is present.\n",
    "If you remove it successfully,\n",
    "the answer will be 1."
   ]
  },
  {
   "cell_type": "code",
   "execution_count": 3,
   "id": "12c96ba5",
   "metadata": {},
   "outputs": [],
   "source": [
    "class ListNode:\n",
    "    def __init__(self, val=0, next=None):\n",
    "        self.val = val\n",
    "        self.next = next\n",
    "\n",
    "\n",
    "def detectAndRemoveLoop(head):\n",
    "    if not head or not head.next:\n",
    "        return\n",
    "\n",
    "    # Function to detect the loop and return the loop starting node\n",
    "    def detectLoop():\n",
    "        slow = head\n",
    "        fast = head\n",
    "\n",
    "        while fast and fast.next:\n",
    "            slow = slow.next\n",
    "            fast = fast.next.next\n",
    "\n",
    "            if slow == fast:\n",
    "                return slow\n",
    "\n",
    "        return None\n",
    "\n",
    "    # Function to remove the loop\n",
    "    def removeLoop(loop_start):\n",
    "        ptr1 = head\n",
    "        ptr2 = loop_start\n",
    "\n",
    "        # Move both pointers at the same pace until they meet\n",
    "        while ptr1.next != ptr2.next:\n",
    "            ptr1 = ptr1.next\n",
    "            ptr2 = ptr2.next\n",
    "\n",
    "        # Disconnect the loop by setting the next pointer of the last node to None\n",
    "        ptr2.next = None\n",
    "\n",
    "    # Detect the loop\n",
    "    loop_start = detectLoop()\n",
    "\n",
    "    if loop_start:\n",
    "        # Remove the loop\n",
    "        removeLoop(loop_start)"
   ]
  },
  {
   "cell_type": "markdown",
   "id": "6fc59501",
   "metadata": {},
   "source": [
    "**Question 3**\n",
    "\n",
    "Given a Linked List of size N, where every node represents a sub-linked-list and contains two pointers:(i) a **next** pointer to the next node,(ii) a **bottom** pointer to a linked list where this node is head.Each of the sub-linked-list is in sorted order.Flatten the Link List such that all the nodes appear in a single level while maintaining the sorted order. **Note:** The flattened list will be printed using the bottom pointer instead of next pointer.\n",
    "\n",
    "**Example 1:**\n",
    "\n",
    "Input:\n",
    "\n",
    "5 -> 10 -> 19 -> 28\n",
    "|     |     |     |\n",
    "7     20    22   35\n",
    "|           |     |\n",
    "8          50    40\n",
    "|                 |\n",
    "30               45\n",
    "\n",
    "Output: 5-> 7-> 8- > 10 -> 19-> 20->\n",
    "\n",
    "22-> 28-> 30-> 35-> 40-> 45-> 50.\n",
    "\n",
    "\n",
    "Explanation:\n",
    "The resultant linked lists has every\n",
    "node in a single level.(Note:| represents the bottom pointer.)"
   ]
  },
  {
   "cell_type": "code",
   "execution_count": 4,
   "id": "b79b532d",
   "metadata": {},
   "outputs": [],
   "source": [
    "class ListNode:\n",
    "    def __init__(self, val=0, next=None, bottom=None):\n",
    "        self.val = val\n",
    "        self.next = next\n",
    "        self.bottom = bottom\n",
    "\n",
    "\n",
    "def mergeLists(list1, list2):\n",
    "    dummy = ListNode(0)\n",
    "    current = dummy\n",
    "\n",
    "    while list1 and list2:\n",
    "        if list1.val <= list2.val:\n",
    "            current.bottom = list1\n",
    "            list1 = list1.bottom\n",
    "        else:\n",
    "            current.bottom = list2\n",
    "            list2 = list2.bottom\n",
    "        current = current.bottom\n",
    "\n",
    "    if list1:\n",
    "        current.bottom = list1\n",
    "    else:\n",
    "        current.bottom = list2\n",
    "\n",
    "    return dummy.bottom\n",
    "\n",
    "\n",
    "def flattenLinkedList(head):\n",
    "    if not head or not head.next:\n",
    "        return head\n",
    "\n",
    "    # Recursively flatten the remaining lists\n",
    "    head.next = flattenLinkedList(head.next)\n",
    "\n",
    "    # Merge the current list with the flattened list\n",
    "    head = mergeLists(head, head.next)\n",
    "\n",
    "    return head"
   ]
  },
  {
   "cell_type": "markdown",
   "id": "85b6c9e5",
   "metadata": {},
   "source": [
    " **Question 4**\n",
    "\n",
    "You are given a special linked list with **N** nodes where each node has a next pointer pointing to its next node. You are also given **M** random pointers, where you will be given **M** number of pairs denoting two nodes **a** and **b**  **i.e. a->arb = b** (arb is pointer to random node)**.**\n",
    "\n",
    "Construct a copy of the given list. The copy should consist of exactly **N** new nodes, where each new node has its value set to the value of its corresponding original node. Both the next and random pointer of the new nodes should point to new nodes in the copied list such that the pointers in the original list and copied list represent the same list state. None of the pointers in the new list should point to nodes in the original list.\n",
    "\n",
    "For example, if there are two nodes **X** and **Y** in the original list, where **X.arb** **-->** **Y**, then for the corresponding two nodes **x** and **y** in the copied list, **x.arb --> y.**\n",
    "\n",
    "Return the head of the copied linked list.\n"
   ]
  },
  {
   "cell_type": "markdown",
   "id": "68a7c918",
   "metadata": {},
   "source": [
    "<img src = \"https://pwskills.notion.site/image/https%3A%2F%2Fcontribute.geeksforgeeks.org%2Fwp-content%2Fuploads%2Fclone.jpg?id=91feb271-fee1-4199-9997-34833a3388da&table=block&spaceId=6fae2e0f-dedc-48e9-bc59-af2654c78209&width=900&userId=&cache=v2\" width=\"500\" height=\"300\"/>"
   ]
  },
  {
   "cell_type": "markdown",
   "id": "5d6865fe",
   "metadata": {},
   "source": [
    "Note :- The diagram isn't part of any example, it just depicts an example of how the linked list may look like."
   ]
  },
  {
   "cell_type": "markdown",
   "id": "85becea4",
   "metadata": {},
   "source": [
    "#### Example 1: \n",
    "\n",
    "Input:\n",
    "    \n",
    "N = 4, M = 2\n",
    "\n",
    "\n",
    "value = {1,2,3,4}\n",
    "\n",
    "pairs = {{1,2},{2,4}}\n",
    "\n",
    "Output:1\n",
    "\n",
    "\n",
    "Explanation:In this test case, there\n",
    "are 4 nodes in linked list.  Among these\n",
    "4 nodes,  2 nodes have arbitrary pointer\n",
    "set, rest two nodes have arbitrary pointer\n",
    "as NULL. Second line tells us the value\n",
    "of four nodes. The third line gives the\n",
    "information about arbitrary pointers.\n",
    "The first node arbitrary pointer is set to\n",
    "node 2.  The second node arbitrary pointer\n",
    "is set to node 4.\n"
   ]
  },
  {
   "cell_type": "markdown",
   "id": "bcc5125c",
   "metadata": {},
   "source": [
    "#### Example 2:\n",
    "\n",
    "Input:\n",
    "    \n",
    "N = 4, M = 2\n",
    "\n",
    "value[] = {1,3,5,9}\n",
    "\n",
    "pairs[] = {{1,1},{3,4}}\n",
    "\n",
    "Output:1\n",
    "\n",
    "Explanation:In the given testcase ,\n",
    "applying the method as stated in the\n",
    "above example, the output will be 1."
   ]
  },
  {
   "cell_type": "code",
   "execution_count": 10,
   "id": "a9c647e8",
   "metadata": {},
   "outputs": [
    {
     "name": "stdout",
     "output_type": "stream",
     "text": [
      "Value: 1, Random: 3\n",
      "Value: 2, Random: 5\n",
      "Value: 3, Random: 2\n",
      "Value: 4, Random: None\n",
      "Value: 5, Random: None\n"
     ]
    }
   ],
   "source": [
    "class Node:\n",
    "    def __init__(self, val=0, next=None, random=None):\n",
    "        self.val = val\n",
    "        self.next = next\n",
    "        self.random = random\n",
    "\n",
    "\n",
    "def copyRandomList(head):\n",
    "    if not head:\n",
    "        return None\n",
    "\n",
    "    # Create the copied nodes and interweave them with the original nodes\n",
    "    current = head\n",
    "    while current:\n",
    "        new_node = Node(current.val)\n",
    "        new_node.next = current.next\n",
    "        current.next = new_node\n",
    "        current = new_node.next\n",
    "\n",
    "    # Update the random pointers of the copied nodes\n",
    "    current = head\n",
    "    while current:\n",
    "        if current.random:\n",
    "            current.next.random = current.random.next\n",
    "        current = current.next.next\n",
    "\n",
    "    # Separate the copied list from the original list\n",
    "    copied_head = head.next\n",
    "    current = head\n",
    "    while current:\n",
    "        temp = current.next\n",
    "        current.next = temp.next if temp else None\n",
    "        current = temp\n",
    "\n",
    "    return copied_head\n",
    "\n",
    "head = Node(1)\n",
    "head.next = Node(2)\n",
    "head.next.next = Node(3)\n",
    "head.next.next.next = Node(4)\n",
    "head.next.next.next.next = Node(5)\n",
    "\n",
    "head.random = head.next.next\n",
    "head.next.random = head.next.next.next.next\n",
    "head.next.next.random = head.next\n",
    "\n",
    "copied_head = copyRandomList(head)\n",
    "\n",
    "# Print the values of the copied list along with the random pointers\n",
    "current = copied_head\n",
    "while current:\n",
    "    print(f\"Value: {current.val}\", end=\", \")\n",
    "    if current.random:\n",
    "        print(f\"Random: {current.random.val}\")\n",
    "    else:\n",
    "        print(\"Random: None\")\n",
    "    current = current.next"
   ]
  },
  {
   "cell_type": "code",
   "execution_count": null,
   "id": "a5741bd0",
   "metadata": {},
   "outputs": [],
   "source": []
  },
  {
   "cell_type": "markdown",
   "id": "822ab3e6",
   "metadata": {},
   "source": [
    "**Question 5**\n",
    "\n",
    "Given the `head` of a singly linked list, group all the nodes with odd indices together followed by the nodes with even indices, and return *the reordered list*.\n",
    "\n",
    "The **first** node is considered **odd**, and the **second** node is **even**, and so on.\n",
    "\n",
    "Note that the relative order inside both the even and odd groups should remain as it was in the input.\n",
    "\n",
    "You must solve the problem in `O(1)` extra space complexity and `O(n)` time complexity.\n",
    "\n",
    "**Example 1:**\n"
   ]
  },
  {
   "cell_type": "markdown",
   "id": "be01a6d3",
   "metadata": {},
   "source": [
    "<img src = \"https://pwskills.notion.site/image/https%3A%2F%2Fassets.leetcode.com%2Fuploads%2F2021%2F03%2F10%2Foddeven-linked-list.jpg?id=13e98531-bf7c-461e-ae66-555d769a04ec&table=block&spaceId=6fae2e0f-dedc-48e9-bc59-af2654c78209&width=600&userId=&cache=v2\" width=\"500\" height=\"300\"/>"
   ]
  },
  {
   "cell_type": "markdown",
   "id": "7002a9b9",
   "metadata": {},
   "source": [
    "Input: head = [1,2,3,4,5]\n",
    "    \n",
    "    \n",
    "Output: [1,3,5,2,4]\n"
   ]
  },
  {
   "cell_type": "markdown",
   "id": "9e4db5d2",
   "metadata": {},
   "source": [
    "#### Example 2:"
   ]
  },
  {
   "cell_type": "markdown",
   "id": "8d3bfb5a",
   "metadata": {},
   "source": [
    "<img src = \"https://pwskills.notion.site/image/https%3A%2F%2Fassets.leetcode.com%2Fuploads%2F2021%2F03%2F10%2Foddeven2-linked-list.jpg?id=d65e07e9-88ca-432c-81bd-06b38ccd8cd4&table=block&spaceId=6fae2e0f-dedc-48e9-bc59-af2654c78209&width=1000&userId=&cache=v2\" width=\"500\" height=\"300\"/>"
   ]
  },
  {
   "cell_type": "markdown",
   "id": "83f89dbb",
   "metadata": {},
   "source": [
    "Input: head = [2,1,3,5,6,4,7]\n",
    "    \n",
    "Output: [2,3,6,7,1,5,4]"
   ]
  },
  {
   "cell_type": "code",
   "execution_count": null,
   "id": "c405cdf8",
   "metadata": {},
   "outputs": [],
   "source": [
    "\"from typing import Optional\\n\",\n",
    "    \"\\n\",\n",
    "    \"\\n\",\n",
    "    \"class ListNode:\\n\",\n",
    "    \"    def __init__(self, val):\\n\",\n",
    "    \"        self.val = val\\n\",\n",
    "    \"        self.next = None\\n\",\n",
    "    \"\\n\",\n",
    "    \"class Solution:\\n\",\n",
    "    \"    def removeLoop(self, head: Optional[ListNode], N, x):\\n\",\n",
    "    \"        dummy = ListNode(-1, head)\\n\",\n",
    "    \"        slow, fast = dummy, head\\n\",\n",
    "    \"        for i in range(N):\\n\",\n",
    "    \"            fast = fast.next\\n\",\n",
    "    \"        while fast:\\n\",\n",
    "    \"            if fast.val == slow.val:\\n\",\n",
    "    \"                fast = None\\n\",\n",
    "    \"                return 1\\n\",\n",
    "    \"        return 1\""
   ]
  },
  {
   "cell_type": "code",
   "execution_count": null,
   "id": "64e10e44",
   "metadata": {},
   "outputs": [],
   "source": []
  },
  {
   "cell_type": "markdown",
   "id": "04802843",
   "metadata": {},
   "source": [
    "**Question 6**\n",
    "\n",
    "Given a singly linked list of size **N**. The task is to **left-shift** the linked list by **k** nodes, where **k** is a given positive integer smaller than or equal to length of the linked list.\n",
    "\n",
    "**Example 1:**\n"
   ]
  },
  {
   "cell_type": "markdown",
   "id": "af91b521",
   "metadata": {},
   "source": [
    "Input:\n",
    "    \n",
    "N = 5\n",
    "\n",
    "value[] = {2, 4, 7, 8, 9}\n",
    "\n",
    "k = 3\n",
    "\n",
    "Output:8 9 2 4 7\n",
    "    \n",
    "Explanation:Rotate 1:4 -> 7 -> 8 -> 9 -> 2\n",
    "        \n",
    "Rotate 2: 7 -> 8 -> 9 -> 2 -> 4\n",
    "    \n",
    "Rotate 3: 8 -> 9 -> 2 -> 4 -> 7\n"
   ]
  },
  {
   "cell_type": "markdown",
   "id": "00b0188d",
   "metadata": {},
   "source": [
    "#### Example 2:"
   ]
  },
  {
   "cell_type": "markdown",
   "id": "7e41f4a3",
   "metadata": {},
   "source": [
    "Input:\n",
    "    \n",
    "N = 8\n",
    "\n",
    "value[] = {1, 2, 3, 4, 5, 6, 7, 8}\n",
    "\n",
    "k = 4\n",
    "\n",
    "Output:5 6 7 8 1 2 3 4"
   ]
  },
  {
   "cell_type": "code",
   "execution_count": null,
   "id": "c1b442d7",
   "metadata": {},
   "outputs": [],
   "source": []
  },
  {
   "cell_type": "code",
   "execution_count": null,
   "id": "33056db2",
   "metadata": {},
   "outputs": [],
   "source": []
  },
  {
   "cell_type": "markdown",
   "id": "ad076c3b",
   "metadata": {},
   "source": [
    "**Question 7**\n",
    "\n",
    "You are given the `head` of a linked list with `n` nodes.\n",
    "\n",
    "For each node in the list, find the value of the **next greater node**. That is, for each node, find the value of the first node that is next to it and has a **strictly larger** value than it.\n",
    "\n",
    "Return an integer array `answer` where `answer[i]` is the value of the next greater node of the `ith` node (**1-indexed**). If the `ith` node does not have a next greater node, set `answer[i] = 0`.\n"
   ]
  },
  {
   "cell_type": "markdown",
   "id": "17598b43",
   "metadata": {},
   "source": [
    "#### Example 1:"
   ]
  },
  {
   "cell_type": "markdown",
   "id": "03b39f3a",
   "metadata": {},
   "source": [
    "<img src = \"https://pwskills.notion.site/image/https%3A%2F%2Fassets.leetcode.com%2Fuploads%2F2021%2F08%2F05%2Flinkedlistnext1.jpg?id=cae2303b-e908-4f5d-8b20-a4d530752f53&table=block&spaceId=6fae2e0f-dedc-48e9-bc59-af2654c78209&width=610&userId=&cache=v2\" width=\"500\" height=\"300\"/>"
   ]
  },
  {
   "cell_type": "markdown",
   "id": "66600373",
   "metadata": {},
   "source": [
    "Input: head = [2,1,5]\n",
    "    \n",
    "Output: [5,5,0]\n"
   ]
  },
  {
   "cell_type": "markdown",
   "id": "0cf3f9c7",
   "metadata": {},
   "source": [
    "#### Example 2:\n"
   ]
  },
  {
   "cell_type": "markdown",
   "id": "2cb9e0a5",
   "metadata": {},
   "source": [
    "<img src = \"https://pwskills.notion.site/image/https%3A%2F%2Fassets.leetcode.com%2Fuploads%2F2021%2F08%2F05%2Flinkedlistnext2.jpg?id=f77103cf-d4e1-4f47-bb0a-247cb26bda15&table=block&spaceId=6fae2e0f-dedc-48e9-bc59-af2654c78209&width=1000&userId=&cache=v2\" widht=\"500\" height=\"300\"/>"
   ]
  },
  {
   "cell_type": "markdown",
   "id": "255a484b",
   "metadata": {},
   "source": [
    "Input: head = [2,7,4,3,5]\n",
    "    \n",
    "Output: [7,0,5,5,0]"
   ]
  },
  {
   "cell_type": "code",
   "execution_count": 1,
   "id": "4645b344",
   "metadata": {},
   "outputs": [],
   "source": [
    "class Solution:\n",
    "    def nextGreaterNode(self, head):\n",
    "        slow, fast = head, head.next    # assigning slow and fast one step far\n",
    "        new_l = [0]*len(head)    # creating a new LL\n",
    "        while fast:\n",
    "            if fast.val > slow.val:    # if ahead value is greater than behind the add value\n",
    "                new_l = fast.val\n",
    "            else:\n",
    "                new_l = 0    # otherwise add 0\n",
    "        return new_l"
   ]
  },
  {
   "cell_type": "code",
   "execution_count": null,
   "id": "2b680d42",
   "metadata": {},
   "outputs": [],
   "source": []
  },
  {
   "cell_type": "markdown",
   "id": "926c386c",
   "metadata": {},
   "source": [
    "**Question 8**\n",
    "\n",
    "Given the `head` of a linked list, we repeatedly delete consecutive sequences of nodes that sum to `0` until there are no such sequences.\n",
    "\n",
    "After doing so, return the head of the final linked list.  You may return any such answer.\n",
    "\n",
    "(Note that in the examples below, all sequences are serializations of `ListNode` objects.)\n",
    "\n",
    "**Example 1:**\n"
   ]
  },
  {
   "cell_type": "markdown",
   "id": "c7a632f0",
   "metadata": {},
   "source": [
    "Input: head = [1,2,-3,3,1]\n",
    "    \n",
    "Output: [3,1]\n",
    "    \n",
    "Note: The answer [1,2,1] would also be accepted.\n"
   ]
  },
  {
   "cell_type": "markdown",
   "id": "6effbbc0",
   "metadata": {},
   "source": [
    "#### Example 2:\n"
   ]
  },
  {
   "cell_type": "markdown",
   "id": "0c7ee091",
   "metadata": {},
   "source": [
    "Input: head = [1,2,3,-3,4]\n",
    "    \n",
    "Output: [1,2,4]\n"
   ]
  },
  {
   "cell_type": "markdown",
   "id": "941207c2",
   "metadata": {},
   "source": [
    "#### Example 3:\n"
   ]
  },
  {
   "cell_type": "markdown",
   "id": "34cecd4b",
   "metadata": {},
   "source": [
    "Input: head = [1,2,3,-3,-2]\n",
    "    \n",
    "Output: [1]"
   ]
  },
  {
   "cell_type": "code",
   "execution_count": null,
   "id": "fdcc2c6f",
   "metadata": {},
   "outputs": [],
   "source": []
  },
  {
   "cell_type": "code",
   "execution_count": null,
   "id": "ee7d7a13",
   "metadata": {},
   "outputs": [],
   "source": []
  },
  {
   "cell_type": "code",
   "execution_count": null,
   "id": "853e8fc4",
   "metadata": {},
   "outputs": [],
   "source": []
  },
  {
   "cell_type": "code",
   "execution_count": null,
   "id": "7a00cd64",
   "metadata": {},
   "outputs": [],
   "source": []
  }
 ],
 "metadata": {
  "kernelspec": {
   "display_name": "Python 3 (ipykernel)",
   "language": "python",
   "name": "python3"
  },
  "language_info": {
   "codemirror_mode": {
    "name": "ipython",
    "version": 3
   },
   "file_extension": ".py",
   "mimetype": "text/x-python",
   "name": "python",
   "nbconvert_exporter": "python",
   "pygments_lexer": "ipython3",
   "version": "3.10.9"
  }
 },
 "nbformat": 4,
 "nbformat_minor": 5
}
