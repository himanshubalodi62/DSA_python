{
 "cells": [
  {
   "cell_type": "markdown",
   "id": "558dda24",
   "metadata": {},
   "source": [
    "#### Question 1\n",
    "\n",
    "Given an integer n, return true if it is a power of two. Otherwise, return false.\n",
    "\n",
    "An integer n is a power of two, if there exists an integer x such that n == 2x.\n",
    "\n",
    "Example 1: Input: n = 1\n",
    "\n",
    "Output: true\n",
    "\n",
    "Example 2: Input: n = 16\n",
    "\n",
    "Output: true\n",
    "\n",
    "Example 3: Input: n = 3\n",
    "\n",
    "Output: false"
   ]
  },
  {
   "cell_type": "code",
   "execution_count": 1,
   "id": "c337521c",
   "metadata": {},
   "outputs": [
    {
     "data": {
      "text/plain": [
       "False"
      ]
     },
     "execution_count": 1,
     "metadata": {},
     "output_type": "execute_result"
    }
   ],
   "source": [
    "def is_power_of_two(n):\n",
    "    if n==1:\n",
    "        return True\n",
    "    if n%2 == 0:\n",
    "        return is_power_of_two(n/2)\n",
    "    else:\n",
    "        return False\n",
    "    \n",
    "is_power_of_two(6)"
   ]
  },
  {
   "cell_type": "markdown",
   "id": "0a55a146",
   "metadata": {},
   "source": [
    "TC: O(log(n))\n",
    "\n",
    "SC: O(1) -> As no extra space is used"
   ]
  },
  {
   "cell_type": "markdown",
   "id": "61d9b616",
   "metadata": {},
   "source": [
    "#### Question 2\n",
    "\n",
    "Given a number n, find the sum of the first natural numbers.\n",
    "\n",
    "Example 1:\n",
    "\n",
    "Input: n = 3\n",
    "\n",
    "Output: 6\n",
    "\n",
    "Example 2:\n",
    "\n",
    "Input : 5\n",
    "\n",
    "Output : 15"
   ]
  },
  {
   "cell_type": "code",
   "execution_count": 2,
   "id": "11557367",
   "metadata": {},
   "outputs": [
    {
     "data": {
      "text/plain": [
       "6"
      ]
     },
     "execution_count": 2,
     "metadata": {},
     "output_type": "execute_result"
    }
   ],
   "source": [
    "def sum_of_natural_nums(n):\n",
    "    if n == 0:   # corner case , so breakinng the process\n",
    "        return 0\n",
    "    return n+sum_of_natural_nums(n-1)\n",
    "\n",
    "sum_of_natural_nums(3)"
   ]
  },
  {
   "cell_type": "markdown",
   "id": "847f1cdd",
   "metadata": {},
   "source": [
    "##### Recursive Tree --> 3 5 6\n",
    "\n",
    "TC: O(n)\n",
    "\n",
    "SC: O(1) -> No extra space use"
   ]
  },
  {
   "cell_type": "markdown",
   "id": "241304af",
   "metadata": {},
   "source": [
    "#### Question 3\n",
    "\n",
    "Given a positive integer, N. Find the factorial of N.\n",
    "\n",
    "Example 1:\n",
    "\n",
    "Input: N = 5\n",
    "\n",
    "Output: 120\n",
    "\n",
    "Example 2:\n",
    "\n",
    "Input: N = 4\n",
    "\n",
    "Output: 24"
   ]
  },
  {
   "cell_type": "code",
   "execution_count": 11,
   "id": "80d7788d",
   "metadata": {},
   "outputs": [
    {
     "data": {
      "text/plain": [
       "24"
      ]
     },
     "execution_count": 11,
     "metadata": {},
     "output_type": "execute_result"
    }
   ],
   "source": [
    "def fact(n):\n",
    "    if n == 0 or n==1:    # Corner case\n",
    "        return 1\n",
    "    return n*fact(n-1)\n",
    "\n",
    "fact(4)"
   ]
  },
  {
   "cell_type": "markdown",
   "id": "ee934534",
   "metadata": {},
   "source": [
    "#### Recurssive Tree\n",
    "\n",
    "5\n",
    "20\n",
    "60\n",
    "120\n",
    "120"
   ]
  },
  {
   "cell_type": "markdown",
   "id": "00357859",
   "metadata": {},
   "source": [
    "#### Question 4\n",
    "\n",
    "Given a number N and a power P, the task is to find the exponent of this number raised to the given power, i.e. N^P.\n",
    "\n",
    "Example 1 :\n",
    "\n",
    "Input: N = 5, P = 2\n",
    "\n",
    "Output: 25\n",
    "\n",
    "Example 2 : Input: N = 2, P = 5\n",
    "\n",
    "Output: 32"
   ]
  },
  {
   "cell_type": "code",
   "execution_count": 20,
   "id": "6a7645a7",
   "metadata": {},
   "outputs": [
    {
     "data": {
      "text/plain": [
       "32"
      ]
     },
     "execution_count": 20,
     "metadata": {},
     "output_type": "execute_result"
    }
   ],
   "source": [
    "def find_exponent(N, P):\n",
    "    if P == 1:    # Corner case\n",
    "        return N\n",
    "    return N*find_exponent(N,P-1)  # Each time reducing the power with 1\n",
    "\n",
    "N = 2\n",
    "P = 5\n",
    "find_exponent(N,P)"
   ]
  },
  {
   "cell_type": "markdown",
   "id": "6e0e9120",
   "metadata": {},
   "source": [
    "Recurssive Tree\n",
    "\n",
    "2\n",
    "4\n",
    "8\n",
    "16\n",
    "32\n",
    "\n",
    "So\n",
    "\n",
    "TC: O(P)\n",
    "\n",
    "SC: O(1) -> No extra space used"
   ]
  },
  {
   "cell_type": "markdown",
   "id": "9cc832eb",
   "metadata": {},
   "source": [
    "#### Question 5\n",
    "\n",
    "Given an array of integers arr, the task is to find maximum element of that array using recursion.\n",
    "\n",
    "Example 1:\n",
    "\n",
    "Input: arr = {1, 4, 3, -5, -4, 8, 6};\n",
    "\n",
    "Output: 8\n",
    "\n",
    "Example 2:\n",
    "\n",
    "Input: arr = {1, 4, 45, 6, 10, -8};\n",
    "\n",
    "Output: 45"
   ]
  },
  {
   "cell_type": "code",
   "execution_count": 27,
   "id": "8aefc905",
   "metadata": {},
   "outputs": [
    {
     "data": {
      "text/plain": [
       "8"
      ]
     },
     "execution_count": 27,
     "metadata": {},
     "output_type": "execute_result"
    }
   ],
   "source": [
    "def max_array(arr, n):\n",
    "    if n == 1:   # Handling corner case and breaking the process\n",
    "        return arr[0]\n",
    "    return max(arr[n-1], max_array(arr, n-1))    # Finding the maximum value between last element and rest other by reducing n\n",
    "\n",
    "arr = [1, 4, 3, -5, -4, 8, 6]\n",
    "n = len(arr)\n",
    "max_array(arr, n)\n"
   ]
  },
  {
   "cell_type": "markdown",
   "id": "4b2cc666",
   "metadata": {},
   "source": [
    "Recurssive Tree\n",
    "\n",
    "According to size of array\n",
    "\n",
    "7\n",
    "6\n",
    "5\n",
    "4\n",
    "3\n",
    "2\n",
    "1\n",
    "\n",
    "So\n",
    "\n",
    "TC: O(P)\n",
    "\n",
    "SC: O(1) -> No extra space used"
   ]
  },
  {
   "cell_type": "markdown",
   "id": "7926c128",
   "metadata": {},
   "source": [
    "#### Question 6\n",
    "\n",
    "Given first term (a), common difference (d) and a integer N of the Arithmetic Progression series, the task is to find Nth term of the series.\n",
    "\n",
    "Example 1:\n",
    "\n",
    "Input : a = 2 d = 1 N = 5\n",
    "\n",
    "Output : 6\n",
    "\n",
    "The 5th term of the series is : 6\n",
    "\n",
    "Example 2:\n",
    "\n",
    "Input : a = 5 d = 2 N = 10\n",
    "\n",
    "Output : 23\n",
    "\n",
    "The 10th term of the series is : 23"
   ]
  },
  {
   "cell_type": "code",
   "execution_count": 30,
   "id": "8a96fb0b",
   "metadata": {},
   "outputs": [
    {
     "data": {
      "text/plain": [
       "23"
      ]
     },
     "execution_count": 30,
     "metadata": {},
     "output_type": "execute_result"
    }
   ],
   "source": [
    "def arithmeic_progression(a, d, N):\n",
    "    if N ==1:\n",
    "        return a\n",
    "    return d+arithmeic_progression(a, d, N-1)\n",
    "\n",
    "a = 5 \n",
    "d = 2 \n",
    "N = 10\n",
    "arithmeic_progression(a, d, N)"
   ]
  },
  {
   "cell_type": "markdown",
   "id": "5a1495b0",
   "metadata": {},
   "source": [
    "Recurssive Tree\n",
    "\n",
    "According to size of array\n",
    "\n",
    "5\n",
    "7\n",
    "9\n",
    "11\n",
    "13\n",
    "15\n",
    "17\n",
    "19\n",
    "21\n",
    "23\n",
    "\n",
    "So\n",
    "\n",
    "TC: O(N)\n",
    "\n",
    "SC: O(1) -> No extra space used"
   ]
  },
  {
   "cell_type": "markdown",
   "id": "8082691b",
   "metadata": {},
   "source": [
    "#### Question 7\n",
    "\n",
    "Given a string S, the task is to write a program to print all permutations of a given string.\n",
    "\n",
    "Example 1:\n",
    "\n",
    "*Input:*\n",
    "\n",
    "S = “ABC”\n",
    "\n",
    "*Output:*\n",
    "\n",
    "“ABC”, “ACB”, “BAC”, “BCA”, “CBA”, “CAB”\n",
    "\n",
    "Example 2:\n",
    "\n",
    "*Input:*\n",
    "\n",
    "S = “XY”\n",
    "\n",
    "*Output:*\n",
    "\n",
    "“XY”, “YX”"
   ]
  },
  {
   "cell_type": "code",
   "execution_count": 31,
   "id": "b613dc0a",
   "metadata": {},
   "outputs": [
    {
     "name": "stdout",
     "output_type": "stream",
     "text": [
      "AB\n",
      "BA\n"
     ]
    }
   ],
   "source": [
    "def toString(List):\n",
    "    return ''.join(List)\n",
    "\n",
    "\n",
    "def permute(a, l, r):\n",
    "    if l == r:\n",
    "        print(toString(a))\n",
    "    else:\n",
    "        for i in range(l, r):\n",
    "            a[l], a[i] = a[i], a[l]\n",
    "            permute(a, l+1, r)\n",
    "            a[l], a[i] = a[i], a[l] # backtrack\n",
    "\n",
    "\n",
    "string = \"AB\"\n",
    "n = len(string)\n",
    "a = list(string)\n",
    "\n",
    "# Function call\n",
    "permute(a, 0, n)"
   ]
  },
  {
   "cell_type": "markdown",
   "id": "fdb4e3f8",
   "metadata": {},
   "source": [
    "#### Question 8\n",
    "\n",
    "Given an array, find a product of all array elements.\n",
    "\n",
    "Example 1:\n",
    "\n",
    "Input : arr[] = {1, 2, 3, 4, 5}\n",
    "\n",
    "Output : 120\n",
    "\n",
    "Example 2:\n",
    "\n",
    "Input : arr[] = {1, 6, 3}\n",
    "\n",
    "Output : 18"
   ]
  },
  {
   "cell_type": "code",
   "execution_count": 32,
   "id": "0af46f72",
   "metadata": {},
   "outputs": [
    {
     "data": {
      "text/plain": [
       "120"
      ]
     },
     "execution_count": 32,
     "metadata": {},
     "output_type": "execute_result"
    }
   ],
   "source": [
    "def product_of_elements(arr, n):\n",
    "    if n == len(arr):    # Corner case for the first element\n",
    "        return 1\n",
    "    else:\n",
    "        return arr[n]*product_of_elements(arr, n+1)\n",
    "\n",
    "arr = [1, 2, 3, 4, 5]\n",
    "n = 0\n",
    "product_of_elements(arr, n)"
   ]
  },
  {
   "cell_type": "markdown",
   "id": "af1de716",
   "metadata": {},
   "source": [
    "Recurssive Tree\n",
    "\n",
    "According to size of array\n",
    "\n",
    "1\n",
    "2\n",
    "6\n",
    "24\n",
    "120\n",
    "\n",
    "So\n",
    "\n",
    "TC: O(n)\n",
    "\n",
    "SC: O(1) -> No extra space used"
   ]
  },
  {
   "cell_type": "code",
   "execution_count": null,
   "id": "0f342a6d",
   "metadata": {},
   "outputs": [],
   "source": []
  }
 ],
 "metadata": {
  "kernelspec": {
   "display_name": "Python 3 (ipykernel)",
   "language": "python",
   "name": "python3"
  },
  "language_info": {
   "codemirror_mode": {
    "name": "ipython",
    "version": 3
   },
   "file_extension": ".py",
   "mimetype": "text/x-python",
   "name": "python",
   "nbconvert_exporter": "python",
   "pygments_lexer": "ipython3",
   "version": "3.10.9"
  }
 },
 "nbformat": 4,
 "nbformat_minor": 5
}
