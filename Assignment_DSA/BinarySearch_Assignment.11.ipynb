{
 "cells": [
  {
   "cell_type": "markdown",
   "id": "fc2daa60",
   "metadata": {},
   "source": [
    " **Question 1**\n",
    "\n",
    "Given a non-negative integer `x`, return *the square root of* `x` *rounded down to the nearest integer*. The returned integer should be **non-negative** as well.\n",
    "\n",
    "You **must not use** any built-in exponent function or operator.\n",
    "\n",
    "- For example, do not use `pow(x, 0.5)` in c++ or `x ** 0.5` in python.\n",
    "\n",
    "**Example 1:**\n",
    "\n",
    "```\n",
    "Input: x = 4\n",
    "Output: 2\n",
    "Explanation: The square root of 4 is 2, so we return 2.\n",
    "\n",
    "```\n"
   ]
  },
  {
   "cell_type": "code",
   "execution_count": 2,
   "id": "104455e8",
   "metadata": {},
   "outputs": [
    {
     "data": {
      "text/plain": [
       "2"
      ]
     },
     "execution_count": 2,
     "metadata": {},
     "output_type": "execute_result"
    }
   ],
   "source": [
    "class Solution:\n",
    "    def squareRoot(self, x):\n",
    "        \"\"\"\n",
    "        :type x: int\n",
    "        :rtype: int\n",
    "        \"\"\"\n",
    "        \n",
    "        if x < 2:\n",
    "            return x\n",
    "        \n",
    "        start = 0\n",
    "        end = x/2\n",
    "        \n",
    "        while (start <= end):\n",
    "            \n",
    "            mid = int((start + end) / 2)\n",
    "            \n",
    "            square = mid * mid\n",
    "            \n",
    "            if square == x:\n",
    "                return mid\n",
    "            \n",
    "            if square > x:\n",
    "                end = mid - 1\n",
    "                \n",
    "            else:\n",
    "                start = mid + 1\n",
    "                \n",
    "        return end\n",
    "s = Solution()\n",
    "n = 8\n",
    "s.squareRoot(n)"
   ]
  },
  {
   "cell_type": "markdown",
   "id": "64ce9aad",
   "metadata": {},
   "source": [
    " **Question 2**\n",
    "\n",
    "A peak element is an element that is strictly greater than its neighbors.\n",
    "\n",
    "Given a **0-indexed** integer array `nums`, find a peak element, and return its index. If the array contains multiple peaks, return the index to **any of the peaks**.\n",
    "\n",
    "You may imagine that `nums[-1] = nums[n] = -∞`. In other words, an element is always considered to be strictly greater than a neighbor that is outside the array.\n",
    "\n",
    "You must write an algorithm that runs in `O(log n)` time.\n",
    "\n",
    "**Example 1:**\n",
    "\n",
    "</aside>"
   ]
  },
  {
   "cell_type": "markdown",
   "id": "871e6a67",
   "metadata": {},
   "source": [
    "Input: nums = [1,2,3,1]\n",
    "\n",
    "\n",
    "Output: 2\n",
    "\n",
    "Explanation: 3 is a peak element and your function should return the index number 2."
   ]
  },
  {
   "cell_type": "markdown",
   "id": "92279c69",
   "metadata": {},
   "source": [
    "Example 2:"
   ]
  },
  {
   "cell_type": "markdown",
   "id": "29013364",
   "metadata": {},
   "source": [
    "Input: nums = [1,2,1,3,5,6,4]\n",
    "\n",
    "Output: 5\n",
    "\n",
    "Explanation: Your function can return either index number 1 where the peak element is 2, or index number 5 where the peak element is 6."
   ]
  },
  {
   "cell_type": "code",
   "execution_count": 4,
   "id": "4c001d1f",
   "metadata": {},
   "outputs": [
    {
     "data": {
      "text/plain": [
       "5"
      ]
     },
     "execution_count": 4,
     "metadata": {},
     "output_type": "execute_result"
    }
   ],
   "source": [
    "class Solution():\n",
    "    def findPeakElement(self, nums):\n",
    "        start = 0\n",
    "        end = len(nums) - 1\n",
    "        while start < end:\n",
    "            mid = (start + end) // 2\n",
    "            if mid == 0:\n",
    "                return 0 if nums[0] >= nums[1] else 1\n",
    "            if mid == end:\n",
    "                return end - 1 if nums[end - 1] >= nums[end - 2] else end - 2\n",
    "\n",
    "            if nums[mid] > nums[mid + 1] and nums[mid] > nums[mid - 1]:\n",
    "                return mid\n",
    "            if nums[mid] < nums[mid - 1]:\n",
    "                end = mid - 1\n",
    "            else:\n",
    "                start = mid + 1\n",
    "        return start\n",
    "    \n",
    "s = Solution()\n",
    "nums = [1,2,1,3,5,6,4]\n",
    "s.findPeakElement(nums)"
   ]
  },
  {
   "cell_type": "markdown",
   "id": "6a017eab",
   "metadata": {},
   "source": [
    "#### Question 3\n",
    "\n",
    "Given an array nums containing n distinct numbers in the range [0, n], return the only number in the range that is missing from the array."
   ]
  },
  {
   "cell_type": "markdown",
   "id": "629f7013",
   "metadata": {},
   "source": [
    "#### Example 1:"
   ]
  },
  {
   "cell_type": "markdown",
   "id": "8e7ffed9",
   "metadata": {},
   "source": [
    "Input: nums = [3,0,1]\n",
    "\n",
    "Output: 2\n",
    "\n",
    "Explanation: n = 3 since there are 3 numbers, so all numbers are in the range [0,3]. 2 is the missing number in the range since it does not appear in nums.\n"
   ]
  },
  {
   "cell_type": "markdown",
   "id": "8a2aa3ef",
   "metadata": {},
   "source": [
    "#### Example 2:\n",
    "\n",
    "Input: nums = [0,1]\n",
    "\n",
    "Output: 2\n",
    "\n",
    "Explanation: n = 2 since there are 2 numbers, so all numbers are in the range [0,2]. 2 is the missing number in the range since it does not appear in nums."
   ]
  },
  {
   "cell_type": "markdown",
   "id": "af230145",
   "metadata": {},
   "source": [
    "#### Example 3:\n",
    "\n",
    "Input: nums = [0,1]\n",
    "\n",
    "Output: 2\n",
    "\n",
    "Explanation: n = 2 since there are 2 numbers, so all numbers are in the range [0,2]. 2 is the missing number in the range since it does not appear in nums."
   ]
  },
  {
   "cell_type": "code",
   "execution_count": 7,
   "id": "8d2a0f75",
   "metadata": {},
   "outputs": [
    {
     "name": "stdout",
     "output_type": "stream",
     "text": [
      "8\n"
     ]
    }
   ],
   "source": [
    "def missingNumber(arr):\n",
    "    \n",
    "    # array's lenght\n",
    "    n = len(arr)\n",
    "    \n",
    "    # finding the sum of total number\n",
    "    total = n * (n + 1) // 2\n",
    "    \n",
    "    # missing number\n",
    "    return total -sum(arr)\n",
    "if __name__ == '__main__':\n",
    "    arr = [9,7,6,5,4,3,2,1,0]\n",
    "    print(missingNumber(arr))"
   ]
  },
  {
   "cell_type": "code",
   "execution_count": 6,
   "id": "b8e9becb",
   "metadata": {},
   "outputs": [
    {
     "name": "stdout",
     "output_type": "stream",
     "text": [
      "8\n"
     ]
    }
   ],
   "source": [
    "def missingNumber(arr):\n",
    "\n",
    "    # array's length\n",
    "    n = len(arr)\n",
    "\n",
    "    # finding the sum of total numbers\n",
    "    total = n * (n + 1) // 2\n",
    "\n",
    "    # missing number\n",
    "    return total - sum(arr)\n",
    "    \n",
    "if __name__ == '__main__':\n",
    "    arr = [9,6,4,2,3,5,7,0,1]\n",
    "    print(missingNumber(arr))"
   ]
  },
  {
   "cell_type": "markdown",
   "id": "8d6c241d",
   "metadata": {},
   "source": [
    "#### Question 4\n",
    "\n",
    "Given an array of integers nums containing n + 1 integers where each integer is in the range [1, n] inclusive.\n",
    "\n",
    "There is only one repeated number in nums, return this repeated number.\n",
    "\n",
    "You must solve the problem without modifying the array nums and uses only constant extra space."
   ]
  },
  {
   "cell_type": "markdown",
   "id": "3bbe1a5b",
   "metadata": {},
   "source": [
    "#### Example 1:\n",
    "\n",
    "Input: nums = [1,3,4,2,2]\n",
    "\n",
    "Output: 2\n"
   ]
  },
  {
   "cell_type": "markdown",
   "id": "95ce8ccb",
   "metadata": {},
   "source": [
    "#### Example 2:\n",
    "\n",
    "Input: nums = [3,1,3,4,2]\n",
    "\n",
    "Output: 3"
   ]
  },
  {
   "cell_type": "code",
   "execution_count": 10,
   "id": "949810dd",
   "metadata": {},
   "outputs": [
    {
     "data": {
      "text/plain": [
       "4"
      ]
     },
     "execution_count": 10,
     "metadata": {},
     "output_type": "execute_result"
    }
   ],
   "source": [
    "def extraInteger(nums):\n",
    "    # sorting array\n",
    "    nums.sort()\n",
    "    \n",
    "    for i in range (len(nums)):\n",
    "        # checking if current number is equal to next number\n",
    "        if nums[i] == nums[i+1]:\n",
    "            return nums[i]\n",
    "        \n",
    "nums = [4,5,6,4,3,2,1]\n",
    "extraInteger(nums)"
   ]
  },
  {
   "cell_type": "markdown",
   "id": "52632fc4",
   "metadata": {},
   "source": [
    "#### Question 5\n",
    "\n",
    "Given two integer arrays nums1 and nums2, return an array of their intersection. Each element in the result must be unique and you may return the result in any order.\n",
    "\n"
   ]
  },
  {
   "cell_type": "markdown",
   "id": "25cbb6b7",
   "metadata": {},
   "source": [
    "#### example 1:\n",
    "\n",
    "Input: nums1 = [1,2,2,1], nums2 = [2,2]\n",
    "\n",
    "Output: [2]\n"
   ]
  },
  {
   "cell_type": "markdown",
   "id": "dcd9b09e",
   "metadata": {},
   "source": [
    "#### example 2:\n",
    "\n",
    "Input: nums1 = [4,9,5], nums2 = [9,4,9,8,4]\n",
    "\n",
    "Output: [9,4]\n",
    "\n",
    "Explanation: [4,9] is also accepted."
   ]
  },
  {
   "cell_type": "code",
   "execution_count": 21,
   "id": "372d61e7",
   "metadata": {},
   "outputs": [
    {
     "data": {
      "text/plain": [
       "[2]"
      ]
     },
     "execution_count": 21,
     "metadata": {},
     "output_type": "execute_result"
    }
   ],
   "source": [
    "def array_intersection(arr1, arr2):\n",
    "    res = set()\n",
    "    for i in arr1:\n",
    "        if i in arr2:\n",
    "            res.add(i)\n",
    "    return list(res)\n",
    "\n",
    "nums1 = [1,2,2,1]\n",
    "nums2 = [2,2]\n",
    "array_intersection(nums1, nums2)"
   ]
  },
  {
   "cell_type": "markdown",
   "id": "f9a5c6ab",
   "metadata": {},
   "source": [
    "#### Question 6\n",
    "\n",
    "Suppose an array of length n sorted in ascending order is rotated between 1 and n times. For example, the array nums = [0,1,2,4,5,6,7] might become:\n",
    "\n",
    "[4,5,6,7,0,1,2] if it was rotated 4 times.\n",
    "\n",
    "\n",
    "[0,1,2,4,5,6,7] if it was rotated 7 times.\n",
    "\n",
    "\n",
    "Notice that rotating an array [a[0], a[1], a[2], ..., a[n-1]] 1 time results in the array [a[n-1], a[0], a[1], a[2], ..., a[n-2]].\n",
    "\n",
    "Given the sorted rotated array nums of unique elements, return the minimum element of this array.\n",
    "\n",
    "You must write an algorithm that runs in O(log n) time.\n",
    "\n"
   ]
  },
  {
   "cell_type": "markdown",
   "id": "ed886ec6",
   "metadata": {},
   "source": [
    "#### Example 1:\n",
    "\n",
    "Input: nums = [3,4,5,1,2]\n",
    "\n",
    "Output: 1\n",
    "\n",
    "Explanation: The original array was [1,2,3,4,5] rotated 3 times.\n"
   ]
  },
  {
   "cell_type": "markdown",
   "id": "86b9cf15",
   "metadata": {},
   "source": [
    "#### Example 2:\n",
    "\n",
    "Input: nums = [4,5,6,7,0,1,2]\n",
    "\n",
    "Output: 0\n",
    "\n",
    "Explanation: The original array was [0,1,2,4,5,6,7] and it was rotated 4 times.\n"
   ]
  },
  {
   "cell_type": "code",
   "execution_count": 31,
   "id": "b22cd712",
   "metadata": {},
   "outputs": [
    {
     "data": {
      "text/plain": [
       "1"
      ]
     },
     "execution_count": 31,
     "metadata": {},
     "output_type": "execute_result"
    }
   ],
   "source": [
    "def minimummElement(nums):\n",
    "    if nums[0] <= nums[-1]:    # handling the corner case\n",
    "        return nums[0]\n",
    "    s = 0\n",
    "    e = len(nums)-1\n",
    "\n",
    "    while s < e:\n",
    "        m = (s+e)//2\n",
    "        if nums[0] <= nums[m]:\n",
    "            s = m+1\n",
    "        else:\n",
    "            e = m\n",
    "    return nums[s]\n",
    "\n",
    "nums= [3,4,5,1,2]\n",
    "minimummElement(nums)"
   ]
  },
  {
   "cell_type": "markdown",
   "id": "fe3d1bc5",
   "metadata": {},
   "source": [
    " **Question 7**\n",
    "\n",
    "Given an array of integers `nums` sorted in non-decreasing order, find the starting and ending position of a given `target` value.\n",
    "\n",
    "If `target` is not found in the array, return `[-1, -1]`.\n",
    "\n",
    "You must write an algorithm with `O(log n)` runtime complexity.\n",
    "\n",
    "**Example 1:**\n",
    "\n",
    "```\n",
    "Input: nums = [5,7,7,8,8,10], target = 8\n",
    "Output: [3,4]\n",
    "\n",
    "```\n",
    "\n",
    "**Example 2:**\n",
    "\n",
    "```\n",
    "Input: nums = [5,7,7,8,8,10], target = 6\n",
    "Output: [-1,-1]\n",
    "\n",
    "```\n",
    "\n",
    "**Example 3:**\n",
    "\n",
    "</aside>"
   ]
  },
  {
   "cell_type": "markdown",
   "id": "4a8290e8",
   "metadata": {},
   "source": [
    "Input: nums = [], target = 0\n",
    "\n",
    "Output: [-1,-1]"
   ]
  },
  {
   "cell_type": "code",
   "execution_count": 35,
   "id": "7cbc3092",
   "metadata": {},
   "outputs": [
    {
     "name": "stdout",
     "output_type": "stream",
     "text": [
      "[3, 4]\n",
      "[-1, -1]\n"
     ]
    }
   ],
   "source": [
    "def findFirstOccurrence(nums, target):\n",
    "    # Left snd right pointers\n",
    "    left, right = 0, len(nums) - 1\n",
    "    # Index of first occurrence\n",
    "    firstOccurrence = -1\n",
    "    # Loop until the two pointers meet\n",
    "    while left <= right:\n",
    "        # Middle index\n",
    "        middle = left + (right - left) // 2\n",
    "        # Check if we have found the value\n",
    "        if target == nums[middle]:\n",
    "            firstOccurrence = middle\n",
    "            right = middle - 1\n",
    "        # If the target is less than the element\n",
    "        # at the middle index\n",
    "        elif target < nums[middle]:\n",
    "            right = middle - 1\n",
    "        # If the target is greater than the element\n",
    "        # at the middle index\n",
    "        else:\n",
    "            left = middle + 1\n",
    "    return firstOccurrence\n",
    "\n",
    "\n",
    "def findLastOccurrence(nums, target):\n",
    "    # Left snd right pointers\n",
    "    left, right = 0, len(nums) - 1\n",
    "    # Index of first occurrence\n",
    "    lastOccurrence = -1\n",
    "    # Loop until the two pointers meet\n",
    "    while left <= right:\n",
    "        # Middle index\n",
    "        middle = left + (right - left) // 2\n",
    "        # Check if we have found the value\n",
    "        if target == nums[middle]:\n",
    "            lastOccurrence = middle\n",
    "            left = middle + 1\n",
    "        # If the target is less than the element\n",
    "        # at the middle index\n",
    "        elif target < nums[middle]:\n",
    "            right = middle - 1\n",
    "        # If the target is greater than the element\n",
    "        # at the middle index\n",
    "        else:\n",
    "            left = middle + 1\n",
    "    return lastOccurrence\n",
    "\n",
    "\n",
    "def searchRange(nums: [int], target: int) -> [int]:\n",
    "    return [findFirstOccurrence(nums, target), findLastOccurrence(nums, target)]\n",
    "\n",
    "\n",
    "nums = [5,7,7,8,8,10]\n",
    "target = 8\n",
    "print(searchRange(nums, target))\n",
    "\n",
    "nums = [5,7,7,8,8,10]\n",
    "target = 6\n",
    "print(searchRange(nums, target))"
   ]
  },
  {
   "cell_type": "markdown",
   "id": "26788a59",
   "metadata": {},
   "source": [
    "#### Question 8\n",
    "\n",
    "Given two integer arrays nums1 and nums2, return an array of their intersection. Each element in the result must appear as many times as it shows in both arrays and you may return the result in any order.\n",
    "\n"
   ]
  },
  {
   "cell_type": "markdown",
   "id": "0bb06e7f",
   "metadata": {},
   "source": [
    "#### Example 1:\n",
    "\n",
    "Input: nums1 = [1,2,2,1], nums2 = [2,2]\n",
    "    \n",
    "Output: [2,2]\n"
   ]
  },
  {
   "cell_type": "markdown",
   "id": "ba1a7a9f",
   "metadata": {},
   "source": [
    "#### Example 2:\n",
    "\n",
    "Input: nums1 = [4,9,5], nums2 = [9,4,9,8,4]\n",
    "    \n",
    "Output: [4,9]\n",
    "    \n",
    "Explanation: [9,4] is also accepted."
   ]
  },
  {
   "cell_type": "code",
   "execution_count": 36,
   "id": "67b7c86d",
   "metadata": {},
   "outputs": [
    {
     "data": {
      "text/plain": [
       "[2, 2]"
      ]
     },
     "execution_count": 36,
     "metadata": {},
     "output_type": "execute_result"
    }
   ],
   "source": [
    "def arrayIntersection(nums1, nums2):\n",
    "    res = []\n",
    "    for i in nums1:\n",
    "        if i in nums2:\n",
    "            res.append(i)\n",
    "    return res\n",
    "\n",
    "nums1 = [1,2,2,1]\n",
    "nums2 = [2,2]\n",
    "arrayIntersection(nums1, nums2)"
   ]
  },
  {
   "cell_type": "code",
   "execution_count": null,
   "id": "4d74eec3",
   "metadata": {},
   "outputs": [],
   "source": []
  }
 ],
 "metadata": {
  "kernelspec": {
   "display_name": "Python 3 (ipykernel)",
   "language": "python",
   "name": "python3"
  },
  "language_info": {
   "codemirror_mode": {
    "name": "ipython",
    "version": 3
   },
   "file_extension": ".py",
   "mimetype": "text/x-python",
   "name": "python",
   "nbconvert_exporter": "python",
   "pygments_lexer": "ipython3",
   "version": "3.10.9"
  }
 },
 "nbformat": 4,
 "nbformat_minor": 5
}
