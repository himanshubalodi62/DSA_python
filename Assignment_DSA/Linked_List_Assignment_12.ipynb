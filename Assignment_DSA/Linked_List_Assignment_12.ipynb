{
 "cells": [
  {
   "cell_type": "markdown",
   "id": "344d492d",
   "metadata": {},
   "source": [
    " **Question 1**\n",
    "\n",
    "Given a singly linked list, delete **middle** of the linked list. For example, if given linked list is 1->2->**3**->4->5 then linked list should be modified to 1->2->4->5.If there are **even** nodes, then there would be **two middle** nodes, we need to delete the second middle element. For example, if given linked list is 1->2->3->4->5->6 then it should be modified to 1->2->3->5->6.If the input linked list is NULL or has 1 node, then it should return NULL\n",
    "\n",
    "**Example 1:**\n",
    "\n",
    "```\n",
    "Input:\n",
    "LinkedList: 1->2->3->4->5\n",
    "Output:1 2 4 5\n",
    "\n",
    "```\n",
    "\n",
    "**Example 2:**\n",
    "\n",
    "</aside>"
   ]
  },
  {
   "cell_type": "markdown",
   "id": "4961a09f",
   "metadata": {},
   "source": [
    "Input:\n",
    "\n",
    "LinkedList: 2->4->6->7->5->1\n",
    "\n",
    "Output:2 4 6 5 1"
   ]
  },
  {
   "cell_type": "code",
   "execution_count": 13,
   "id": "24f8b4bb",
   "metadata": {},
   "outputs": [],
   "source": [
    "class solution :\n",
    "    def deleteMiddleElement(self, head):\n",
    "        if not head:\n",
    "            return head\n",
    "        slow = head\n",
    "        fast = head\n",
    "        while fast!= None and fast.next!=None:\n",
    "            # moving slow with one step\n",
    "            slow = slow.next\n",
    "            # moving fast with two step\n",
    "            fast = fast.next.next\n",
    "        # we got the middle node\n",
    "        \n",
    "        # skipping the middle node\n",
    "        slow.val = slow.next.val\n",
    "        slow.next = slow.next.next\n",
    "        \n",
    "        return head"
   ]
  },
  {
   "cell_type": "markdown",
   "id": "ecd9b0d9",
   "metadata": {},
   "source": [
    "**Question 2**\n",
    "\n",
    "Given a linked list of **N** nodes. The task is to check if the linked list has a loop. Linked list can contain self loop.\n",
    "\n",
    "**Example 1:**\n",
    "\n",
    "```\n",
    "Input:\n",
    "N = 3\n",
    "value[] = {1,3,4}\n",
    "x(position at which tail is connected) = 2\n",
    "Output:True\n",
    "Explanation:In above test case N = 3.\n",
    "The linked list with nodes N = 3 is\n",
    "given. Then value of x=2 is given which\n",
    "means last node is connected with xth\n",
    "node of linked list. Therefore, there\n",
    "exists a loop.\n",
    "```\n",
    "\n",
    "**Example 2:**\n",
    "\n",
    "</aside>"
   ]
  },
  {
   "cell_type": "markdown",
   "id": "15703073",
   "metadata": {},
   "source": [
    "Input:\n",
    "    \n",
    "N = 4\n",
    "\n",
    "value[] = {1,8,3,4}\n",
    "\n",
    "x = 0\n",
    "\n",
    "Output:False\n",
    "    \n",
    "Explanation:For N = 4 ,x = 0 means\n",
    "    \n",
    "then lastNode->next = NULL, then\n",
    "the Linked list does not contains\n",
    "any loop."
   ]
  },
  {
   "cell_type": "code",
   "execution_count": 15,
   "id": "73d7ae6a",
   "metadata": {},
   "outputs": [],
   "source": [
    "class solution:\n",
    "    def check_loop(self, N, head, x):\n",
    "        slow = fast = head\n",
    "        while fast and fast.next:\n",
    "            # move slow one step\n",
    "            slow = slow.next\n",
    "            # move fast two step\n",
    "            fast = fast.next.next\n",
    "        # we got the middle element\n",
    "        # checking the index\n",
    "        while slow:\n",
    "            if slow.val == N:\n",
    "                return true \n",
    "            else:\n",
    "                slow = slow.next\n",
    "        return false"
   ]
  },
  {
   "cell_type": "markdown",
   "id": "26120d17",
   "metadata": {},
   "source": [
    "**Question 3**\n",
    "\n",
    "Given a linked list consisting of **L** nodes and given a number **N**. The task is to find the **N**th node from the end of the linked list.\n",
    "\n",
    "**Example 1:**\n",
    "\n",
    "```\n",
    "Input:\n",
    "N = 2\n",
    "LinkedList: 1->2->3->4->5->6->7->8->9\n",
    "Output:8\n",
    "Explanation:In the first example, there\n",
    "are 9 nodes in linked list and we need\n",
    "to find 2nd node from end. 2nd node\n",
    "from end is 8.\n",
    "\n",
    "```\n",
    "\n",
    "**Example 2:**\n",
    "\n",
    "</aside>"
   ]
  },
  {
   "cell_type": "markdown",
   "id": "32afd576",
   "metadata": {},
   "source": [
    "Input:\n",
    "    \n",
    "N = 5\n",
    "\n",
    "LinkedList: 10->5->100->5\n",
    "    \n",
    "Output:-1\n",
    "    \n",
    "Explanation:In the second example, there\n",
    "are 4 nodes in the linked list and we\n",
    "need to find 5th from the end. Since 'n'\n",
    "is more than the number of nodes in the\n",
    "linked list, the output is -1."
   ]
  },
  {
   "cell_type": "code",
   "execution_count": 16,
   "id": "7fb3a2b5",
   "metadata": {},
   "outputs": [],
   "source": [
    "from typing import Optional \n",
    "\n",
    "class ListNode:\n",
    "    def __init(self, val):\n",
    "        self.val = val\n",
    "        self.next = None\n",
    "        \n",
    "        \n",
    "class Solution:\n",
    "    def nthNodeFromEnd(self, head:Optional[ListNode] ,N):\n",
    "        dummy = ListNode(-1, head)\n",
    "        fast, slow = head, dummy\n",
    "        for i in range(N):\n",
    "            fast = fast.next\n",
    "            \n",
    "        while fast:\n",
    "            fast = fast.next\n",
    "            slow = slow.next\n",
    "            \n",
    "        return slow"
   ]
  },
  {
   "cell_type": "markdown",
   "id": "a43ad230",
   "metadata": {},
   "source": [
    " **Question 4**\n",
    "\n",
    "Given a singly linked list of characters, write a function that returns true if the given list is a palindrome, else false.\n",
    "\n"
   ]
  },
  {
   "cell_type": "markdown",
   "id": "75f6289c",
   "metadata": {},
   "source": [
    "<img src=\"https://pwskills.notion.site/image/https%3A%2F%2Fmedia.geeksforgeeks.org%2Fwp-content%2Fuploads%2F20220816144425%2FLLdrawio.png?id=e46487ad-3f04-4232-b8af-934a670fef6e&table=block&spaceId=6fae2e0f-dedc-48e9-bc59-af2654c78209&width=2000&userId=&cache=v2\" width=\"900\" height=\"300\"/>"
   ]
  },
  {
   "cell_type": "markdown",
   "id": "1214506d",
   "metadata": {},
   "source": [
    "**Examples:**\n",
    "\n",
    "> Input: R->A->D->A->R->NULL\n",
    "> \n",
    "> \n",
    "> **Output:** Yes\n",
    "> \n",
    "> **Input:** C->O->D->E->NULL\n",
    "> \n",
    "> **Output:** No\n",
    ">"
   ]
  },
  {
   "cell_type": "code",
   "execution_count": 21,
   "id": "9021f307",
   "metadata": {},
   "outputs": [],
   "source": [
    "class Solution:\n",
    "    def checkPalindrome(self, head):\n",
    "        slow = fast = head\n",
    "        while fast and fast.next:\n",
    "            # move slow one step\n",
    "            slow = slow.next\n",
    "            # move fast two step\n",
    "            fast = fast.next.next\n",
    "        # we got the middle element\n",
    "        # assign prev to middle element\n",
    "        prev.next = None\n",
    "        prev = slow\n",
    "        slow = slow.next    # moving forward\n",
    "        while slow:\n",
    "            slow.next = prev    # reversing node\n",
    "            prev = slow    # moving prev ahead    # it'll be in end\n",
    "            slow = slow.next    # moving forward slow\n",
    "        # assigning first and last node\n",
    "        fast = head\n",
    "        last = prev\n",
    "        while slow:\n",
    "            if fast.val != slow.val:    # If fast and last node doesn't match\n",
    "                return False\n",
    "            fast = fast.next\n",
    "            slow = slow.next\n",
    "        return True"
   ]
  },
  {
   "cell_type": "markdown",
   "id": "f753700b",
   "metadata": {},
   "source": [
    "**Question 5**\n",
    "\n",
    "Given a linked list of **N** nodes such that it may contain a loop.\n",
    "\n",
    "A loop here means that the last node of the link list is connected to the node at position X(1-based index). If the link list does not have any loop, X=0.\n",
    "\n",
    "Remove the loop from the linked list, if it is present, i.e. unlink the last node which is forming the loop.\n",
    "\n",
    "**Example 1:**\n",
    "\n",
    "```\n",
    "Input:\n",
    "N = 3\n",
    "value[] = {1,3,4}\n",
    "X = 2\n",
    "Output:1\n",
    "Explanation:The link list looks like\n",
    "1 -> 3 -> 4\n",
    "     ^    |\n",
    "     |____|\n",
    "A loop is present. If you remove it\n",
    "successfully, the answer will be 1.\n",
    "\n",
    "```\n",
    "\n",
    "**Example 2:**\n",
    "\n",
    "```\n",
    "Input:\n",
    "N = 4\n",
    "value[] = {1,8,3,4}\n",
    "X = 0\n",
    "Output:1\n",
    "Explanation:The Linked list does not\n",
    "contains any loop.\n",
    "```\n",
    "\n"
   ]
  },
  {
   "cell_type": "code",
   "execution_count": 22,
   "id": "2aae304b",
   "metadata": {},
   "outputs": [],
   "source": [
    "from typing import Optional\n",
    "\n",
    "\n",
    "class ListNode:\n",
    "    def __init__(self, val):\n",
    "        self.val = val\n",
    "        self.next = None\n",
    "\n",
    "class Solution:\n",
    "    def removeLoop(self, head: Optional[ListNode], N, x):\n",
    "        dummy = ListNode(-1, head)\n",
    "        slow, fast = dummy, head\n",
    "        for i in range(N):\n",
    "            fast = fast.next\n",
    "        while fast:\n",
    "            if fast.val == slow.val:\n",
    "                fast = None\n",
    "        return 1"
   ]
  },
  {
   "cell_type": "markdown",
   "id": "3b13385d",
   "metadata": {},
   "source": [
    "### Question 6\n",
    "\n",
    "Given a linked list and two integers M and N. Traverse the linked list such that you retain M nodes then delete next N nodes, continue the same till end of the linked list.\n",
    "\n",
    "Difficulty Level: Rookie"
   ]
  },
  {
   "cell_type": "markdown",
   "id": "df3a314c",
   "metadata": {},
   "source": [
    "#### example:\n",
    "\n",
    "Input:\n",
    "M = 2, N = 2\n",
    "\n",
    "Linked List: 1->2->3->4->5->6->7->8\n",
    "\n",
    "Output:\n",
    "\n",
    "Linked List: 1->2->5->6\n",
    "\n",
    "\n",
    "\n",
    "Input:\n",
    "\n",
    "M = 3, N = 2\n",
    "\n",
    "Linked List: 1->2->3->4->5->6->7->8->9->10\n",
    "\n",
    "Output:\n",
    "\n",
    "Linked List: 1->2->3->6->7->8\n",
    "\n",
    "Input:\n",
    "\n",
    "M = 1, N = 1\n",
    "\n",
    "Linked List: 1->2->3->4->5->6->7->8->9->10\n",
    "\n",
    "Output:\n",
    "\n",
    "Linked List: 1->3->5->7->9"
   ]
  },
  {
   "cell_type": "code",
   "execution_count": 23,
   "id": "4303b3b3",
   "metadata": {},
   "outputs": [],
   "source": [
    "class Solution:\n",
    "    def deleneMnN(self, M, N, head):\n",
    "        slow = fast = head\n",
    "        while fast and fast.next:\n",
    "            fast = fast.next.next.next.next\n",
    "            slow = slow.next.next"
   ]
  },
  {
   "cell_type": "markdown",
   "id": "9cf24917",
   "metadata": {},
   "source": [
    "**Question 7**\n",
    "\n",
    "Given two linked lists, insert nodes of second list into first list at alternate positions of first list.\n",
    "For example, if first list is 5->7->17->13->11 and second is 12->10->2->4->6, the first list should become 5->12->7->10->17->2->13->4->11->6 and second list should become empty. The nodes of second list should only be inserted when there are positions available. For example, if the first list is 1->2->3 and second list is 4->5->6->7->8, then first list should become 1->4->2->5->3->6 and second list to 7->8.\n",
    "\n",
    "Use of extra space is not allowed (Not allowed to create additional nodes), i.e., insertion must be done in-place. Expected time complexity is O(n) where n is number of nodes in first list.\n",
    "\n"
   ]
  },
  {
   "cell_type": "code",
   "execution_count": 24,
   "id": "9f681546",
   "metadata": {},
   "outputs": [],
   "source": [
    "class Solution:\n",
    "    def insetAlter(self, l1, l2):\n",
    "        if l1 is None:\n",
    "            return l2\n",
    "        if l2 is None:\n",
    "            return l1\n",
    "        if l1 <= l2:\n",
    "            l1.next = self.insetAlter(l1.next, l2)\n",
    "            return l1\n",
    "        else:\n",
    "            l2.next = self.insetAlter(l2.next, l1)"
   ]
  },
  {
   "cell_type": "markdown",
   "id": "5ed31a3c",
   "metadata": {},
   "source": [
    "#### Question 8\n",
    "\n",
    "Given a singly linked list, find if the linked list is circular or not.\n",
    "\n",
    "A linked list is called circular if it is not NULL-terminated and all nodes are connected in the form of a cycle. Below is an example of a circular linked list."
   ]
  },
  {
   "cell_type": "markdown",
   "id": "102373c4",
   "metadata": {},
   "source": [
    "<img src = \"https://pwskills.notion.site/image/https%3A%2F%2Fs3-us-west-2.amazonaws.com%2Fsecure.notion-static.com%2Fd30bbf79-b1eb-4ba4-b23e-6d3f27ccdfe5%2FUntitled.png?id=5ccbc796-7fb9-4c82-b385-f45ba589a896&table=block&spaceId=6fae2e0f-dedc-48e9-bc59-af2654c78209&width=2000&userId=&cache=v2\" widht=\"500\" height=\"300\"/>"
   ]
  },
  {
   "cell_type": "code",
   "execution_count": 26,
   "id": "34d11898",
   "metadata": {},
   "outputs": [],
   "source": [
    "class Solution:\n",
    "    def isCircular(self, head):\n",
    "        slow = fast = head\n",
    "        if fast:\n",
    "            slow = slow.next\n",
    "            fast = fast.next.next\n",
    "            if slow == fast:\n",
    "                return True\n",
    "        return False"
   ]
  },
  {
   "cell_type": "code",
   "execution_count": null,
   "id": "b272a899",
   "metadata": {},
   "outputs": [],
   "source": []
  }
 ],
 "metadata": {
  "kernelspec": {
   "display_name": "Python 3 (ipykernel)",
   "language": "python",
   "name": "python3"
  },
  "language_info": {
   "codemirror_mode": {
    "name": "ipython",
    "version": 3
   },
   "file_extension": ".py",
   "mimetype": "text/x-python",
   "name": "python",
   "nbconvert_exporter": "python",
   "pygments_lexer": "ipython3",
   "version": "3.10.9"
  }
 },
 "nbformat": 4,
 "nbformat_minor": 5
}
