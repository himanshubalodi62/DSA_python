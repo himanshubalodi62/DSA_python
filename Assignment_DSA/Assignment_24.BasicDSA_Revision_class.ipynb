{
 "cells": [
  {
   "cell_type": "markdown",
   "id": "58820292",
   "metadata": {},
   "source": [
    " 1. **Roman to Integer**\n",
    "\n",
    "Roman numerals are represented by seven different symbols: `I`, `V`, `X`, `L`, `C`, `D` and `M`.\n",
    "\n",
    "</aside>"
   ]
  },
  {
   "cell_type": "markdown",
   "id": "6f1b9512",
   "metadata": {},
   "source": [
    "SymbolValue\n",
    "\n",
    "I                   1\n",
    "\n",
    "V                   5\n",
    "\n",
    "X                  10\n",
    "\n",
    "L                  50\n",
    "\n",
    "C                 100\n",
    "\n",
    "D                 500\n",
    "\n",
    "\n",
    "M                 1000"
   ]
  },
  {
   "cell_type": "markdown",
   "id": "62df934c",
   "metadata": {},
   "source": [
    "For example, `2` is written as `II` in Roman numeral, just two ones added together. `12` is written as `XII`, which is simply `X + II`. The number `27` is written as `XXVII`, which is `XX + V + II`.\n",
    "\n",
    "Roman numerals are usually written largest to smallest from left to right. However, the numeral for four is not `IIII`. Instead, the number four is written as `IV`. Because the one is before the five we subtract it making four. The same principle applies to the number nine, which is written as `IX`. There are six instances where subtraction is used:\n",
    "\n",
    "- `I` can be placed before `V` (5) and `X` (10) to make 4 and 9.\n",
    "- `X` can be placed before `L` (50) and `C` (100) to make 40 and 90.\n",
    "- `C` can be placed before `D` (500) and `M` (1000) to make 400 and 900.\n",
    "\n",
    "Given a roman numeral, convert it to an integer.\n",
    "\n",
    "**Example 1:**"
   ]
  },
  {
   "cell_type": "markdown",
   "id": "56c9aa00",
   "metadata": {},
   "source": [
    "Input: s = \"III\"\n",
    "    \n",
    "    \n",
    "Output: 3\n",
    "    \n",
    "    \n",
    "Explanation: III = 3."
   ]
  },
  {
   "cell_type": "markdown",
   "id": "bef4be7a",
   "metadata": {},
   "source": [
    "**Constraints:**\n",
    "\n",
    "- `1 <= s.length <= 15`\n",
    "- `s` contains only the characters `('I', 'V', 'X', 'L', 'C', 'D', 'M')`.\n",
    "- It is **guaranteed** that `s` is a valid roman numeral in the range `[1, 3999]`.\n",
    "****"
   ]
  },
  {
   "cell_type": "code",
   "execution_count": 8,
   "id": "373a85f9",
   "metadata": {},
   "outputs": [],
   "source": [
    "def romanToInt(s: str) -> int:\n",
    "    # Dictionary of roman numerals\n",
    "    roman_map = {'I': 1, 'V': 5, 'X': 10, 'L': 50, 'C': 100, 'D': 500, 'M': 1000}\n",
    "    # Length of the given string\n",
    "    n = len(s)\n",
    "    # This variable will store result\n",
    "    num = roman_map[s[n - 1]]\n",
    "    # Loop for each character from right to left\n",
    "    for i in range(n - 2, -1, -1):\n",
    "        # Check if the character at right of current character is bigger or smaller\n",
    "        if roman_map[s[i]] >= roman_map[s[i + 1]]:\n",
    "            num += roman_map[s[i]]\n",
    "        else:\n",
    "            num -= roman_map[s[i]]\n",
    "    return num"
   ]
  },
  {
   "cell_type": "markdown",
   "id": "5a722f0c",
   "metadata": {},
   "source": [
    " 2. **Longest Substring Without Repeating Characters**\n",
    "\n",
    "Given a string `s`, find the length of the **longest substring** without repeating characters.\n",
    "\n",
    "**Example 1:**\n",
    "\n",
    "</aside>"
   ]
  },
  {
   "cell_type": "markdown",
   "id": "d5254f2e",
   "metadata": {},
   "source": [
    "Input: s = \"abcabcbb\"\n",
    "    \n",
    "    \n",
    "Output: 3\n",
    "    \n",
    "    \n",
    "Explanation: The answer is \"abc\", with the length of 3."
   ]
  },
  {
   "cell_type": "markdown",
   "id": "6e90a954",
   "metadata": {},
   "source": [
    "#### Example :\n",
    "\n",
    "Input: s = \"bbbbb\"\n",
    "    \n",
    "    \n",
    "Output: 1\n",
    "    \n",
    "    \n",
    "    \n",
    "Explanation: The answer is \"b\", with the length of 1."
   ]
  },
  {
   "cell_type": "markdown",
   "id": "f70a5fa3",
   "metadata": {},
   "source": [
    "#### Example :\n",
    "\n",
    "\n",
    "Input: s = \"pwwkew\"\n",
    "    \n",
    "    \n",
    "Output: 3\n",
    "    \n",
    "    \n",
    "Explanation: The answer is \"wke\", with the length of 3.\n",
    "    \n",
    "    \n",
    "Notice that the answer must be a substring, \"pwke\" is a subsequence and not a substring."
   ]
  },
  {
   "cell_type": "markdown",
   "id": "794c271a",
   "metadata": {},
   "source": [
    "**Constraints:**\n",
    "\n",
    "- `0 <= s.length <= 50000`\n",
    "\n",
    "\n",
    "- `s` consists of English letters, digits, symbols and spaces."
   ]
  },
  {
   "cell_type": "code",
   "execution_count": 9,
   "id": "e9ef76a8",
   "metadata": {},
   "outputs": [
    {
     "name": "stdout",
     "output_type": "stream",
     "text": [
      "The input is  geeksforgeeks\n",
      "The length of the longest non-repeating character substring is  7\n"
     ]
    }
   ],
   "source": [
    "# Python3 program to find the length\n",
    "# of the longest substring without\n",
    "# repeating characters\n",
    "\n",
    "# This function returns true if all\n",
    "# characters in str[i..j] are\n",
    "# distinct, otherwise returns false\n",
    "def areDistinct(str, i, j):\n",
    "\n",
    "\t# Note : Default values in visited are false\n",
    "\tvisited = [0] * (26)\n",
    "\n",
    "\tfor k in range(i, j + 1):\n",
    "\t\tif (visited[ord(str[k]) -\n",
    "\t\t\t\tord('a')] == True):\n",
    "\t\t\treturn False\n",
    "\t\t\t\n",
    "\t\tvisited[ord(str[k]) -\n",
    "\t\t\t\tord('a')] = True\n",
    "\n",
    "\treturn True\n",
    "\n",
    "# Returns length of the longest substring\n",
    "# with all distinct characters.\n",
    "def longestUniqueSubsttr(str):\n",
    "\t\n",
    "\tn = len(str)\n",
    "\t\n",
    "\t# Result\n",
    "\tres = 0\n",
    "\t\n",
    "\tfor i in range(n):\n",
    "\t\tfor j in range(i, n):\n",
    "\t\t\tif (areDistinct(str, i, j)):\n",
    "\t\t\t\tres = max(res, j - i + 1)\n",
    "\t\t\t\t\n",
    "\treturn res\n",
    "\n",
    "# Driver code\n",
    "if __name__ == '__main__':\n",
    "\t\n",
    "\tstr = \"geeksforgeeks\"\n",
    "\tprint(\"The input is \", str)\n",
    "\t\n",
    "\tlen = longestUniqueSubsttr(str)\n",
    "\tprint(\"The length of the longest \"\n",
    "\t\t\"non-repeating character substring is \", len)"
   ]
  },
  {
   "cell_type": "markdown",
   "id": "3000f574",
   "metadata": {},
   "source": [
    " 3. **Majority Element**\n",
    "\n",
    "Given an array `nums` of size `n`, return *the majority element*.\n",
    "\n",
    "The majority element is the element that appears more than `⌊n / 2⌋` times. You may assume that the majority element always exists in the array.\n",
    "\n",
    "**Example 1:**\n",
    "\n",
    "</aside>"
   ]
  },
  {
   "cell_type": "markdown",
   "id": "e4ca4abd",
   "metadata": {},
   "source": [
    "Input: nums = [3,2,3]\n",
    "    \n",
    "    \n",
    "Output: 3"
   ]
  },
  {
   "cell_type": "markdown",
   "id": "2d81ddff",
   "metadata": {},
   "source": [
    "#### Example 2:\n",
    "\n",
    "\n",
    "Input: nums = [2,2,1,1,1,2,2]\n",
    "\n",
    "\n",
    "Output: 2"
   ]
  },
  {
   "cell_type": "markdown",
   "id": "e1d1c2c8",
   "metadata": {},
   "source": [
    "**Constraints:**\n",
    "\n",
    "- `n == nums.length`\n",
    "\n",
    "\n",
    "- `1 <= n <= 5 * 10^4`\n",
    "\n",
    "\n",
    "- `-10^9 <= nums[i] <= 10^9`"
   ]
  },
  {
   "cell_type": "markdown",
   "id": "c2b3767b",
   "metadata": {},
   "source": [
    "# Python3 program to find Majority\n",
    "# element in an array\n",
    "\n",
    "# Function to find Majority\n",
    "# element in an array\n",
    "\n",
    "\n",
    "def findMajority(arr, n):\n",
    "\n",
    "\tmaxCount = 0\n",
    "\tindex = -1 # sentinels\n",
    "\tfor i in range(n):\n",
    "\n",
    "\t\tcount = 1\n",
    "\t\t# here we compare the element in\n",
    "\t\t# ith position with i+1th position\n",
    "\t\tfor j in range(i+1, n):\n",
    "\n",
    "\t\t\tif(arr[i] == arr[j]):\n",
    "\t\t\t\tcount += 1\n",
    "\n",
    "\t\t# update maxCount if count of\n",
    "\t\t# current element is greater\n",
    "\t\tif(count > maxCount):\n",
    "\n",
    "\t\t\tmaxCount = count\n",
    "\t\t\tindex = i\n",
    "\n",
    "\t# if maxCount is greater than n/2\n",
    "\t# return the corresponding element\n",
    "\tif (maxCount > n//2):\n",
    "\t\tprint(arr[index])\n",
    "\n",
    "\telse:\n",
    "\t\tprint(\"No Majority Element\")\n",
    "\n",
    "\n",
    "#Driver code\n",
    "if __name__ == \"__main__\":\n",
    "\tarr = [1, 1, 2, 1, 3, 5, 1]\n",
    "\tn = len(arr)\n",
    "\n",
    "\t# Function calling\n",
    "\tfindMajority(arr, n)"
   ]
  },
  {
   "cell_type": "markdown",
   "id": "fd1e316f",
   "metadata": {},
   "source": [
    " 4. **Group Anagram**\n",
    "\n",
    "Given an array of strings `strs`, group **the anagrams** together. You can return the answer in **any order**.\n",
    "\n",
    "An **Anagram** is a word or phrase formed by rearranging the letters of a different word or phrase, typically using all the original letters exactly once.\n",
    "\n",
    "**Example 1:**\n",
    "\n",
    "</aside>"
   ]
  },
  {
   "cell_type": "markdown",
   "id": "c0d679e4",
   "metadata": {},
   "source": [
    "Input: strs = [\"eat\",\"tea\",\"tan\",\"ate\",\"nat\",\"bat\"]\n",
    "\n",
    "\n",
    "\n",
    "Output: [[\"bat\"],[\"nat\",\"tan\"],[\"ate\",\"eat\",\"tea\"]]"
   ]
  },
  {
   "cell_type": "markdown",
   "id": "e5026373",
   "metadata": {},
   "source": [
    "#### Example 2:\n",
    "\n",
    "Input: strs = [\"\"]\n",
    "    \n",
    "    \n",
    "    \n",
    "Output: [[\"\"]]"
   ]
  },
  {
   "cell_type": "markdown",
   "id": "c9eea34a",
   "metadata": {},
   "source": [
    "#### Example 3:\n",
    "\n",
    "Input: strs = [\"a\"]\n",
    "    \n",
    "    \n",
    "    \n",
    "Output: [[\"a\"]]"
   ]
  },
  {
   "cell_type": "markdown",
   "id": "1ea22cc7",
   "metadata": {},
   "source": [
    "**Constraints:**\n",
    "\n",
    "- `1 <= strs.length <= 10000`\n",
    "- `0 <= strs[i].length <= 100`\n",
    "- `strs[i]` consists of lowercase English letters."
   ]
  },
  {
   "cell_type": "code",
   "execution_count": null,
   "id": "2ea22c80",
   "metadata": {},
   "outputs": [],
   "source": [
    "# A Python program to print all anagrams together\n",
    "\n",
    "# structure for each word of duplicate array\n",
    "\n",
    "\n",
    "class Word(object):\n",
    "\tdef __init__(self, string, index):\n",
    "\t\tself.string = string\n",
    "\t\tself.index = index\n",
    "\n",
    "# Create a DupArray object that contains an array\n",
    "# of Words\n",
    "\n",
    "\n",
    "def createDupArray(string, size):\n",
    "\tdupArray = []\n",
    "\n",
    "\t# One by one copy words from the given wordArray\n",
    "\t# to dupArray\n",
    "\tfor i in xrange(size):\n",
    "\t\tdupArray.append(Word(string[i], i))\n",
    "\n",
    "\treturn dupArray\n",
    "\n",
    "# Given a list of words in wordArr[]\n",
    "\n",
    "\n",
    "def printAnagramsTogether(wordArr, size):\n",
    "\t# Step 1: Create a copy of all words present in\n",
    "\t# given wordArr.\n",
    "\t# The copy will also have original indexes of words\n",
    "\tdupArray = createDupArray(wordArr, size)\n",
    "\n",
    "\t# Step 2: Iterate through all words in dupArray and sort\n",
    "\t# individual words.\n",
    "\tfor i in xrange(size):\n",
    "\t\tdupArray[i].string = ''.join(sorted(dupArray[i].string))\n",
    "\n",
    "\t# Step 3: Now sort the array of words in dupArray\n",
    "\tdupArray = sorted(dupArray, key=lambda k: k.string)\n",
    "\n",
    "\t# Step 4: Now all words in dupArray are together, but\n",
    "\t# these words are changed. Use the index member of word\n",
    "\t# struct to get the corresponding original word\n",
    "\tfor word in dupArray:\n",
    "\t\tprint(wordArr[word.index])\n",
    "\n",
    "\n",
    "# Driver program\n",
    "wordArr = [\"cat\", \"dog\", \"tac\", \"god\", \"act\"]\n",
    "size = len(wordArr)\n",
    "printAnagramsTogether(wordArr, size)"
   ]
  },
  {
   "cell_type": "code",
   "execution_count": null,
   "id": "f2111e2a",
   "metadata": {},
   "outputs": [],
   "source": []
  },
  {
   "cell_type": "markdown",
   "id": "0485b0ac",
   "metadata": {},
   "source": [
    " 5. **Ugly Numbers**\n",
    "\n",
    "An **ugly number** is a positive integer whose prime factors are limited to `2`, `3`, and `5`.\n",
    "\n",
    "Given an integer `n`, return *the* `nth` ***ugly number***.\n",
    "\n",
    "**Example 1:**\n",
    "\n",
    "</aside>"
   ]
  },
  {
   "cell_type": "markdown",
   "id": "a73ac1c3",
   "metadata": {},
   "source": [
    "Input: n = 10\n",
    "    \n",
    "Output: 12\n",
    "    \n",
    "    \n",
    "Explanation: [1, 2, 3, 4, 5, 6, 8, 9, 10, 12] is the sequence of the first 10 ugly numbers."
   ]
  },
  {
   "cell_type": "markdown",
   "id": "7fde5178",
   "metadata": {},
   "source": [
    "#### Example 2:\n",
    "\n",
    "Input: n = 1\n",
    "    \n",
    "Output: 1\n",
    "    \n",
    "    \n",
    "Explanation: 1 has no prime factors, therefore all of its prime factors are limited to 2, 3, and 5."
   ]
  },
  {
   "cell_type": "markdown",
   "id": "8f31ce5e",
   "metadata": {},
   "source": [
    "**Constraints:**\n",
    "\n",
    "- `1 <= n <= 1690`"
   ]
  },
  {
   "cell_type": "code",
   "execution_count": 14,
   "id": "de218d3e",
   "metadata": {},
   "outputs": [
    {
     "name": "stdout",
     "output_type": "stream",
     "text": [
      "150th ugly no. is  5832\n"
     ]
    }
   ],
   "source": [
    "# Python3 code to find nth ugly number\n",
    "\n",
    "# This function divides a by greatest\n",
    "# divisible power of b\n",
    "\n",
    "\n",
    "def maxDivide(a, b):\n",
    "\twhile a % b == 0:\n",
    "\t\ta = a / b\n",
    "\treturn a\n",
    "\n",
    "# Function to check if a number\n",
    "# is ugly or not\n",
    "def isUgly(no):\n",
    "\tno = maxDivide(no, 2)\n",
    "\tno = maxDivide(no, 3)\n",
    "\tno = maxDivide(no, 5)\n",
    "\treturn 1 if no == 1 else 0\n",
    "\n",
    "# Function to get the nth ugly number\n",
    "def getNthUglyNo(n):\n",
    "\ti = 1\n",
    "\t\n",
    "\t# ugly number count\n",
    "\tcount = 1\n",
    "\n",
    "\t# Check for all integers until\n",
    "\t# ugly count becomes n\n",
    "\twhile n > count:\n",
    "\t\ti += 1\n",
    "\t\tif isUgly(i):\n",
    "\t\t\tcount += 1\n",
    "\treturn i\n",
    "\n",
    "\n",
    "# Driver code\n",
    "no = getNthUglyNo(150)\n",
    "print(\"150th ugly no. is \", no)"
   ]
  },
  {
   "cell_type": "markdown",
   "id": "ddb29c4a",
   "metadata": {},
   "source": [
    "6. **Top K Frequent Words**\n",
    "Given an array of strings words and an integer k, return the k most frequent strings.\n",
    "\n",
    "Return the answer sorted by the frequency from highest to lowest. Sort the words with the same frequency by their lexicographical order.\n",
    "\n",
    "Example 1:\n",
    "\n",
    "Input: words = [\"i\",\"love\",\"leetcode\",\"i\",\"love\",\"coding\"], k = 2\n",
    "Output: [\"i\",\"love\"]\n",
    "Explanation: \"i\" and \"love\" are the two most frequent words.\n",
    "Note that \"i\" comes before \"love\" due to a lower alphabetical order.\n",
    "Example 2:\n",
    "\n",
    "Input: words = [\"the\",\"day\",\"is\",\"sunny\",\"the\",\"the\",\"the\",\"sunny\",\"is\",\"is\"], k = 4\n",
    "Output: [\"the\",\"is\",\"sunny\",\"day\"]\n",
    "Explanation: \"the\", \"is\", \"sunny\" and \"day\" are the four most frequent words, with the number of occurrence being 4, 3, 2 and 1 respectively.\n",
    "Constraints:\n",
    "\n",
    "1 <= words.length <= 500\n",
    "1 <= words[i].length <= 10\n",
    "words[i] consists of lowercase English letters.\n",
    "k is in the range [1, The number of **unique** words[i]]"
   ]
  },
  {
   "cell_type": "code",
   "execution_count": null,
   "id": "88c9bb7e",
   "metadata": {},
   "outputs": [],
   "source": []
  },
  {
   "cell_type": "code",
   "execution_count": null,
   "id": "390cb75b",
   "metadata": {},
   "outputs": [],
   "source": []
  },
  {
   "cell_type": "markdown",
   "id": "c8b0c303",
   "metadata": {},
   "source": [
    " 7. **Sliding Window Maximum**\n",
    "You are given an array of integers nums, there is a sliding window of size k which is moving from the very left of the array to the very right. You can only see the k numbers in the window. Each time the sliding window moves right by one position.\n",
    "\n",
    "Return the max sliding window.\n",
    "\n",
    "#### Example 1:\n",
    "\n",
    "Input: nums = [1,3,-1,-3,5,3,6,7], k = 3\n",
    "    \n",
    "    \n",
    "Output: [3,3,5,5,6,7]\n",
    "    \n",
    "    \n",
    "    \n",
    "Explanation:\n",
    "    \n",
    "    \n",
    "Window position                Max\n",
    "---------------               -----\n",
    "[1  3  -1] -3  5  3  6 7         3\n",
    "\n",
    " 1 [3  -1  -3] 5  3  6 7         3\n",
    "    \n",
    " 1  3 [-1  -3  5] 3  6 7         5\n",
    "\n",
    " 1  3  -1 [-3  5  3] 6 7         5\n",
    "    \n",
    " 1  3  -1  -3 [5  3  6]7         6\n",
    "\n",
    " 1  3  -1  -3  5 [3  6  7]       7\n",
    "    \n",
    "    \n",
    "    \n",
    "    \n",
    "#### Example 2:\n",
    "    \n",
    "\n",
    "Input: nums = [1], k = 1\n",
    "    \n",
    "    \n",
    "Output: [1]\n",
    "\n",
    "#### Constraints:\n",
    "\n",
    "1 <= nums.length <= 100000\n",
    "-10000 <= nums[i] <= 10000\n",
    "1 <= k <= nums.length"
   ]
  },
  {
   "cell_type": "code",
   "execution_count": null,
   "id": "04430ba8",
   "metadata": {},
   "outputs": [],
   "source": [
    "# Python3 program for the above approach\n",
    "\n",
    "# Method to find the maximum for each\n",
    "# and every contiguous subarray\n",
    "# of size K\n",
    "\n",
    "def printMax(arr, N, K):\n",
    "\tmax = 0\n",
    "\n",
    "\tfor i in range(N - K + 1):\n",
    "\t\tmax = arr[i]\n",
    "\t\tfor j in range(1, K):\n",
    "\t\t\tif arr[i + j] > max:\n",
    "\t\t\t\tmax = arr[i + j]\n",
    "\t\tprint(str(max) + \" \", end=\"\")\n",
    "\n",
    "\n",
    "# Driver's code\n",
    "if __name__ == \"__main__\":\n",
    "\tarr = [1, 2, 3, 4, 5, 6, 7, 8, 9, 10]\n",
    "\tN = len(arr)\n",
    "\tK = 3\n",
    "\t\n",
    "\t# Function call\n",
    "\tprintMax(arr, N, K)"
   ]
  },
  {
   "cell_type": "code",
   "execution_count": null,
   "id": "d42bdb06",
   "metadata": {},
   "outputs": [],
   "source": []
  },
  {
   "cell_type": "code",
   "execution_count": null,
   "id": "e5e5c5ca",
   "metadata": {},
   "outputs": [],
   "source": []
  },
  {
   "cell_type": "markdown",
   "id": "7b509b63",
   "metadata": {},
   "source": [
    "<aside>\n",
    "💡 8. **Find K Closest Elements**\n",
    "\n",
    "Given a **sorted** integer array `arr`, two integers `k` and `x`, return the `k` closest integers to `x` in the array. The result should also be sorted in ascending order.\n",
    "\n",
    "An integer `a` is closer to `x` than an integer `b` if:\n",
    "\n",
    "- `|a - x| < |b - x|`, or\n",
    "- `|a - x| == |b - x|` and `a < b`\n",
    "\n",
    "**Example 1:**\n",
    "\n",
    "</aside>"
   ]
  },
  {
   "cell_type": "markdown",
   "id": "9b19f94b",
   "metadata": {},
   "source": [
    "Input: arr = [1,2,3,4,5], k = 4, x = 3\n",
    "    \n",
    "    \n",
    "Output: [1,2,3,4]"
   ]
  }
 ],
 "metadata": {
  "kernelspec": {
   "display_name": "Python 3 (ipykernel)",
   "language": "python",
   "name": "python3"
  },
  "language_info": {
   "codemirror_mode": {
    "name": "ipython",
    "version": 3
   },
   "file_extension": ".py",
   "mimetype": "text/x-python",
   "name": "python",
   "nbconvert_exporter": "python",
   "pygments_lexer": "ipython3",
   "version": "3.10.9"
  }
 },
 "nbformat": 4,
 "nbformat_minor": 5
}
