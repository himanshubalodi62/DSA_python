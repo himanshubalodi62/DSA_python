{
 "cells": [
  {
   "cell_type": "markdown",
   "id": "0de50a4d",
   "metadata": {},
   "source": [
    "#### Question 1\n",
    "\n",
    "Given three integer arrays arr1, arr2 and arr3 sorted in strictly increasing order, return a sorted array of only the integers that appeared in all three arrays.\n",
    "\n",
    "Example 1:\n",
    "\n",
    "Input: arr1 = [1,2,3,4,5], arr2 = [1,2,5,7,9], arr3 = [1,3,4,5,8]\n",
    "\n",
    "Output: [1,5]\n",
    "\n",
    "Explanation: Only 1 and 5 appeared in the three arrays."
   ]
  },
  {
   "cell_type": "code",
   "execution_count": 17,
   "id": "3f88d095",
   "metadata": {},
   "outputs": [
    {
     "data": {
      "text/plain": [
       "[1, 5]"
      ]
     },
     "execution_count": 17,
     "metadata": {},
     "output_type": "execute_result"
    }
   ],
   "source": [
    "from typing import List\n",
    "\n",
    "class Solution:\n",
    "    def arraysIntersection(self, arr1: List[int], arr2: List[int], arr3: List[int]) -> List[int]:\n",
    "        def find(arr, val):\n",
    "            left, right = 0, len(arr) - 1\n",
    "            while left < right:\n",
    "                mid = (left + right) >> 1\n",
    "                if arr[mid] >= val:\n",
    "                    right = mid\n",
    "                else:\n",
    "                    left = mid + 1\n",
    "            return arr[left] == val\n",
    "\n",
    "        res = []\n",
    "        for num in arr1:\n",
    "            if find(arr2, num) and find(arr3, num):\n",
    "                res.append(num)\n",
    "        return res\n",
    "    \n",
    "s = Solution()\n",
    "arr1 = [1,2,3,4,5]\n",
    "arr2 = [1,2,5,7,9]\n",
    "arr3 = [1,3,4,5,8]\n",
    "s.arraysIntersection(arr1, arr2, arr3)"
   ]
  },
  {
   "cell_type": "markdown",
   "id": "2f65b71d",
   "metadata": {},
   "source": [
    "#### Question 2\n",
    "\n",
    "Given two 0-indexed integer arrays nums1 and nums2, return a list answer of size 2 where:\n",
    "\n",
    "answer[0] is a list of all distinct* integers in* nums1 which are not* present in* nums2.\n",
    "answer[1] is a list of all distinct* integers in* nums2 which are not* present in* nums1.\n",
    "Note that the integers in the lists may be returned in any order.\n",
    "\n",
    "Example 1:\n",
    "\n",
    "Input: nums1 = [1,2,3], nums2 = [2,4,6]\n",
    "\n",
    "Output: [[1,3],[4,6]]\n",
    "\n",
    "Explanation:\n",
    "\n",
    "For nums1, nums1[1] = 2 is present at index 0 of nums2, whereas nums1[0] = 1 and nums1[2] = 3 are not present in nums2. Therefore, answer[0] = [1,3].\n",
    "\n",
    "For nums2, nums2[0] = 2 is present at index 1 of nums1, whereas nums2[1] = 4 and nums2[2] = 6 are not present in nums2. Therefore, answer[1] = [4,6]."
   ]
  },
  {
   "cell_type": "code",
   "execution_count": 23,
   "id": "1742271c",
   "metadata": {},
   "outputs": [
    {
     "data": {
      "text/plain": [
       "[[1, 3], [4, 6]]"
      ]
     },
     "execution_count": 23,
     "metadata": {},
     "output_type": "execute_result"
    }
   ],
   "source": [
    "class Solution:\n",
    "    def findDifference(self, nums1: List[int], nums2: List[int]) -> List[List[int]]:\n",
    "        return [list(set(nums1).difference(nums2)), list(set(nums2).difference(nums1))]\n",
    "\n",
    "    \n",
    "s = Solution()\n",
    "nums1 = [1,2,3]\n",
    "nums2 = [2,4,6]\n",
    "s.findDifference(nums1, nums2)"
   ]
  },
  {
   "cell_type": "markdown",
   "id": "2be9aafb",
   "metadata": {},
   "source": [
    "#### Question 3 Given a 2D integer array matrix, return the transpose* of* matrix.\n",
    "\n",
    "The transpose of a matrix is the matrix flipped over its main diagonal, switching the matrix's row and column indices.\n",
    "\n",
    "Example 1:\n",
    "\n",
    "Input: matrix = [[1,2,3],[4,5,6],[7,8,9]]\n",
    "\n",
    "Output: [[1,4,7],[2,5,8],[3,6,9]]"
   ]
  },
  {
   "cell_type": "code",
   "execution_count": 24,
   "id": "d3fd6268",
   "metadata": {},
   "outputs": [
    {
     "name": "stdout",
     "output_type": "stream",
     "text": [
      "Result matrix is\n",
      "1  2  3  4  \n",
      "1  2  3  4  \n",
      "1  2  3  4  \n",
      "1  2  3  4  \n"
     ]
    }
   ],
   "source": [
    "# Python3 Program to find\n",
    "# transpose of a matrix\n",
    "\n",
    "N = 4\n",
    "\n",
    "# This function stores\n",
    "# transpose of A[][] in B[][]\n",
    "\n",
    "\n",
    "def transpose(A, B):\n",
    "\n",
    "    for i in range(N):\n",
    "        for j in range(N):\n",
    "            B[i][j] = A[j][i]\n",
    "\n",
    "\n",
    "# Driver code\n",
    "if __name__ == '__main__':\n",
    "    A = [[1, 1, 1, 1],\n",
    "        [2, 2, 2, 2],\n",
    "        [3, 3, 3, 3],\n",
    "        [4, 4, 4, 4]]\n",
    "\n",
    "\n",
    "    # To store result\n",
    "    B = [[0 for x in range(N)] for y in range(N)]\n",
    "\n",
    "    # Function call\n",
    "    transpose(A, B)\n",
    "\n",
    "    print(\"Result matrix is\")\n",
    "    for i in range(N):\n",
    "        for j in range(N):\n",
    "            print(B[i][j], \" \", end='')\n",
    "        print()"
   ]
  },
  {
   "cell_type": "markdown",
   "id": "3e8518cb",
   "metadata": {},
   "source": [
    "#### Question 4 Given an integer array nums of 2n integers, group these integers into n pairs (a1, b1), (a2, b2), ..., (an, bn) such that the sum of min(ai, bi) for all i is maximized. Return the maximized sum.\n",
    "\n",
    "Example 1:\n",
    "\n",
    "Input: nums = [1,4,3,2]\n",
    "\n",
    "Output: 4\n",
    "\n",
    "Explanation: All possible pairings (ignoring the ordering of elements) are:\n",
    "\n",
    "(1, 4), (2, 3) -> min(1, 4) + min(2, 3) = 1 + 2 = 3\n",
    "\n",
    "(1, 3), (2, 4) -> min(1, 3) + min(2, 4) = 1 + 2 = 3\n",
    "\n",
    "(1, 2), (3, 4) -> min(1, 2) + min(3, 4) = 1 + 3 = 4\n",
    "\n",
    "So the maximum possible sum is 4."
   ]
  },
  {
   "cell_type": "code",
   "execution_count": 25,
   "id": "c4bf2854",
   "metadata": {},
   "outputs": [
    {
     "data": {
      "text/plain": [
       "4"
      ]
     },
     "execution_count": 25,
     "metadata": {},
     "output_type": "execute_result"
    }
   ],
   "source": [
    "class Solution(object):\n",
    "    def arrayPairSum(self, nums):\n",
    "        \"\"\"\n",
    "        :type nums: List[int]\n",
    "        :rtype: int\n",
    "        \"\"\"\n",
    "        nums.sort()\n",
    "        result = 0\n",
    "        numsLen = len(nums)\n",
    "        for i in range(0, numsLen - 1, 2):\n",
    "            result += nums[i]\n",
    "        return result\n",
    "    \n",
    "s = Solution()\n",
    "nums =  [1,4,3,2]\n",
    "s.arrayPairSum(nums)"
   ]
  },
  {
   "cell_type": "markdown",
   "id": "79a669cf",
   "metadata": {},
   "source": [
    "#### Question 5 \n",
    "You have n coins and you want to build a staircase with these coins. The staircase consists of k rows where the ith row has exactly i coins. The last row of the staircase may be incomplete.\n",
    "\n",
    "Given the integer n, return the number of complete rows* of the staircase you will build*.\n",
    "\n",
    "Input: n = 5\n",
    "\n",
    "Output: 2\n",
    "\n",
    "Explanation: Because the 3rd row is incomplete, we return 2."
   ]
  },
  {
   "cell_type": "code",
   "execution_count": 26,
   "id": "ae8eba9b",
   "metadata": {},
   "outputs": [
    {
     "data": {
      "text/plain": [
       "2"
      ]
     },
     "execution_count": 26,
     "metadata": {},
     "output_type": "execute_result"
    }
   ],
   "source": [
    "class Solution:\n",
    "    def arrangeCoins(self, n: int) -> int:\n",
    "        rows = 0\n",
    "        i = 1\n",
    "        \n",
    "        while n >= i:\n",
    "            n-=i\n",
    "            rows+=1\n",
    "            i+=1\n",
    "               \n",
    "        return rows\n",
    "    \n",
    "s = Solution()\n",
    "n = 5\n",
    "s.arrangeCoins(n) "
   ]
  },
  {
   "cell_type": "markdown",
   "id": "2ff64420",
   "metadata": {},
   "source": [
    "#### Question 6\n",
    "\n",
    "Given an integer array nums sorted in non-decreasing order, return an array of the squares of each number* sorted in non-decreasing order*.\n",
    "\n",
    "Example 1:\n",
    "\n",
    "Input: nums = [-4,-1,0,3,10]\n",
    "\n",
    "Output: [0,1,9,16,100]\n",
    "\n",
    "Explanation: After squaring, the array becomes [16,1,0,9,100]. After sorting, it becomes [0,1,9,16,100]"
   ]
  },
  {
   "cell_type": "code",
   "execution_count": 27,
   "id": "74523207",
   "metadata": {},
   "outputs": [
    {
     "name": "stdout",
     "output_type": "stream",
     "text": [
      "Before sort\n",
      "-6 -3 -1 2 4 5 \n",
      "\n",
      "After sort\n",
      "1 4 9 16 25 36 "
     ]
    }
   ],
   "source": [
    "def sortSquare(arr, n):\n",
    "\n",
    "    # First convert each array\n",
    "    # elements into its square\n",
    "    for i in range(n):\n",
    "        arr[i]= arr[i] * arr[i]\n",
    "    arr.sort()\n",
    "\n",
    "arr = [-6, -3, -1, 2, 4, 5]\n",
    "n = len(arr)\n",
    "\n",
    "print(\"Before sort\")\n",
    "for i in range(n):\n",
    "    print(arr[i], end = \" \")\n",
    "\n",
    "print(\"\\n\")\n",
    "\n",
    "sortSquare(arr, n)\n",
    "\n",
    "print(\"After sort\")\n",
    "for i in range(n):\n",
    "    print(arr[i], end = \" \")"
   ]
  },
  {
   "cell_type": "markdown",
   "id": "dc8fd028",
   "metadata": {},
   "source": [
    "#### Question 7 \n",
    "\n",
    "You are given an m x n matrix M initialized with all 0's and an array of operations ops, where ops[i] = [ai, bi] means M[x][y] should be incremented by one for all 0 <= x < ai and 0 <= y < bi.\n",
    "\n",
    "Count and return the number of maximum integers in the matrix after performing all the operations\n",
    "\n",
    "Example 1:\n",
    "\n",
    "Input: m = 3, n = 3, ops = [[2,2],[3,3]]\n",
    "\n",
    "Output: 4\n",
    "\n",
    "Explanation: The maximum integer in M is 2, and there are four of it in M. So return 4."
   ]
  },
  {
   "cell_type": "code",
   "execution_count": 31,
   "id": "2303c2d5",
   "metadata": {},
   "outputs": [
    {
     "data": {
      "text/plain": [
       "4"
      ]
     },
     "execution_count": 31,
     "metadata": {},
     "output_type": "execute_result"
    }
   ],
   "source": [
    "class Solution:\n",
    "    def maxCount(self, m: int, n: int, ops: List[List[int]]) -> int:\n",
    "        for r,c in ops:\n",
    "            # expand and shrink the matrix size (bottom-right boundry of matrix) based on the current operation\n",
    "            m = min(m,r)\n",
    "            n = min(c,n)\n",
    "        # total number of elements will be multiplication of bottom and right boundry asssming left and top boundry is 0,0\n",
    "        return m*n\n",
    "    \n",
    "s = Solution()\n",
    "m = 3\n",
    "n = 3\n",
    "ops = [[2,2],[3,3]]\n",
    "s.maxCount(m,n,ops)"
   ]
  },
  {
   "cell_type": "markdown",
   "id": "66b5e20d",
   "metadata": {},
   "source": [
    "#### Question 8\n",
    "\n",
    "Given the array nums consisting of 2n elements in the form [x1,x2,...,xn,y1,y2,...,yn].\n",
    "\n",
    "Return the array in the form [x1,y1,x2,y2,...,xn,yn].\n",
    "\n",
    "Example 1:\n",
    "\n",
    "Input: nums = [2,5,1,3,4,7], n = 3\n",
    "\n",
    "Output: [2,3,5,4,1,7]\n",
    "\n",
    "Explanation: Since x1=2, x2=5, x3=1, y1=3, y2=4, y3=7 then the answer is [2,3,5,4,1,7]."
   ]
  },
  {
   "cell_type": "code",
   "execution_count": null,
   "id": "d07c7cf9",
   "metadata": {},
   "outputs": [],
   "source": []
  }
 ],
 "metadata": {
  "kernelspec": {
   "display_name": "Python 3 (ipykernel)",
   "language": "python",
   "name": "python3"
  },
  "language_info": {
   "codemirror_mode": {
    "name": "ipython",
    "version": 3
   },
   "file_extension": ".py",
   "mimetype": "text/x-python",
   "name": "python",
   "nbconvert_exporter": "python",
   "pygments_lexer": "ipython3",
   "version": "3.10.9"
  }
 },
 "nbformat": 4,
 "nbformat_minor": 5
}
