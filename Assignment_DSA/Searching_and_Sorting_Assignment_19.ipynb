{
 "cells": [
  {
   "cell_type": "markdown",
   "id": "c2476fd0",
   "metadata": {},
   "source": [
    " 1. **Merge k Sorted Lists**\n",
    "\n",
    "You are given an array of `k` linked-lists `lists`, each linked-list is sorted in ascending order.\n",
    "\n",
    "*Merge all the linked-lists into one sorted linked-list and return it.*\n",
    "\n",
    "**Example 1:**\n",
    "\n",
    "</aside>"
   ]
  },
  {
   "cell_type": "markdown",
   "id": "ab976f06",
   "metadata": {},
   "source": [
    "Input: lists = [[1,4,5],[1,3,4],[2,6]]\n",
    "\n",
    "\n",
    "Output: [1,1,2,3,4,4,5,6]\n",
    "\n",
    "\n",
    "\n",
    "Explanation: The linked-lists are:\n",
    "\n",
    "\n",
    "[\n",
    "  1->4->5,\n",
    "  1->3->4,\n",
    "  2->6\n",
    "]\n",
    "\n",
    "\n",
    "\n",
    "merging them into one sorted list:\n",
    "\n",
    "\n",
    "\n",
    "1->1->2->3->4->4->5->6\n"
   ]
  },
  {
   "cell_type": "markdown",
   "id": "d3ea321b",
   "metadata": {},
   "source": [
    "#### Example 2:\n",
    "\n",
    "Input: lists = []\n",
    "    \n",
    "    \n",
    "    \n",
    "Output: []\n"
   ]
  },
  {
   "cell_type": "markdown",
   "id": "14396e7e",
   "metadata": {},
   "source": [
    "#### Example 3:\n",
    "\n",
    "Input: lists = [[]]\n",
    "    \n",
    "    \n",
    "    \n",
    "    \n",
    "Output: []\n"
   ]
  },
  {
   "cell_type": "markdown",
   "id": "bfe3c228",
   "metadata": {},
   "source": [
    "**Constraints:**\n",
    "\n",
    "- `k == lists.length`\n",
    "- `0 <= k <= 10000`\n",
    "- `0 <= lists[i].length <= 500`\n",
    "- `-10000 <= lists[i][j] <= 10000`\n",
    "- `lists[i]` is sorted in **ascending order**.\n",
    "- The sum of `lists[i].length` will not exceed `10000`."
   ]
  },
  {
   "cell_type": "code",
   "execution_count": 16,
   "id": "b2270c1e",
   "metadata": {},
   "outputs": [],
   "source": [
    "from typing import List\n",
    "\n",
    "class ListNode:\n",
    "    def __init__(self, val):\n",
    "        self.val =val\n",
    "        self.next = None\n",
    "        \n",
    "\n",
    "class MergeKSortedList:\n",
    "    def mergeKLists(self, lists: List[ListNode]) -> ListNode:\n",
    "        # Base condition\n",
    "        if lists is None or len(lists) == 0:\n",
    "            return None\n",
    "        return self.mergeLists(lists, 0, len(lists) - 1)\n",
    "\n",
    "    def mergeLists(self, lists, start, end):\n",
    "        # Base condition\n",
    "        if start == end:\n",
    "            return lists[start]\n",
    "        # Mid of lists of lists\n",
    "        mid = start + (end - start) // 2\n",
    "        # Recursive calls for left sublist\n",
    "        left = self.mergeLists(lists, start, mid)\n",
    "        # Recursive call for right sublist\n",
    "        right = self.mergeLists(lists, mid + 1, end)\n",
    "        # Merge these sorted lists\n",
    "        return self.merge(left, right)\n",
    "\n",
    "    @staticmethod\n",
    "    def merge(left, right):\n",
    "        # Dummy node\n",
    "        head = ListNode(-1)\n",
    "        # Temp node\n",
    "        temp = head\n",
    "        # Loop until any of the lists becomes null\n",
    "        while left is not None and right is not None:\n",
    "            # Choose the smaller value from left and right lists\n",
    "            if left.val < right.val:\n",
    "                temp.next = left\n",
    "                left = left.next\n",
    "            else:\n",
    "                temp.next = right\n",
    "                right = right.next\n",
    "            temp = temp.next\n",
    "        # Take all nodes from left list if remaining\n",
    "        while left is not None:\n",
    "            temp.next = left\n",
    "            left = left.next\n",
    "            temp = temp.next\n",
    "        # Take all nodes from right list if remaining\n",
    "        while right is not None:\n",
    "            temp.next = right\n",
    "            right = right.next\n",
    "            temp = temp.next\n",
    "        return head.next"
   ]
  },
  {
   "cell_type": "markdown",
   "id": "de3a4fe8",
   "metadata": {},
   "source": [
    " 2. **Count of Smaller Numbers After Self**\n",
    "\n",
    "Given an integer array `nums`, return *an integer array* `counts` *where* `counts[i]` *is the number of smaller elements to the right of* `nums[i]`.\n",
    "\n",
    "**Example 1:**\n",
    "\n",
    "</aside>"
   ]
  },
  {
   "cell_type": "markdown",
   "id": "e08fdbef",
   "metadata": {},
   "source": [
    "Input: nums = [5,2,6,1]\n",
    "    \n",
    "    \n",
    "Output: [2,1,1,0]\n",
    "    \n",
    "    \n",
    "    \n",
    "Explanation:\n",
    "    \n",
    "    \n",
    "To the right of 5 there are2 smaller elements (2 and 1).\n",
    "\n",
    "\n",
    "To the right of 2 there is only1 smaller element (1).\n",
    "\n",
    "\n",
    "To the right of 6 there is1 smaller element (1).\n",
    "\n",
    "\n",
    "To the right of 1 there is0 smaller element.\n"
   ]
  },
  {
   "cell_type": "markdown",
   "id": "541d288d",
   "metadata": {},
   "source": [
    "**Constraints:**\n",
    "\n",
    "- `1 <= nums.length <= 100000`\n",
    "- `-10000 <= nums[i] <= 10000`"
   ]
  },
  {
   "cell_type": "code",
   "execution_count": 17,
   "id": "d16881af",
   "metadata": {},
   "outputs": [
    {
     "name": "stdout",
     "output_type": "stream",
     "text": [
      "-1 -1\n",
      "0 0\n"
     ]
    }
   ],
   "source": [
    "from typing import List\n",
    "\n",
    "def count_smaller(nums: List[int]) -> List[int]:\n",
    "    smaller_arr = [0] * len(nums)\n",
    "    def merge_sort(nums):\n",
    "        if len(nums) <= 1:\n",
    "            return nums\n",
    "        mid = len(nums) // 2\n",
    "        left = merge_sort(nums[:mid])\n",
    "        right = merge_sort(nums[mid:])\n",
    "        return merge(left, right)\n",
    "\n",
    "    def merge(left, right):\n",
    "        result = []\n",
    "        l, r = 0, 0\n",
    "        while l < len(left) or r < len(right):\n",
    "            if r >= len(right) or (l < len(left) and left[l][1] <= right[r][1]):\n",
    "                result.append(left[l])\n",
    "                smaller_arr[left[l][0]] += r\n",
    "                l += 1\n",
    "            else:\n",
    "                result.append(right[r])\n",
    "                r += 1\n",
    "        return result\n",
    "\n",
    "    merge_sort(list(enumerate(nums)))\n",
    "    return smaller_arr\n",
    "\n",
    "if __name__ == '__main__':\n",
    "    nums = [int(x) for x in input().split()]\n",
    "    res = count_smaller(nums)\n",
    "    print(' '.join(map(str, res)))"
   ]
  },
  {
   "cell_type": "markdown",
   "id": "9e733efa",
   "metadata": {},
   "source": [
    "#### 3. Sort an Array\n",
    "Given an array of integers nums, sort the array in ascending order and return it.\n",
    "\n",
    "You must solve the problem without using any built-in functions in O(nlog(n)) time complexity and with the smallest space complexity possible.\n",
    "\n",
    "#### Example 1:\n",
    "\n",
    "Input: nums = [5,2,3,1]\n",
    "\n",
    "\n",
    "Output: [1,2,3,5]\n",
    "\n",
    "\n",
    "Explanation: After sorting the array, the positions of some numbers are not changed (for example, 2 and 3), while the positions of other numbers are changed (for example, 1 and 5).\n",
    "\n",
    "##### Example 2:\n",
    "\n",
    "Input: nums = [5,1,1,2,0,0]\n",
    "Output: [0,0,1,1,2,5]\n",
    "Explanation: Note that the values of nums are not necessairly unique.\n",
    "\n",
    "#### Constraints:\n",
    "\n",
    "+ 1 <= nums.length <= 5 * 10000\n",
    "+ -5 * 104 <= nums[i] <= 5 * 10000"
   ]
  },
  {
   "cell_type": "code",
   "execution_count": 23,
   "id": "e9b78720",
   "metadata": {},
   "outputs": [],
   "source": [
    "class Solution:\n",
    "    def sortArray(self, nums: List[int]) -> List[int]:\n",
    "        def merge_sort(l, r):\n",
    "            if l >= r:\n",
    "                return\n",
    "            mid = (l + r) >> 1\n",
    "            merge_sort(l, mid)\n",
    "            merge_sort(mid + 1, r)\n",
    "            i, j = l, mid + 1\n",
    "            tmp = []\n",
    "            while i <= mid and j <= r:\n",
    "                if nums[i] <= nums[j]:\n",
    "                    tmp.append(nums[i])\n",
    "                    i += 1\n",
    "                else:\n",
    "                    tmp.append(nums[j])\n",
    "                    j += 1\n",
    "            if i <= mid:\n",
    "                tmp.extend(nums[i : mid + 1])\n",
    "            if j <= r:\n",
    "                tmp.extend(nums[j : r + 1])\n",
    "            for i in range(l, r + 1):\n",
    "                nums[i] = tmp[i - l]\n",
    "\n",
    "        merge_sort(0, len(nums) - 1)\n",
    "        return nums"
   ]
  },
  {
   "cell_type": "markdown",
   "id": "a8c1be09",
   "metadata": {},
   "source": [
    " 4. **Move all zeroes to end of array**\n",
    "\n",
    "Given an array of random numbers, Push all the zero’s of a given array to the end of the array. For example, if the given arrays is {1, 9, 8, 4, 0, 0, 2, 7, 0, 6, 0}, it should be changed to {1, 9, 8, 4, 2, 7, 6, 0, 0, 0, 0}. The order of all other elements should be same. Expected time complexity is O(n) and extra space is O(1).\n",
    "\n",
    "**Example:**\n",
    "\n",
    "</aside>"
   ]
  },
  {
   "cell_type": "markdown",
   "id": "aedb252d",
   "metadata": {},
   "source": [
    "Input :  arr[] = {1, 2, 0, 4, 3, 0, 5, 0};\n",
    "    \n",
    "Output : arr[] = {1, 2, 4, 3, 5, 0, 0, 0};\n",
    "    \n",
    "    \n",
    "\n",
    "Input : arr[]  = {1, 2, 0, 0, 0, 3, 6};\n",
    "    \n",
    "    \n",
    "    \n",
    "Output : arr[] = {1, 2, 3, 6, 0, 0, 0};"
   ]
  },
  {
   "cell_type": "code",
   "execution_count": 24,
   "id": "cd793593",
   "metadata": {},
   "outputs": [
    {
     "name": "stdout",
     "output_type": "stream",
     "text": [
      "[6, 8, 2, 3, 4, 1, 0, 0, 0]\n"
     ]
    }
   ],
   "source": [
    "def reorder(A):\n",
    "    k = 0\n",
    "    for i in A:\n",
    "        if i:\n",
    "            A[k] = i\n",
    "            k = k + 1\n",
    "    for i in range(k, len(A)):\n",
    "        A[i] = 0\n",
    " \n",
    " \n",
    "if __name__ == '__main__':\n",
    "    A = [6, 0, 8, 2, 3, 0, 4, 0, 1]\n",
    "    reorder(A)\n",
    "    print(A)"
   ]
  },
  {
   "cell_type": "markdown",
   "id": "be187c67",
   "metadata": {},
   "source": [
    " **6. Merge two sorted arrays**\n",
    "\n",
    "Given two sorted arrays, the task is to merge them in a sorted manner.\n",
    "\n",
    "**Examples:**\n",
    "\n",
    "> Input: arr1[] = { 1, 3, 4, 5}, arr2[] = {2, 4, 6, 8} \n",
    "\n",
    "\n",
    "\n",
    "Output: arr3[] = {1, 2, 3, 4, 4, 5, 6, 8}\n",
    "\n",
    "Input: arr1[] = { 5, 8, 9}, arr2[] = {4, 7, 8}\n",
    "\n",
    "\n",
    "Output: arr3[] = {4, 5, 7, 8, 8, 9}\n",
    "> \n",
    "</aside>"
   ]
  },
  {
   "cell_type": "code",
   "execution_count": 25,
   "id": "87dfe4a3",
   "metadata": {},
   "outputs": [
    {
     "name": "stdout",
     "output_type": "stream",
     "text": [
      "Array after merging\n",
      "1 2 3 4 5 6 7 8 "
     ]
    }
   ],
   "source": [
    "def mergeArrays(arr1, arr2, n1, n2):\n",
    "    arr3 = [None] * (n1 + n2)\n",
    "    i = 0\n",
    "    j = 0\n",
    "    k = 0\n",
    "\n",
    "    # Traverse both array\n",
    "    while i < n1 and j < n2:\n",
    "    \n",
    "        # Check if current element\n",
    "        # of first array is smaller\n",
    "        # than current element of\n",
    "        # second array. If yes,\n",
    "        # store first array element\n",
    "        # and increment first array\n",
    "        # index. Otherwise do same\n",
    "        # with second array\n",
    "        if arr1[i] < arr2[j]:\n",
    "            arr3[k] = arr1[i]\n",
    "            k = k + 1\n",
    "            i = i + 1\n",
    "        else:\n",
    "            arr3[k] = arr2[j]\n",
    "            k = k + 1\n",
    "            j = j + 1\n",
    "    \n",
    "\n",
    "    # Store remaining elements\n",
    "    # of first array\n",
    "    while i < n1:\n",
    "        arr3[k] = arr1[i];\n",
    "        k = k + 1\n",
    "        i = i + 1\n",
    "\n",
    "    # Store remaining elements\n",
    "    # of second array\n",
    "    while j < n2:\n",
    "        arr3[k] = arr2[j];\n",
    "        k = k + 1\n",
    "        j = j + 1\n",
    "    print(\"Array after merging\")\n",
    "    for i in range(n1 + n2):\n",
    "        print(str(arr3[i]), end = \" \")\n",
    "\n",
    "# Driver code\n",
    "arr1 = [1, 3, 5, 7]\n",
    "n1 = len(arr1)\n",
    "\n",
    "arr2 = [2, 4, 6, 8]\n",
    "n2 = len(arr2)\n",
    "mergeArrays(arr1, arr2, n1, n2)"
   ]
  },
  {
   "cell_type": "markdown",
   "id": "bcb87c0c",
   "metadata": {},
   "source": [
    " 7. **Intersection of Two Arrays**\n",
    "\n",
    "Given two integer arrays `nums1` and `nums2`, return *an array of their intersection*. Each element in the result must be **unique** and you may return the result in **any order**.\n",
    "\n",
    "**Example 1:**\n",
    "\n",
    "</aside>"
   ]
  },
  {
   "cell_type": "markdown",
   "id": "e6ed5f42",
   "metadata": {},
   "source": [
    "Input: nums1 = [1,2,2,1], nums2 = [2,2]\n",
    "    \n",
    "    \n",
    "    \n",
    "Output: [2]\n"
   ]
  },
  {
   "cell_type": "markdown",
   "id": "686084bc",
   "metadata": {},
   "source": [
    "**Constraints:**\n",
    "\n",
    "- `1 <= nums1.length, nums2.length <= 1000`\n",
    "\n",
    "\n",
    "- `0 <= nums1[i], nums2[i] <= 1000`"
   ]
  },
  {
   "cell_type": "code",
   "execution_count": 35,
   "id": "634a0f7e",
   "metadata": {},
   "outputs": [],
   "source": [
    "def arrayIntersection(nums1, nums2):\n",
    "    intersection = []\n",
    "    m = len(nums1)\n",
    "    n = len(nums2)\n",
    "    for i in range(m):\n",
    "        for j in range(n):\n",
    "            if nums1[i] == nums2[j]:\n",
    "                intersection.appenf(nums1[i])\n",
    "                break\n",
    "    return intersection"
   ]
  },
  {
   "cell_type": "markdown",
   "id": "21489064",
   "metadata": {},
   "source": [
    " 8. **Intersection of Two Arrays II**\n",
    "\n",
    "Given two integer arrays `nums1` and `nums2`, return *an array of their intersection*. Each element in the result must appear as many times as it shows in both arrays and you may return the result in **any order**.\n",
    "\n",
    "**Example 1:**\n",
    "\n",
    "</aside>"
   ]
  },
  {
   "cell_type": "markdown",
   "id": "ac8720d6",
   "metadata": {},
   "source": [
    "Input: nums1 = [1,2,2,1], nums2 = [2,2]\n",
    "    \n",
    "    \n",
    "Output: [2,2]\n"
   ]
  },
  {
   "cell_type": "markdown",
   "id": "f8f4f141",
   "metadata": {},
   "source": [
    "**Constraints:**\n",
    "\n",
    "- `1 <= nums1.length, nums2.length <= 1000`\n",
    "- `0 <= nums1[i], nums2[i] <= 1000`"
   ]
  },
  {
   "cell_type": "code",
   "execution_count": null,
   "id": "72d648ea",
   "metadata": {},
   "outputs": [],
   "source": []
  }
 ],
 "metadata": {
  "kernelspec": {
   "display_name": "Python 3 (ipykernel)",
   "language": "python",
   "name": "python3"
  },
  "language_info": {
   "codemirror_mode": {
    "name": "ipython",
    "version": 3
   },
   "file_extension": ".py",
   "mimetype": "text/x-python",
   "name": "python",
   "nbconvert_exporter": "python",
   "pygments_lexer": "ipython3",
   "version": "3.10.9"
  }
 },
 "nbformat": 4,
 "nbformat_minor": 5
}
