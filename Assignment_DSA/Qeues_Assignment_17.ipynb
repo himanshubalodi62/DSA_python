{
 "cells": [
  {
   "cell_type": "markdown",
   "id": "d70acc26",
   "metadata": {},
   "source": [
    " **Question 1**\n",
    "\n",
    "Given a string `s`, *find the first non-repeating character in it and return its index*. If it does not exist, return `-1`.\n",
    "\n",
    "**Example 1:**\n",
    "\n",
    "\n"
   ]
  },
  {
   "cell_type": "markdown",
   "id": "c620e857",
   "metadata": {},
   "source": [
    "Input: s = \"leetcode\"\n",
    "    \n",
    "Output: 0\n"
   ]
  },
  {
   "cell_type": "markdown",
   "id": "7b8ce113",
   "metadata": {},
   "source": [
    "#### Example 2:\n",
    "\n",
    "Input: s = \"loveleetcode\"\n",
    "    \n",
    "    \n",
    "    \n",
    "Output: 2\n"
   ]
  },
  {
   "cell_type": "markdown",
   "id": "e7d7ea34",
   "metadata": {},
   "source": [
    "#### Example 3:\n",
    "\n",
    "Input: s = \"aabb\"\n",
    "    \n",
    "Output: -1"
   ]
  },
  {
   "cell_type": "code",
   "execution_count": 4,
   "id": "2b472afa",
   "metadata": {},
   "outputs": [],
   "source": [
    "def firstNotRepeatingCharacter(s):\n",
    "    hash_map = {}\n",
    "    for i in s:\n",
    "        if i not in hash_map:\n",
    "            hash_map[i] = 1\n",
    "        else: \n",
    "            hash_map[i] += 1\n",
    "            \n",
    "    for i,n in enumerate(s):\n",
    "        pass\n",
    "s = \"loveleetcode\"\n",
    "firstNotRepeatingCharacter(s)"
   ]
  },
  {
   "cell_type": "code",
   "execution_count": 5,
   "id": "4e808117",
   "metadata": {},
   "outputs": [],
   "source": [
    "def firstUniqChar(s):\n",
    "    char_count = {}  # dictionary to store character counts\n",
    "\n",
    "    # Count occurrences of each character\n",
    "    for char in s:\n",
    "        if char in char_count:\n",
    "            char_count[char] += 1\n",
    "        else:\n",
    "            char_count[char] = 1\n",
    "\n",
    "    # Find the first non-repeating character and return its index\n",
    "    for i, char in enumerate(s):\n",
    "        if char_count[char] == 1:\n",
    "            return i\n",
    "\n",
    "    # If no non-repeating character found, return -1\n",
    "    return -1"
   ]
  },
  {
   "cell_type": "markdown",
   "id": "5d87a819",
   "metadata": {},
   "source": [
    " **Question 2**\n",
    "\n",
    "Given a **circular integer array** `nums` of length `n`, return *the maximum possible sum of a non-empty **subarray** of* `nums`.\n",
    "\n",
    "A **circular array** means the end of the array connects to the beginning of the array. Formally, the next element of `nums[i]` is `nums[(i + 1) % n]` and the previous element of `nums[i]` is `nums[(i - 1 + n) % n]`.\n",
    "\n",
    "A **subarray** may only include each element of the fixed buffer `nums` at most once. Formally, for a subarray `nums[i], nums[i + 1], ..., nums[j]`, there does not exist `i <= k1`, `k2 <= j` with `k1 % n == k2 % n`.\n",
    "\n",
    "**Example 1:**\n",
    "\n",
    "</aside>"
   ]
  },
  {
   "cell_type": "markdown",
   "id": "609bf284",
   "metadata": {},
   "source": [
    "Input: nums = [1,-2,3,-2]\n",
    "    \n",
    "    \n",
    "Output: 3\n",
    "    \n",
    "    \n",
    "Explanation: Subarray [3] has maximum sum 3.\n"
   ]
  },
  {
   "cell_type": "markdown",
   "id": "da31e80d",
   "metadata": {},
   "source": [
    "#### Example 2:\n",
    "\n",
    "Input: nums = [5,-3,5]\n",
    "    \n",
    "    \n",
    "Output: 10\n",
    "    \n",
    "    \n",
    "Explanation: Subarray [5,5] has maximum sum 5 + 5 = 10.\n"
   ]
  },
  {
   "cell_type": "markdown",
   "id": "4d86db8e",
   "metadata": {},
   "source": [
    "#### Example 3:\n",
    "\n",
    "Input: nums = [-3,-2,-3]\n",
    "    \n",
    "    \n",
    "Output: -2\n",
    "    \n",
    "    \n",
    "Explanation: Subarray [-2] has maximum sum -2."
   ]
  },
  {
   "cell_type": "code",
   "execution_count": 6,
   "id": "605184fe",
   "metadata": {},
   "outputs": [
    {
     "data": {
      "text/plain": [
       "3"
      ]
     },
     "execution_count": 6,
     "metadata": {},
     "output_type": "execute_result"
    }
   ],
   "source": [
    "from typing import List\n",
    "\n",
    "class Solution:\n",
    "    def maxSubarraySumCircular(self, nums: List[int]) -> int:\n",
    "        s1 = s2 = f1 = f2 = nums[0]\n",
    "        for num in nums[1:]:\n",
    "            f1 = num + max(f1, 0)\n",
    "            f2 = num + min(f2, 0)\n",
    "            s1 = max(s1, f1)\n",
    "            s2 = min(s2, f2)\n",
    "        return s1 if s1 <= 0 else max(s1, sum(nums) - s2)\n",
    "    \n",
    "    \n",
    "nums = [1,-2,3,-2]\n",
    "\n",
    "s = Solution()\n",
    "s.maxSubarraySumCircular(nums)"
   ]
  },
  {
   "cell_type": "markdown",
   "id": "f652f053",
   "metadata": {},
   "source": [
    " **Question 3**\n",
    "\n",
    "The school cafeteria offers circular and square sandwiches at lunch break, referred to by numbers `0` and `1` respectively. All students stand in a queue. Each student either prefers square or circular sandwiches.\n",
    "\n",
    "The number of sandwiches in the cafeteria is equal to the number of students. The sandwiches are placed in a **stack**. At each step:\n",
    "\n",
    "- If the student at the front of the queue **prefers** the sandwich on the top of the stack, they will **take it** and leave the queue.\n",
    "- Otherwise, they will **leave it** and go to the queue's end.\n",
    "\n",
    "This continues until none of the queue students want to take the top sandwich and are thus unable to eat.\n",
    "\n",
    "You are given two integer arrays `students` and `sandwiches` where `sandwiches[i]` is the type of the `ith` sandwich in the stack (`i = 0` is the top of the stack) and `students[j]` is the preference of the `jth` student in the initial queue (`j = 0` is the front of the queue). Return *the number of students that are unable to eat.*\n",
    "\n",
    "**Example 1:**\n",
    "\n",
    "</aside>"
   ]
  },
  {
   "cell_type": "markdown",
   "id": "275c8e77",
   "metadata": {},
   "source": [
    "Input: students = [1,1,0,0], sandwiches = [0,1,0,1]\n",
    "\n",
    "\n",
    "Output: 0\n",
    "\n",
    "\n",
    "\n",
    "Explanation:\n",
    "- Front student leaves the top sandwich and returns to the end of the line making students = [1,0,0,1].\n",
    "- Front student leaves the top sandwich and returns to the end of the line making students = [0,0,1,1].\n",
    "- Front student takes the top sandwich and leaves the line making students = [0,1,1] and sandwiches = [1,0,1].\n",
    "- Front student leaves the top sandwich and returns to the end of the line making students = [1,1,0].\n",
    "- Front student takes the top sandwich and leaves the line making students = [1,0] and sandwiches = [0,1].\n",
    "- Front student leaves the top sandwich and returns to the end of the line making students = [0,1].\n",
    "- Front student takes the top sandwich and leaves the line making students = [1] and sandwiches = [1].\n",
    "- Front student takes the top sandwich and leaves the line making students = [] and sandwiches = [].\n",
    "Hence all students are able to eat.\n"
   ]
  },
  {
   "cell_type": "markdown",
   "id": "644a2988",
   "metadata": {},
   "source": [
    "#### Example 2:\n",
    "\n",
    "Input: students = [1,1,1,0,0,1], sandwiches = [1,0,0,0,1,1]\n",
    "    \n",
    "    \n",
    "Output: 3"
   ]
  },
  {
   "cell_type": "code",
   "execution_count": 7,
   "id": "77799add",
   "metadata": {},
   "outputs": [],
   "source": [
    "from collections import deque\n",
    "\n",
    "def countStudents(students, sandwiches):\n",
    "    qStudents = deque(students)\n",
    "\n",
    "    topPositionOfSandwich = 0\n",
    "    numStudentsUnableEat = 0\n",
    "    while qStudents and numStudentsUnableEat < len(qStudents):\n",
    "        if sandwiches[topPositionOfSandwich] == qStudents[0]:\n",
    "            numStudentsUnableEat = 0\n",
    "\n",
    "            topPositionOfSandwich += 1\n",
    "            qStudents.popleft()\n",
    "        else:\n",
    "            numStudentsUnableEat += 1\n",
    "\n",
    "            qStudents.append(qStudents.popleft())\n",
    "\n",
    "    return numStudentsUnableEat"
   ]
  },
  {
   "cell_type": "markdown",
   "id": "069169cc",
   "metadata": {},
   "source": [
    "**Question 4**\n",
    "\n",
    "You have a `RecentCounter` class which counts the number of recent requests within a certain time frame.\n",
    "\n",
    "Implement the `RecentCounter` class:\n",
    "\n",
    "- `RecentCounter()` Initializes the counter with zero recent requests.\n",
    "- `int ping(int t)` Adds a new request at time `t`, where `t` represents some time in milliseconds, and returns the number of requests that has happened in the past `3000` milliseconds (including the new request). Specifically, return the number of requests that have happened in the inclusive range `[t - 3000, t]`.\n",
    "\n",
    "It is **guaranteed** that every call to `ping` uses a strictly larger value of `t` than the previous call.\n",
    "\n",
    "</aside>"
   ]
  },
  {
   "cell_type": "markdown",
   "id": "6dd6e908",
   "metadata": {},
   "source": [
    "#### Example 1:\n",
    "\n",
    "Input\n",
    "\n",
    "\n",
    "[\"RecentCounter\", \"ping\", \"ping\", \"ping\", \"ping\"]\n",
    "\n",
    "\n",
    "[[], [1], [100], [3001], [3002]]\n",
    "\n",
    "\n",
    "\n",
    "Output\n",
    "\n",
    "\n",
    "[null, 1, 2, 3, 3]\n",
    "\n",
    "\n",
    "\n",
    "Explanation\n",
    "RecentCounter recentCounter = new RecentCounter();\n",
    "recentCounter.ping(1);     // requests = [1], range is [-2999,1], return 1\n",
    "recentCounter.ping(100);   // requests = [1,100], range is [-2900,100], return 2\n",
    "recentCounter.ping(3001);  // requests = [1,100,3001], range is [1,3001], return 3\n",
    "recentCounter.ping(3002);  // requests = [1,100,3001,3002], range is [2,3002], return 3"
   ]
  },
  {
   "cell_type": "code",
   "execution_count": 8,
   "id": "8de767aa",
   "metadata": {},
   "outputs": [],
   "source": [
    "class RecentCounter:\n",
    "    def __init__(self):\n",
    "        self.q = deque()\n",
    "\n",
    "    def ping(self, t: int) -> int:\n",
    "        self.q.append(t)\n",
    "        while self.q[0] < t - 3000:\n",
    "            self.q.popleft()\n",
    "        return len(self.q)"
   ]
  },
  {
   "cell_type": "markdown",
   "id": "9d09ea6f",
   "metadata": {},
   "source": [
    " **Question 5**\n",
    "\n",
    "There are `n` friends that are playing a game. The friends are sitting in a circle and are numbered from `1` to `n` in **clockwise order**. More formally, moving clockwise from the `ith` friend brings you to the `(i+1)th` friend for `1 <= i < n`, and moving clockwise from the `nth` friend brings you to the `1st` friend.\n",
    "\n",
    "The rules of the game are as follows:\n",
    "\n",
    "1. **Start** at the `1st` friend.\n",
    "2. Count the next `k` friends in the clockwise direction **including** the friend you started at. The counting wraps around the circle and may count some friends more than once.\n",
    "3. The last friend you counted leaves the circle and loses the game.\n",
    "4. If there is still more than one friend in the circle, go back to step `2` **starting** from the friend **immediately clockwise** of the friend who just lost and repeat.\n",
    "5. Else, the last friend in the circle wins the game.\n",
    "\n",
    "Given the number of friends, `n`, and an integer `k`, return *the winner of the game*.\n",
    "\n",
    "**Example 1:**\n",
    "\n",
    "</aside>"
   ]
  },
  {
   "cell_type": "markdown",
   "id": "5948b208",
   "metadata": {},
   "source": [
    "<img src=\"https://pwskills.notion.site/image/https%3A%2F%2Fassets.leetcode.com%2Fuploads%2F2021%2F03%2F25%2Fic234-q2-ex11.png?id=9068de64-0d37-4886-8923-96261f825bd5&table=block&spaceId=6fae2e0f-dedc-48e9-bc59-af2654c78209&width=1000&userId=&cache=v2\" width=\"800\" height=\"300\"/>"
   ]
  },
  {
   "cell_type": "markdown",
   "id": "a415ba3e",
   "metadata": {},
   "source": [
    "Input: n = 5, k = 2\n",
    "\n",
    "\n",
    "Output: 3\n",
    "\n",
    "\n",
    "Explanation: Here are the steps of the game:\n",
    "\n",
    "\n",
    "\n",
    "1) Start at friend 1.\n",
    "2) Count 2 friends clockwise, which are friends 1 and 2.\n",
    "3) Friend 2 leaves the circle. Next start is friend 3.\n",
    "4) Count 2 friends clockwise, which are friends 3 and 4.\n",
    "5) Friend 4 leaves the circle. Next start is friend 5.\n",
    "6) Count 2 friends clockwise, which are friends 5 and 1.\n",
    "7) Friend 1 leaves the circle. Next start is friend 3.\n",
    "8) Count 2 friends clockwise, which are friends 3 and 5.\n",
    "9) Friend 5 leaves the circle. Only friend 3 is left, so they are the winner."
   ]
  },
  {
   "cell_type": "code",
   "execution_count": 9,
   "id": "2ba4f275",
   "metadata": {},
   "outputs": [],
   "source": [
    "class Solution :\n",
    "    def  findTheWinner(self, n,  k) :\n",
    "        return self.findWinnerHelper(n, k - 1) + 1\n",
    "    def  findWinnerHelper(self, n,  k) :\n",
    "        if (n == 1) :\n",
    "            return 0\n",
    "        return ((k + 1) % n + self.findWinnerHelper(n - 1, k)) % n"
   ]
  },
  {
   "cell_type": "markdown",
   "id": "561cb6d1",
   "metadata": {},
   "source": [
    " **Question 6**\n",
    "\n",
    "You are given an integer array `deck`. There is a deck of cards where every card has a unique integer. The integer on the `ith` card is `deck[i]`.\n",
    "\n",
    "You can order the deck in any order you want. Initially, all the cards start face down (unrevealed) in one deck.\n",
    "\n",
    "You will do the following steps repeatedly until all cards are revealed:\n",
    "\n",
    "1. Take the top card of the deck, reveal it, and take it out of the deck.\n",
    "2. If there are still cards in the deck then put the next top card of the deck at the bottom of the deck.\n",
    "3. If there are still unrevealed cards, go back to step 1. Otherwise, stop.\n",
    "\n",
    "Return *an ordering of the deck that would reveal the cards in increasing order*.\n",
    "\n",
    "**Note** that the first entry in the answer is considered to be the top of the deck.\n",
    "\n",
    "**Example 1:**\n",
    "\n",
    "</aside>"
   ]
  },
  {
   "cell_type": "markdown",
   "id": "b1772ea5",
   "metadata": {},
   "source": [
    "Input: deck = [17,13,11,2,3,5,7]\n",
    "\n",
    "\n",
    "Output: [2,13,3,11,5,17,7]\n",
    "\n",
    "\n",
    "Explanation:\n",
    "\n",
    "\n",
    "\n",
    "We get the deck in the order [17,13,11,2,3,5,7] (this order does not matter), and reorder it.\n",
    "After reordering, the deck starts as [2,13,3,11,5,17,7], where 2 is the top of the deck.\n",
    "We reveal 2, and move 13 to the bottom.  The deck is now [3,11,5,17,7,13].\n",
    "We reveal 3, and move 11 to the bottom.  The deck is now [5,17,7,13,11].\n",
    "We reveal 5, and move 17 to the bottom.  The deck is now [7,13,11,17].\n",
    "We reveal 7, and move 13 to the bottom.  The deck is now [11,17,13].\n",
    "We reveal 11, and move 17 to the bottom.  The deck is now [13,17].\n",
    "We reveal 13, and move 17 to the bottom.  The deck is now [17].\n",
    "We reveal 17.\n",
    "Since all the cards revealed are in increasing order, the answer is correct.\n"
   ]
  },
  {
   "cell_type": "markdown",
   "id": "12235b25",
   "metadata": {},
   "source": [
    "#### Example 2:\n",
    "\n",
    "Input: deck = [1,1000]\n",
    "    \n",
    "    \n",
    "Output: [1,1000]"
   ]
  },
  {
   "cell_type": "code",
   "execution_count": 10,
   "id": "7e7e7191",
   "metadata": {},
   "outputs": [],
   "source": [
    "class Solution:\n",
    "      def deckRevealedIncreasing(self, deck: List[int]) -> List[int]:\n",
    "        q = collections.deque()\n",
    "\n",
    "        for card in reversed(sorted(deck)):\n",
    "          q.rotate()\n",
    "          q.appendleft(card)\n",
    "\n",
    "        return list(q)"
   ]
  },
  {
   "cell_type": "markdown",
   "id": "f42f255c",
   "metadata": {},
   "source": [
    " **Question 7**\n",
    "\n",
    "Design a queue that supports `push` and `pop` operations in the front, middle, and back.\n",
    "\n",
    "Implement the `FrontMiddleBack` class:\n",
    "\n",
    "- `FrontMiddleBack()` Initializes the queue.\n",
    "- `void pushFront(int val)` Adds `val` to the **front** of the queue.\n",
    "- `void pushMiddle(int val)` Adds `val` to the **middle** of the queue.\n",
    "- `void pushBack(int val)` Adds `val` to the **back** of the queue.\n",
    "- `int popFront()` Removes the **front** element of the queue and returns it. If the queue is empty, return `1`.\n",
    "- `int popMiddle()` Removes the **middle** element of the queue and returns it. If the queue is empty, return `1`.\n",
    "- `int popBack()` Removes the **back** element of the queue and returns it. If the queue is empty, return `1`.\n",
    "\n",
    "**Notice** that when there are **two** middle position choices, the operation is performed on the **frontmost** middle position choice. For example:\n",
    "\n",
    "- Pushing `6` into the middle of `[1, 2, 3, 4, 5]` results in `[1, 2, 6, 3, 4, 5]`.\n",
    "- Popping the middle from `[1, 2, 3, 4, 5, 6]` returns `3` and results in `[1, 2, 4, 5, 6]`.\n",
    "\n",
    "**Example 1:**\n",
    "\n",
    "</aside>"
   ]
  },
  {
   "cell_type": "markdown",
   "id": "6ec13a35",
   "metadata": {},
   "source": [
    "Input:\n",
    "    \n",
    "    \n",
    "[\"FrontMiddleBackQueue\", \"pushFront\", \"pushBack\", \"pushMiddle\", \"pushMiddle\", \"popFront\", \"popMiddle\", \"popMiddle\", \"popBack\", \"popFront\"]\n",
    "\n",
    "[[], [1], [2], [3], [4], [], [], [], [], []]\n",
    "\n",
    "\n",
    "Output:\n",
    "    \n",
    "    \n",
    "[null, null, null, null, null, 1, 3, 4, 2, -1]\n",
    "\n",
    "Explanation:\n",
    "    \n",
    "    \n",
    "    \n",
    "FrontMiddleBackQueue q = new FrontMiddleBackQueue();\n",
    "q.pushFront(1);   // [1]\n",
    "q.pushBack(2);    // [1,2]\n",
    "q.pushMiddle(3);  // [1,3, 2]\n",
    "q.pushMiddle(4);  // [1,4, 3, 2]\n",
    "q.popFront();     // return 1 -> [4, 3, 2]\n",
    "q.popMiddle();    // return 3 -> [4, 2]\n",
    "q.popMiddle();    // return 4 -> [2]\n",
    "q.popBack();      // return 2 -> []\n",
    "q.popFront();     // return -1 -> [] (The queue is empty)"
   ]
  },
  {
   "cell_type": "code",
   "execution_count": 12,
   "id": "4e6a2fb9",
   "metadata": {},
   "outputs": [],
   "source": [
    "import collections\n",
    "\n",
    "\n",
    "class FrontMiddleBackQueue(object):\n",
    "\n",
    "    def __init__(self):\n",
    "        self.__left, self.__right = collections.deque(), collections.deque()   \n",
    "\n",
    "    def pushFront(self, val):\n",
    "        \"\"\"\n",
    "        :type val: int\n",
    "        :rtype: None\n",
    "        \"\"\"\n",
    "        self.__left.appendleft(val)\n",
    "        self.__balance()        \n",
    "\n",
    "    def pushMiddle(self, val):\n",
    "        \"\"\"\n",
    "        :type val: int\n",
    "        :rtype: None\n",
    "        \"\"\"\n",
    "        if len(self.__left) > len(self.__right):\n",
    "            self.__right.appendleft(self.__left.pop())\n",
    "        self.__left.append(val)\n",
    "\n",
    "    def pushBack(self, val):\n",
    "        \"\"\"\n",
    "        :type val: int\n",
    "        :rtype: None\n",
    "        \"\"\"\n",
    "        self.__right.append(val)\n",
    "        self.__balance()\n",
    "\n",
    "    def popFront(self):\n",
    "        \"\"\"\n",
    "        :rtype: int\n",
    "        \"\"\"\n",
    "        val = (self.__left or collections.deque([-1])).popleft()\n",
    "        self.__balance()\n",
    "        return val\n",
    "\n",
    "    def popMiddle(self):\n",
    "        \"\"\"\n",
    "        :rtype: int\n",
    "        \"\"\"\n",
    "        val = (self.__left or [-1]).pop()\n",
    "        self.__balance()\n",
    "        return val\n",
    "\n",
    "    def popBack(self):\n",
    "        \"\"\"\n",
    "        :rtype: int\n",
    "        \"\"\"\n",
    "        val = (self.__right or self.__left or [-1]).pop()\n",
    "        self.__balance()\n",
    "        return val\n",
    "\n",
    "    def __balance(self):\n",
    "        if len(self.__left) > len(self.__right)+1:\n",
    "            self.__right.appendleft(self.__left.pop())\n",
    "        elif len(self.__left) < len(self.__right):\n",
    "            self.__left.append(self.__right.popleft())"
   ]
  },
  {
   "cell_type": "raw",
   "id": "36b93e73",
   "metadata": {},
   "source": [
    "<aside>\n",
    "💡 **Question 8**\n",
    "\n",
    "For a stream of integers, implement a data structure that checks if the last `k` integers parsed in the stream are **equal** to `value`.\n",
    "\n",
    "Implement the **DataStream** class:\n",
    "\n",
    "- `DataStream(int value, int k)` Initializes the object with an empty integer stream and the two integers `value` and `k`.\n",
    "- `boolean consec(int num)` Adds `num` to the stream of integers. Returns `true` if the last `k` integers are equal to `value`, and `false` otherwise. If there are less than `k` integers, the condition does not hold true, so returns `false`.\n",
    "\n",
    "**Example 1:**\n",
    "\n",
    "</aside>"
   ]
  }
 ],
 "metadata": {
  "kernelspec": {
   "display_name": "Python 3 (ipykernel)",
   "language": "python",
   "name": "python3"
  },
  "language_info": {
   "codemirror_mode": {
    "name": "ipython",
    "version": 3
   },
   "file_extension": ".py",
   "mimetype": "text/x-python",
   "name": "python",
   "nbconvert_exporter": "python",
   "pygments_lexer": "ipython3",
   "version": "3.10.9"
  }
 },
 "nbformat": 4,
 "nbformat_minor": 5
}
